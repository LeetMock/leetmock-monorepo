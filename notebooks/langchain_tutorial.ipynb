{
 "cells": [
  {
   "cell_type": "code",
   "execution_count": null,
   "metadata": {},
   "outputs": [],
   "source": [
    "import asyncio\n",
    "\n",
    "from langchain_core.prompts import PromptTemplate, ChatPromptTemplate, MessagesPlaceholder, SystemMessagePromptTemplate, AIMessagePromptTemplate, HumanMessagePromptTemplate\n",
    "from langchain_core.messages import HumanMessage, AIMessage, SystemMessage, ToolMessage, RemoveMessage, BaseMessage\n",
    "from langchain_core.output_parsers import StrOutputParser, JsonOutputParser\n",
    "from langchain_openai import ChatOpenAI\n",
    "from langchain_core.runnables import RunnableLambda, RunnableSequence, RunnableGenerator, RunnableMap\n",
    "\n",
    "from dotenv import load_dotenv, find_dotenv\n",
    "\n",
    "load_dotenv(find_dotenv())"
   ]
  },
  {
   "cell_type": "markdown",
   "metadata": {},
   "source": [
    "## Define a prompt -> LLM -> Output Parser"
   ]
  },
  {
   "cell_type": "code",
   "execution_count": null,
   "metadata": {},
   "outputs": [],
   "source": [
    "prompt_template = PromptTemplate.from_template(\n",
    "    template=\"\"\"You are a {role} assistant.\n",
    "\n",
    "Question: {question}\n",
    "Answer:\"\"\"\n",
    ")\n",
    "\n",
    "prompt_value = prompt_template.invoke(\n",
    "    {\"role\": \"bad\", \"question\": \"What is the capital of France?\"}\n",
    ")\n",
    "\n",
    "prompt_value"
   ]
  },
  {
   "cell_type": "code",
   "execution_count": null,
   "metadata": {},
   "outputs": [],
   "source": [
    "chat_prompt_tpl = ChatPromptTemplate.from_messages([\n",
    "    SystemMessagePromptTemplate.from_template(\n",
    "        template=\"\"\"You are a {role} assistant. You need to extract the first name and last name of the person from the question.\n",
    "Format into a JSON object with the keys 'first_name' and 'last_name'.\"\"\"\n",
    "    ),\n",
    "    HumanMessage(content=\"Hi my name is John Doe\")\n",
    "])\n",
    "\n",
    "llm = ChatOpenAI(model=\"gpt-4o-mini\", temperature=0)\n",
    "\n",
    "# Step 1: Generate the prompt\n",
    "prompt_value = chat_prompt_tpl.invoke(\n",
    "    {\n",
    "        \"role\": \"bad\",\n",
    "        \"question\": \"What is the capital of France?\",\n",
    "        \"messages\": [AIMessage(content=\"I don't know\")],\n",
    "    }\n",
    ")\n",
    "\n",
    "# Step 2: Generate the LLM call\n",
    "llm_call = await llm.ainvoke(prompt_value)\n",
    "print(llm_call)\n",
    "\n",
    "# Step 3: Parse the LLM call\n",
    "parser = JsonOutputParser()\n",
    "parsed_llm_call = parser.invoke(llm_call)\n",
    "parsed_llm_call[\"first_name\"], parsed_llm_call[\"last_name\"]"
   ]
  },
  {
   "cell_type": "markdown",
   "metadata": {},
   "source": [
    "## Runnable Syntax Suger"
   ]
  },
  {
   "cell_type": "code",
   "execution_count": null,
   "metadata": {},
   "outputs": [],
   "source": [
    "chat_prompt_tpl = ChatPromptTemplate.from_messages(\n",
    "    [\n",
    "        SystemMessagePromptTemplate.from_template(\n",
    "            template=\"\"\"You are a {role} assistant. You need to extract the first name and last name of the person from the question.\n",
    "Format into a JSON object with the keys 'first_name' and 'last_name'.\"\"\"\n",
    "        ),\n",
    "        HumanMessage(content=\"Hi my name is John Doe\"),\n",
    "    ]\n",
    ")\n",
    "\n",
    "llm = ChatOpenAI(model=\"gpt-4o-mini\", temperature=0)\n",
    "\n",
    "parser = JsonOutputParser()\n",
    "\n",
    "\"\"\"\n",
    "chain = RunnableSequence([\n",
    "    chat_prompt_tpl,\n",
    "    llm,\n",
    "    parser\n",
    "])\n",
    "\"\"\"\n",
    "\n",
    "# operator override\n",
    "chain = chat_prompt_tpl | llm | parser\n",
    "\n",
    "\"\"\"\n",
    "def pipe(left, right): ...\n",
    "\n",
    "chain = pipe(pipe(chat_prompt_tpl, llm), parser)\n",
    "\"\"\"\n",
    "\n",
    "result = chain.invoke({\"role\": \"bad\", \"question\": \"What is the capital of France?\"})\n",
    "result"
   ]
  },
  {
   "cell_type": "markdown",
   "metadata": {},
   "source": [
    "## Batching"
   ]
  },
  {
   "cell_type": "code",
   "execution_count": null,
   "metadata": {},
   "outputs": [],
   "source": [
    "results = chain.batch([\n",
    "    {\"role\": \"bad\", \"question\": \"What is the capital of France?\"},\n",
    "    {\"role\": \"helpful\", \"question\": \"What is the capital of Germany?\"},\n",
    "    {\"role\": \"good\", \"question\": \"What is the capital of Italy?\"},\n",
    "])\n",
    "\n",
    "results"
   ]
  },
  {
   "cell_type": "code",
   "execution_count": null,
   "metadata": {},
   "outputs": [],
   "source": [
    "from langchain_core.messages import AIMessageChunk\n",
    "\n",
    "\n",
    "def truncate_text(text: AIMessage):\n",
    "    return text.content[:100]\n",
    "\n",
    "# RunnableGenerator\n",
    "async def truncate_text_stream(iter):\n",
    "    total_length = 0\n",
    "    async for chunk in iter:\n",
    "        if total_length > 200:\n",
    "            break\n",
    "\n",
    "        total_length += len(chunk.content)\n",
    "        yield chunk.content\n",
    "\n",
    "    yield \"END OF TEXT\"\n",
    "\n",
    "# async for chunk in llm.astream(\"Hi, tell me a long story\"):\n",
    "#     print(chunk.content, end=\"\")\n",
    "\n",
    "def capitalize(text: AIMessage):\n",
    "    return text.content.upper()\n",
    "\n",
    "async def capitalize_stream(iter):\n",
    "    async for chunk in iter:\n",
    "        yield chunk.content.upper()\n",
    "\n",
    "chain_1 = llm | RunnableGenerator(truncate_text_stream)\n",
    "async for chunk in chain_1.astream(\"Hi, tell me a long story\"):\n",
    "    print(chunk, end=\"\")"
   ]
  },
  {
   "cell_type": "code",
   "execution_count": null,
   "metadata": {},
   "outputs": [],
   "source": [
    "from operator import itemgetter\n",
    "\n",
    "with open(\"doc.txt\", \"r\") as f:\n",
    "    context = f.read()\n",
    "\n",
    "prompt = PromptTemplate.from_template(\n",
    "    template=\"\"\"\n",
    "    You are a helpful assistant.\n",
    "    Context: {context}\n",
    "Extract all the useful API names from the context. Format in a JSON key value pairs, e.g. {{ \"Runnable\": \"A class that does xyz\", \"RunnableLambda\": \"A class that does xyz\" }}\n",
    "        \"\"\"\n",
    ")\n",
    "\n",
    "chain_1 = prompt | llm | JsonOutputParser()\n",
    "chain_2 = prompt | llm | StrOutputParser()\n",
    "\n",
    "chain = RunnableMap(\n",
    "    {\n",
    "        \"structured\": chain_1 | itemgetter(\"Messages\"),\n",
    "        \"unstructured\": chain_2 | (lambda x: x[:100]),\n",
    "    }\n",
    ")\n",
    "\n",
    "# {\n",
    "#     \"structured\": \"explaination of prompt template\",\n",
    "#     \"unstructured\": \"the first 100 characters of the unstructured output\"\n",
    "# }\n",
    "\n",
    "# r = chain.invoke({\"context\": context})\n",
    "\n",
    "# r['structured'] = r['structured']['PromptTemplate']\n",
    "# r['unstructured'] = r['unstructured'][:100]\n",
    "\n",
    "# chain.get_graph().print_ascii()"
   ]
  },
  {
   "cell_type": "code",
   "execution_count": null,
   "metadata": {},
   "outputs": [],
   "source": [
    "!pip install grandalf"
   ]
  },
  {
   "cell_type": "code",
   "execution_count": null,
   "metadata": {},
   "outputs": [],
   "source": [
    "from pydantic import BaseModel\n",
    "\n",
    "class ApiItem(BaseModel):\n",
    "    name: str\n",
    "    description: str\n",
    "\n",
    "class ApiList(BaseModel):\n",
    "    items: list[ApiItem]\n",
    "    name: str\n",
    "\n",
    "prompt = PromptTemplate.from_template(\n",
    "    template=\"\"\"\n",
    "    You are a helpful assistant.\n",
    "    Context: {context}\n",
    "    Extract all the useful API names from the context.\n",
    "    \"\"\"\n",
    ")\n",
    "\n",
    "llm = prompt | ChatOpenAI(model=\"gpt-4o-mini\", temperature=0).with_structured_output(\n",
    "    ApiList\n",
    ")\n",
    "\n",
    "async for chunk in llm.astream({ \"context\": context }):\n",
    "    print(chunk)\n",
    "\n",
    "\n",
    "\"\"\"\n",
    "{\n",
    "    \"items\": [\n",
    "        {\n",
    "            \"name\": \"Runnable\",\n",
    "            \"description\": \"A class that does xyz\"\n",
    "        }\n",
    "    ]\n",
    "    \"name\n",
    "}\n",
    "\n",
    "items=[ApiItem(name='Installation')]\n",
    "\"\"\""
   ]
  },
  {
   "cell_type": "code",
   "execution_count": 18,
   "metadata": {},
   "outputs": [
    {
     "name": "stdout",
     "output_type": "stream",
     "text": [
      "class User {\n",
      "  firstName: string = \"\";\n",
      "  lastName: string = \"\";\n",
      "  email: string = \"\";\n",
      "}\n",
      "\n",
      "export default User;"
     ]
    }
   ],
   "source": [
    "code = \"\"\"\n",
    "class User {\n",
    "  firstName: string = \"\";\n",
    "  lastName: string = \"\";\n",
    "  username: string = \"\";\n",
    "}\n",
    "\n",
    "export default User;\n",
    "\"\"\"\n",
    "\n",
    "refactor_prompt = \"\"\"\n",
    "Replace the \"username\" property with an \"email\" property. Respond only\n",
    "with code, and with no markdown formatting.\n",
    "\"\"\"\n",
    "\n",
    "\n",
    "class CodeRefactor(BaseModel):\n",
    "    refactored_code: str\n",
    "\n",
    "prompt = ChatPromptTemplate.from_messages([\n",
    "    (\"system\", refactor_prompt),\n",
    "    (\"user\", \"{code}\"),\n",
    "])\n",
    "\n",
    "llm = ChatOpenAI(model=\"gpt-4o\", temperature=0).bind(\n",
    "    prediction={\n",
    "        \"type\": \"content\",\n",
    "    },\n",
    ")\n",
    "\n",
    "chain = prompt | llm\n",
    "\n",
    "async for chunk in chain.astream({\"code\": code}):\n",
    "    print(chunk.content, end=\"\")"
   ]
  },
  {
   "cell_type": "code",
   "execution_count": 59,
   "metadata": {},
   "outputs": [],
   "source": [
    "from langgraph.func import entrypoint, task\n",
    "from langgraph.checkpoint.memory import MemorySaver\n",
    "from dataclasses import dataclass\n",
    "\n",
    "@dataclass\n",
    "class Context:\n",
    "    code: str\n",
    "\n",
    "@task\n",
    "def hello() -> str:\n",
    "    return \"hello\"\n",
    "\n",
    "@task\n",
    "async def refactor(code: str) -> str:\n",
    "    return await hello()\n",
    "\n",
    "\n",
    "@entrypoint(checkpointer=None)\n",
    "async def agent(code: Context) -> str:\n",
    "    await refactor(code.code)\n",
    "    await refactor(code.code)\n",
    "    return \"\""
   ]
  },
  {
   "cell_type": "code",
   "execution_count": 60,
   "metadata": {},
   "outputs": [
    {
     "name": "stdout",
     "output_type": "stream",
     "text": [
      "{'hello': 'hello'}\n",
      "{'refactor': 'hello'}\n",
      "{'hello': 'hello'}\n",
      "{'refactor': 'hello'}\n",
      "{'agent': ''}\n"
     ]
    }
   ],
   "source": [
    "async for chunk in agent.astream(Context(\"code\")):\n",
    "    print(chunk)"
   ]
  },
  {
   "cell_type": "code",
   "execution_count": 1,
   "metadata": {},
   "outputs": [],
   "source": [
    "from typing import List, Optional\n",
    "\n",
    "from pydantic import BaseModel\n",
    "\n",
    "\n",
    "class OutputFormat(BaseModel):\n",
    "    preference: str\n",
    "    sentence_preference_revealed: str\n",
    "\n",
    "\n",
    "class TelegramPreferences(BaseModel):\n",
    "    preferred_encoding: Optional[List[OutputFormat]] = None\n",
    "    favorite_telegram_operators: Optional[List[OutputFormat]] = None\n",
    "    preferred_telegram_paper: Optional[List[OutputFormat]] = None\n",
    "\n",
    "\n",
    "class MorseCode(BaseModel):\n",
    "    preferred_key_type: Optional[List[OutputFormat]] = None\n",
    "    favorite_morse_abbreviations: Optional[List[OutputFormat]] = None\n",
    "\n",
    "\n",
    "class Semaphore(BaseModel):\n",
    "    preferred_flag_color: Optional[List[OutputFormat]] = None\n",
    "    semaphore_skill_level: Optional[List[OutputFormat]] = None\n",
    "\n",
    "\n",
    "class TrustFallPreferences(BaseModel):\n",
    "    preferred_fall_height: Optional[List[OutputFormat]] = None\n",
    "    trust_level: Optional[List[OutputFormat]] = None\n",
    "    preferred_catching_technique: Optional[List[OutputFormat]] = None\n",
    "\n",
    "\n",
    "class CommunicationPreferences(BaseModel):\n",
    "    telegram: TelegramPreferences\n",
    "    morse_code: MorseCode\n",
    "    semaphore: Semaphore\n",
    "\n",
    "\n",
    "class UserPreferences(BaseModel):\n",
    "    communication_preferences: CommunicationPreferences\n",
    "    trust_fall_preferences: TrustFallPreferences\n",
    "\n",
    "\n",
    "class TelegramAndTrustFallPreferences(BaseModel):\n",
    "    pertinent_user_preferences: UserPreferences"
   ]
  },
  {
   "cell_type": "code",
   "execution_count": 38,
   "metadata": {},
   "outputs": [],
   "source": [
    "from langchain_openai import ChatOpenAI\n",
    "\n",
    "llm = ChatOpenAI(model=\"gpt-4o-mini\")\n",
    "bound = llm.with_structured_output(TelegramAndTrustFallPreferences)\n",
    "\n",
    "conversation = \"\"\"Operator: How may I assist with your telegram, sir?\n",
    "Customer: I need to send a message about our trust fall exercise.\n",
    "Operator: Certainly. Morse code or standard encoding?\n",
    "Customer: Morse, please. I love using a straight key.\n",
    "Operator: Excellent. What's your message?\n",
    "Customer: Tell him I'm ready for a higher fall, and I prefer the diamond formation for catching.\n",
    "Operator: Done. Shall I use our \"Daredevil\" paper for this daring message?\n",
    "Customer: Perfect! Send it by your fastest carrier pigeon.\n",
    "Operator: It'll be there within the hour, sir.\"\"\"\n",
    "\n",
    "r = bound.invoke(\n",
    "    f\"\"\"Extract the preferences from the following conversation:\n",
    "<convo>\n",
    "{conversation}\n",
    "</convo>\"\"\"\n",
    ")"
   ]
  },
  {
   "cell_type": "code",
   "execution_count": 39,
   "metadata": {},
   "outputs": [
    {
     "name": "stderr",
     "output_type": "stream",
     "text": [
      "/var/folders/w2/73qnm2kd2437hd9g4sswpjkc0000gq/T/ipykernel_92444/1694558619.py:4: PydanticDeprecatedSince20: The `dict` method is deprecated; use `model_dump` instead. Deprecated in Pydantic V2.0 to be removed in V3.0. See Pydantic V2 Migration Guide at https://errors.pydantic.dev/2.10/migration/\n",
      "  r.dict()\n"
     ]
    },
    {
     "data": {
      "text/plain": [
       "{'pertinent_user_preferences': {'communication_preferences': {'telegram': {'preferred_encoding': [{'preference': 'morse code',\n",
       "      'sentence_preference_revealed': 'I need to send a message about our trust fall exercise.'}],\n",
       "    'favorite_telegram_operators': [{'preference': 'straight key',\n",
       "      'sentence_preference_revealed': 'I love using a straight key.'}],\n",
       "    'preferred_telegram_paper': [{'preference': 'Daredevil',\n",
       "      'sentence_preference_revealed': \"Shall I use our 'Daredevil' paper for this daring message?\"}]},\n",
       "   'morse_code': {'preferred_key_type': [{'preference': 'straight key',\n",
       "      'sentence_preference_revealed': 'I love using a straight key.'}],\n",
       "    'favorite_morse_abbreviations': None},\n",
       "   'semaphore': {'preferred_flag_color': None, 'semaphore_skill_level': None}},\n",
       "  'trust_fall_preferences': {'preferred_fall_height': [{'preference': 'higher fall',\n",
       "     'sentence_preference_revealed': \"Tell him I'm ready for a higher fall.\"}],\n",
       "   'trust_level': None,\n",
       "   'preferred_catching_technique': [{'preference': 'diamond formation',\n",
       "     'sentence_preference_revealed': 'I prefer the diamond formation for catching.'}]}}}"
      ]
     },
     "execution_count": 39,
     "metadata": {},
     "output_type": "execute_result"
    }
   ],
   "source": [
    "import json\n",
    "\n",
    "# print(json.dumps(r, indent=2))\n",
    "r.dict()"
   ]
  },
  {
   "cell_type": "code",
   "execution_count": null,
   "metadata": {},
   "outputs": [],
   "source": []
  }
 ],
 "metadata": {
  "kernelspec": {
   "display_name": ".venv",
   "language": "python",
   "name": "python3"
  },
  "language_info": {
   "codemirror_mode": {
    "name": "ipython",
    "version": 3
   },
   "file_extension": ".py",
   "mimetype": "text/x-python",
   "name": "python",
   "nbconvert_exporter": "python",
   "pygments_lexer": "ipython3",
   "version": "3.12.7"
  }
 },
 "nbformat": 4,
 "nbformat_minor": 2
}
