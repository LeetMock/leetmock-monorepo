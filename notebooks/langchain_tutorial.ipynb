{
 "cells": [
  {
   "cell_type": "code",
   "execution_count": null,
   "metadata": {},
   "outputs": [],
   "source": [
    "import asyncio\n",
    "\n",
    "from langchain_core.prompts import PromptTemplate, ChatPromptTemplate, MessagesPlaceholder, SystemMessagePromptTemplate, AIMessagePromptTemplate, HumanMessagePromptTemplate\n",
    "from langchain_core.messages import HumanMessage, AIMessage, SystemMessage, ToolMessage, RemoveMessage, BaseMessage\n",
    "from langchain_core.output_parsers import StrOutputParser, JsonOutputParser\n",
    "from langchain_openai import ChatOpenAI\n",
    "from langchain_core.runnables import RunnableLambda, RunnableSequence, RunnableGenerator, RunnableMap\n",
    "\n",
    "from dotenv import load_dotenv, find_dotenv\n",
    "\n",
    "load_dotenv(find_dotenv())"
   ]
  },
  {
   "cell_type": "markdown",
   "metadata": {},
   "source": [
    "## Define a prompt -> LLM -> Output Parser"
   ]
  },
  {
   "cell_type": "code",
   "execution_count": null,
   "metadata": {},
   "outputs": [],
   "source": [
    "prompt_template = PromptTemplate.from_template(\n",
    "    template=\"\"\"You are a {role} assistant.\n",
    "\n",
    "Question: {question}\n",
    "Answer:\"\"\"\n",
    ")\n",
    "\n",
    "prompt_value = prompt_template.invoke(\n",
    "    {\"role\": \"bad\", \"question\": \"What is the capital of France?\"}\n",
    ")\n",
    "\n",
    "prompt_value"
   ]
  },
  {
   "cell_type": "code",
   "execution_count": null,
   "metadata": {},
   "outputs": [],
   "source": [
    "chat_prompt_tpl = ChatPromptTemplate.from_messages([\n",
    "    SystemMessagePromptTemplate.from_template(\n",
    "        template=\"\"\"You are a {role} assistant. You need to extract the first name and last name of the person from the question.\n",
    "Format into a JSON object with the keys 'first_name' and 'last_name'.\"\"\"\n",
    "    ),\n",
    "    HumanMessage(content=\"Hi my name is John Doe\")\n",
    "])\n",
    "\n",
    "llm = ChatOpenAI(model=\"gpt-4o-mini\", temperature=0)\n",
    "\n",
    "# Step 1: Generate the prompt\n",
    "prompt_value = chat_prompt_tpl.invoke(\n",
    "    {\n",
    "        \"role\": \"bad\",\n",
    "        \"question\": \"What is the capital of France?\",\n",
    "        \"messages\": [AIMessage(content=\"I don't know\")],\n",
    "    }\n",
    ")\n",
    "\n",
    "# Step 2: Generate the LLM call\n",
    "llm_call = await llm.ainvoke(prompt_value)\n",
    "print(llm_call)\n",
    "\n",
    "# Step 3: Parse the LLM call\n",
    "parser = JsonOutputParser()\n",
    "parsed_llm_call = parser.invoke(llm_call)\n",
    "parsed_llm_call[\"first_name\"], parsed_llm_call[\"last_name\"]"
   ]
  },
  {
   "cell_type": "markdown",
   "metadata": {},
   "source": [
    "## Runnable Syntax Suger"
   ]
  },
  {
   "cell_type": "code",
   "execution_count": null,
   "metadata": {},
   "outputs": [],
   "source": [
    "chat_prompt_tpl = ChatPromptTemplate.from_messages(\n",
    "    [\n",
    "        SystemMessagePromptTemplate.from_template(\n",
    "            template=\"\"\"You are a {role} assistant. You need to extract the first name and last name of the person from the question.\n",
    "Format into a JSON object with the keys 'first_name' and 'last_name'.\"\"\"\n",
    "        ),\n",
    "        HumanMessage(content=\"Hi my name is John Doe\"),\n",
    "    ]\n",
    ")\n",
    "\n",
    "llm = ChatOpenAI(model=\"gpt-4o-mini\", temperature=0)\n",
    "\n",
    "parser = JsonOutputParser()\n",
    "\n",
    "\"\"\"\n",
    "chain = RunnableSequence([\n",
    "    chat_prompt_tpl,\n",
    "    llm,\n",
    "    parser\n",
    "])\n",
    "\"\"\"\n",
    "\n",
    "# operator override\n",
    "chain = chat_prompt_tpl | llm | parser\n",
    "\n",
    "\"\"\"\n",
    "def pipe(left, right): ...\n",
    "\n",
    "chain = pipe(pipe(chat_prompt_tpl, llm), parser)\n",
    "\"\"\"\n",
    "\n",
    "result = chain.invoke({\"role\": \"bad\", \"question\": \"What is the capital of France?\"})\n",
    "result"
   ]
  },
  {
   "cell_type": "markdown",
   "metadata": {},
   "source": [
    "## Batching"
   ]
  },
  {
   "cell_type": "code",
   "execution_count": null,
   "metadata": {},
   "outputs": [],
   "source": [
    "results = chain.batch([\n",
    "    {\"role\": \"bad\", \"question\": \"What is the capital of France?\"},\n",
    "    {\"role\": \"helpful\", \"question\": \"What is the capital of Germany?\"},\n",
    "    {\"role\": \"good\", \"question\": \"What is the capital of Italy?\"},\n",
    "])\n",
    "\n",
    "results"
   ]
  },
  {
   "cell_type": "code",
   "execution_count": null,
   "metadata": {},
   "outputs": [],
   "source": [
    "from langchain_core.messages import AIMessageChunk\n",
    "\n",
    "\n",
    "def truncate_text(text: AIMessage):\n",
    "    return text.content[:100]\n",
    "\n",
    "# RunnableGenerator\n",
    "async def truncate_text_stream(iter):\n",
    "    total_length = 0\n",
    "    async for chunk in iter:\n",
    "        if total_length > 200:\n",
    "            break\n",
    "\n",
    "        total_length += len(chunk.content)\n",
    "        yield chunk.content\n",
    "\n",
    "    yield \"END OF TEXT\"\n",
    "\n",
    "# async for chunk in llm.astream(\"Hi, tell me a long story\"):\n",
    "#     print(chunk.content, end=\"\")\n",
    "\n",
    "def capitalize(text: AIMessage):\n",
    "    return text.content.upper()\n",
    "\n",
    "async def capitalize_stream(iter):\n",
    "    async for chunk in iter:\n",
    "        yield chunk.content.upper()\n",
    "\n",
    "chain_1 = llm | RunnableGenerator(truncate_text_stream)\n",
    "async for chunk in chain_1.astream(\"Hi, tell me a long story\"):\n",
    "    print(chunk, end=\"\")"
   ]
  },
  {
   "cell_type": "code",
   "execution_count": null,
   "metadata": {},
   "outputs": [],
   "source": [
    "from operator import itemgetter\n",
    "\n",
    "with open(\"doc.txt\", \"r\") as f:\n",
    "    context = f.read()\n",
    "\n",
    "prompt = PromptTemplate.from_template(\n",
    "    template=\"\"\"\n",
    "    You are a helpful assistant.\n",
    "    Context: {context}\n",
    "Extract all the useful API names from the context. Format in a JSON key value pairs, e.g. {{ \"Runnable\": \"A class that does xyz\", \"RunnableLambda\": \"A class that does xyz\" }}\n",
    "        \"\"\"\n",
    ")\n",
    "\n",
    "chain_1 = prompt | llm | JsonOutputParser()\n",
    "chain_2 = prompt | llm | StrOutputParser()\n",
    "\n",
    "chain = RunnableMap(\n",
    "    {\n",
    "        \"structured\": chain_1 | itemgetter(\"Messages\"),\n",
    "        \"unstructured\": chain_2 | (lambda x: x[:100]),\n",
    "    }\n",
    ")\n",
    "\n",
    "# {\n",
    "#     \"structured\": \"explaination of prompt template\",\n",
    "#     \"unstructured\": \"the first 100 characters of the unstructured output\"\n",
    "# }\n",
    "\n",
    "# r = chain.invoke({\"context\": context})\n",
    "\n",
    "# r['structured'] = r['structured']['PromptTemplate']\n",
    "# r['unstructured'] = r['unstructured'][:100]\n",
    "\n",
    "# chain.get_graph().print_ascii()"
   ]
  },
  {
   "cell_type": "code",
   "execution_count": null,
   "metadata": {},
   "outputs": [],
   "source": [
    "!pip install grandalf"
   ]
  },
  {
   "cell_type": "code",
   "execution_count": null,
   "metadata": {},
   "outputs": [],
   "source": [
    "from pydantic import BaseModel\n",
    "\n",
    "class ApiItem(BaseModel):\n",
    "    name: str\n",
    "    description: str\n",
    "\n",
    "class ApiList(BaseModel):\n",
    "    items: list[ApiItem]\n",
    "    name: str\n",
    "\n",
    "prompt = PromptTemplate.from_template(\n",
    "    template=\"\"\"\n",
    "    You are a helpful assistant.\n",
    "    Context: {context}\n",
    "    Extract all the useful API names from the context.\n",
    "    \"\"\"\n",
    ")\n",
    "\n",
    "llm = prompt | ChatOpenAI(model=\"gpt-4o-mini\", temperature=0).with_structured_output(\n",
    "    ApiList\n",
    ")\n",
    "\n",
    "async for chunk in llm.astream({ \"context\": context }):\n",
    "    print(chunk)\n",
    "\n",
    "\n",
    "\"\"\"\n",
    "{\n",
    "    \"items\": [\n",
    "        {\n",
    "            \"name\": \"Runnable\",\n",
    "            \"description\": \"A class that does xyz\"\n",
    "        }\n",
    "    ]\n",
    "    \"name\n",
    "}\n",
    "\n",
    "items=[ApiItem(name='Installation')]\n",
    "\"\"\""
   ]
  },
  {
   "cell_type": "code",
   "execution_count": null,
   "metadata": {},
   "outputs": [],
   "source": []
  },
  {
   "cell_type": "code",
   "execution_count": null,
   "metadata": {},
   "outputs": [],
   "source": []
  },
  {
   "cell_type": "code",
   "execution_count": null,
   "metadata": {},
   "outputs": [],
   "source": []
  }
 ],
 "metadata": {
  "kernelspec": {
   "display_name": ".venv",
   "language": "python",
   "name": "python3"
  },
  "language_info": {
   "codemirror_mode": {
    "name": "ipython",
    "version": 3
   },
   "file_extension": ".py",
   "mimetype": "text/x-python",
   "name": "python",
   "nbconvert_exporter": "python",
   "pygments_lexer": "ipython3",
   "version": "3.12.7"
  }
 },
 "nbformat": 4,
 "nbformat_minor": 2
}
