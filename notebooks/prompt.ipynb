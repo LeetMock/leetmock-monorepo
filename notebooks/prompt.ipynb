{
 "cells": [
  {
   "cell_type": "code",
   "execution_count": 1,
   "metadata": {},
   "outputs": [
    {
     "name": "stderr",
     "output_type": "stream",
     "text": [
      "/Users/byin/Documents/GitHub/leetmock-monorepo/.venv/lib/python3.12/site-packages/langsmith/client.py:5515: LangChainBetaWarning: The function `loads` is in beta. It is actively being worked on, so the API may change.\n",
      "  prompt = loads(json.dumps(prompt_object.manifest))\n"
     ]
    }
   ],
   "source": [
    "# set the LANGCHAIN_API_KEY environment variable (create key in settings)\n",
    "from langchain import hub\n",
    "\n",
    "prompt = hub.pull(\"run-code-intent\")"
   ]
  },
  {
   "cell_type": "code",
   "execution_count": 10,
   "metadata": {},
   "outputs": [],
   "source": [
    "from langchain_openai import ChatOpenAI\n",
    "from pydantic import BaseModel, Field\n",
    "\n",
    "\n",
    "class Decide(BaseModel):\n",
    "    rationale: str = Field(\n",
    "        ...,\n",
    "        description=\"The rationale for the decision. Should be a bullet list to structure the thought process.\",\n",
    "    )\n",
    "    should_test: bool = Field(..., description=\"The decision to be made.\")\n",
    "\n",
    "\n",
    "model = ChatOpenAI(model=\"gpt-4o-mini\", temperature=0.1)\n",
    "chain = prompt | model.with_structured_output(Decide)"
   ]
  },
  {
   "cell_type": "code",
   "execution_count": 11,
   "metadata": {},
   "outputs": [
    {
     "data": {
      "text/plain": [
       "Decide(rationale=\"1. The user's code is not in a good state as it only returns a hardcoded list [0, 1] without implementing the logic to find the two indices that sum up to the target.  \\n2. The user has not completed the function and is still in the process of writing the solution. They have not asked for feedback or indicated that they are ready for testing.  \\n3. Since the code is incomplete and does not reflect a working solution, it is not appropriate to run a test at this moment.\", should_test=False)"
      ]
     },
     "execution_count": 11,
     "metadata": {},
     "output_type": "execute_result"
    }
   ],
   "source": [
    "editor_content = \"\"\"\n",
    "class Solution:\n",
    "    def twoSum(self, nums: List[int], target: int) -> List[int]:\n",
    "        return [0, 1]\n",
    "\"\"\"\n",
    "\n",
    "\n",
    "chain.invoke(\n",
    "    {\n",
    "        \"coding_question\": \"Given an array of integers nums and an integer target, return indices of the two numbers such that they add up to target.\",\n",
    "        \"editor_content\": editor_content,\n",
    "        \"messages\": [\n",
    "            (\"user\", \"Check my code.\"),\n",
    "            # (\"ai\", \"Take your time.\"),\n",
    "        ],\n",
    "    }\n",
    ")"
   ]
  },
  {
   "cell_type": "code",
   "execution_count": null,
   "metadata": {},
   "outputs": [],
   "source": []
  }
 ],
 "metadata": {
  "kernelspec": {
   "display_name": ".venv",
   "language": "python",
   "name": "python3"
  },
  "language_info": {
   "codemirror_mode": {
    "name": "ipython",
    "version": 3
   },
   "file_extension": ".py",
   "mimetype": "text/x-python",
   "name": "python",
   "nbconvert_exporter": "python",
   "pygments_lexer": "ipython3",
   "version": "3.12.1"
  }
 },
 "nbformat": 4,
 "nbformat_minor": 2
}
