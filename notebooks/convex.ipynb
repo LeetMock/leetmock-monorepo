{
 "cells": [
  {
   "cell_type": "code",
   "execution_count": null,
   "metadata": {},
   "outputs": [],
   "source": [
    "import os\n",
    "\n",
    "os.chdir(\"..\")\n",
    "os.getcwd()"
   ]
  },
  {
   "cell_type": "code",
   "execution_count": null,
   "metadata": {},
   "outputs": [],
   "source": [
    "import convex_client\n",
    "from convex_client.models.request_actions_run_tests import RequestActionsRunTests\n",
    "from convex_client.models.request_actions_run_tests_args import (\n",
    "    RequestActionsRunTestsArgs,\n",
    ")\n",
    "\n",
    "configuration = convex_client.Configuration(host=os.getenv(\"CONVEX_URL\") or \"\")\n",
    "api_client = convex_client.ApiClient(configuration)\n",
    "action_api = convex_client.ActionApi(api_client)"
   ]
  },
  {
   "cell_type": "code",
   "execution_count": 8,
   "metadata": {},
   "outputs": [],
   "source": [
    "a = \"\"\"\n",
    "from typing import List, Any\n",
    "\n",
    "class Solution:\n",
    "    def twoSum(self, nums: List[Any], target: int):\n",
    "        # TODO: Write your Python code here\n",
    "        return [0, 1]\n",
    "\"\"\"\n",
    "\n",
    "request = RequestActionsRunTests(\n",
    "    args=RequestActionsRunTestsArgs(\n",
    "        language=\"python\",\n",
    "        code=a,\n",
    "        questionId=\"jd783ra6fmxcbyps0zggxm165n70ah07\",\n",
    "    )\n",
    ")\n",
    "\n",
    "response = action_api.api_run_actions_run_tests_post(request)"
   ]
  },
  {
   "cell_type": "code",
   "execution_count": 9,
   "metadata": {},
   "outputs": [
    {
     "data": {
      "text/plain": [
       "[{'actual': [0.0, 1.0],\n",
       "  'caseNumber': 1.0,\n",
       "  'error': None,\n",
       "  'expected': [0.0, 1.0],\n",
       "  'input': {'nums': [2.0, 7.0, 11.0, 15.0], 'target': 9.0},\n",
       "  'passed': True},\n",
       " {'actual': [0.0, 1.0],\n",
       "  'caseNumber': 2.0,\n",
       "  'error': None,\n",
       "  'expected': [1.0, 2.0],\n",
       "  'input': {'nums': [3.0, 2.0, 4.0], 'target': 6.0},\n",
       "  'passed': False},\n",
       " {'actual': [0.0, 1.0],\n",
       "  'caseNumber': 3.0,\n",
       "  'error': None,\n",
       "  'expected': [0.0, 1.0],\n",
       "  'input': {'nums': [3.0, 3.0], 'target': 6.0},\n",
       "  'passed': True},\n",
       " {'actual': [0.0, 1.0],\n",
       "  'caseNumber': 4.0,\n",
       "  'error': None,\n",
       "  'expected': [3.0, 4.0],\n",
       "  'input': {'nums': [1.0, 2.0, 3.0, 4.0, 5.0], 'target': 9.0},\n",
       "  'passed': False},\n",
       " {'actual': [0.0, 1.0],\n",
       "  'caseNumber': 5.0,\n",
       "  'error': None,\n",
       "  'expected': [2.0, 4.0],\n",
       "  'input': {'nums': [-1.0, -2.0, -3.0, -4.0, -5.0], 'target': -8.0},\n",
       "  'passed': False}]"
      ]
     },
     "execution_count": 9,
     "metadata": {},
     "output_type": "execute_result"
    }
   ],
   "source": [
    "response.value['testResults']"
   ]
  },
  {
   "cell_type": "code",
   "execution_count": null,
   "metadata": {},
   "outputs": [],
   "source": []
  }
 ],
 "metadata": {
  "kernelspec": {
   "display_name": ".venv",
   "language": "python",
   "name": "python3"
  },
  "language_info": {
   "codemirror_mode": {
    "name": "ipython",
    "version": 3
   },
   "file_extension": ".py",
   "mimetype": "text/x-python",
   "name": "python",
   "nbconvert_exporter": "python",
   "pygments_lexer": "ipython3",
   "version": "3.12.6"
  }
 },
 "nbformat": 4,
 "nbformat_minor": 2
}
