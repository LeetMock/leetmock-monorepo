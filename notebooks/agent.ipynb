{
 "cells": [
  {
   "cell_type": "code",
   "execution_count": 1,
   "metadata": {},
   "outputs": [
    {
     "data": {
      "text/plain": [
       "True"
      ]
     },
     "execution_count": 1,
     "metadata": {},
     "output_type": "execute_result"
    }
   ],
   "source": [
    "from dotenv import load_dotenv, find_dotenv\n",
    "\n",
    "load_dotenv(find_dotenv())"
   ]
  },
  {
   "cell_type": "markdown",
   "metadata": {},
   "source": [
    "### Test Local LangGraph Agent"
   ]
  },
  {
   "cell_type": "code",
   "execution_count": 3,
   "metadata": {},
   "outputs": [
    {
     "name": "stdout",
     "output_type": "stream",
     "text": [
      "{'thread_id': 'd20e3c9c-bd86-405d-adc6-06892053e2de', 'created_at': '2024-10-21T05:40:59.967275+00:00', 'updated_at': '2024-10-21T05:40:59.967275+00:00', 'metadata': {}, 'status': 'idle', 'config': {}, 'values': None}\n"
     ]
    }
   ],
   "source": [
    "from langgraph_sdk import get_client\n",
    "\n",
    "url = \"https://leetmock001-76a7d6889223553c93a96358909dd6e3.default.us.langgraph.app\"\n",
    "client = get_client(url=url)\n",
    "\n",
    "# Using the graph deployed with the name \"agent\"\n",
    "assistant_id = \"template\"\n",
    "\n",
    "# create thread\n",
    "thread = await client.threads.create()\n",
    "\n",
    "print(thread)"
   ]
  },
  {
   "cell_type": "code",
   "execution_count": 4,
   "metadata": {},
   "outputs": [],
   "source": [
    "openai_assistant = await client.assistants.create(graph_id=assistant_id)"
   ]
  },
  {
   "cell_type": "code",
   "execution_count": 5,
   "metadata": {},
   "outputs": [
    {
     "data": {
      "text/plain": [
       "{'assistant_id': '01b00aa2-a927-4817-8c8f-78e35a3caea2',\n",
       " 'graph_id': 'template',\n",
       " 'created_at': '2024-10-21T05:41:00.927064+00:00',\n",
       " 'updated_at': '2024-10-21T05:41:00.927064+00:00',\n",
       " 'config': {},\n",
       " 'metadata': {},\n",
       " 'version': 1,\n",
       " 'name': 'Untitled'}"
      ]
     },
     "execution_count": 5,
     "metadata": {},
     "output_type": "execute_result"
    }
   ],
   "source": [
    "openai_assistant"
   ]
  },
  {
   "cell_type": "code",
   "execution_count": 20,
   "metadata": {},
   "outputs": [
    {
     "name": "stdout",
     "output_type": "stream",
     "text": [
      "----------------------------------------------------------------------------------------------------\n",
      "StreamPart(event='metadata', data={'run_id': '1ef8f6f3-3038-63c5-94ea-dd87f20c6ed1', 'attempt': 1})\n",
      "----------------------------------------------------------------------------------------------------\n",
      "----------------------------------------------------------------------------------------------------\n",
      "StreamPart(event='updates', data={'on_event': {'event': None, 'trigger': True}})\n",
      "----------------------------------------------------------------------------------------------------\n"
     ]
    }
   ],
   "source": [
    "\n",
    "async for chunk in client.runs.stream(\n",
    "    thread[\"thread_id\"],\n",
    "    assistant_id,\n",
    "    input={\"messages\": [\"HI\"], \"event\": \"user_message\"},\n",
    "    stream_mode=[\"updates\"],\n",
    "    # multitask_strategy=\"interrupt\",\n",
    "):\n",
    "    # tags = chunk.data.get(\"tags\", [])\n",
    "    # if \"chatbot\" not in tags:\n",
    "    #     continue\n",
    "\n",
    "    # event = chunk.data.get(\"event\", None)\n",
    "    # if event != \"on_chat_model_stream\":\n",
    "    #     continue\n",
    "\n",
    "    # content = chunk.data.get(\"data\", {}).get(\"chunk\", {}).get(\"content\", \"\")\n",
    "\n",
    "    print(\"-\" * 100)\n",
    "    print(chunk)\n",
    "    print(\"-\" * 100)"
   ]
  },
  {
   "cell_type": "code",
   "execution_count": 1,
   "metadata": {},
   "outputs": [],
   "source": [
    "from agent_graph.template.graph import create_graph\n",
    "\n",
    "graph = create_graph()"
   ]
  },
  {
   "cell_type": "code",
   "execution_count": 17,
   "metadata": {},
   "outputs": [
    {
     "name": "stdout",
     "output_type": "stream",
     "text": [
      "((), 'updates', {'on_event': {'event': None, 'trigger': True}})\n"
     ]
    }
   ],
   "source": [
    "async for chunk in graph.astream(\n",
    "    input={\n",
    "        \"messages\": [\"HI\"],\n",
    "        \"event\": \"user_message\"\n",
    "    },\n",
    "    stream_mode=[\"updates\"],\n",
    "    config={ \"configurable\": {\"thread_id\": \"1\" } },\n",
    "    subgraphs=True,\n",
    "):\n",
    "    print(chunk)"
   ]
  },
  {
   "cell_type": "code",
   "execution_count": null,
   "metadata": {},
   "outputs": [],
   "source": [
    "from langchain_core.load.dump import dumps\n",
    "\n",
    "state = graph.get_state(config={\"configurable\": {\"thread_id\": \"1\"}}, subgraphs=True)\n",
    "\n",
    "print(dumps(state, pretty=True))"
   ]
  },
  {
   "cell_type": "code",
   "execution_count": null,
   "metadata": {},
   "outputs": [],
   "source": []
  }
 ],
 "metadata": {
  "kernelspec": {
   "display_name": ".venv",
   "language": "python",
   "name": "python3"
  },
  "language_info": {
   "codemirror_mode": {
    "name": "ipython",
    "version": 3
   },
   "file_extension": ".py",
   "mimetype": "text/x-python",
   "name": "python",
   "nbconvert_exporter": "python",
   "pygments_lexer": "ipython3",
   "version": "3.12.6"
  }
 },
 "nbformat": 4,
 "nbformat_minor": 2
}
