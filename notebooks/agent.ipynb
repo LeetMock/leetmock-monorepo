{
 "cells": [
  {
   "cell_type": "code",
   "execution_count": null,
   "metadata": {},
   "outputs": [],
   "source": [
    "from dotenv import load_dotenv, find_dotenv\n",
    "\n",
    "load_dotenv(find_dotenv())"
   ]
  },
  {
   "cell_type": "markdown",
   "metadata": {},
   "source": [
    "### Test Local LangGraph Agent"
   ]
  },
  {
   "cell_type": "code",
   "execution_count": null,
   "metadata": {},
   "outputs": [],
   "source": [
    "from langgraph_sdk import get_client\n",
    "\n",
    "url = \"https://leetmock001-76a7d6889223553c93a96358909dd6e3.default.us.langgraph.app\"\n",
    "client = get_client(url=url)\n",
    "\n",
    "# Using the graph deployed with the name \"agent\"\n",
    "assistant_id = \"template\"\n",
    "\n",
    "# create thread\n",
    "thread = await client.threads.create()\n",
    "\n",
    "print(thread)"
   ]
  },
  {
   "cell_type": "code",
   "execution_count": 3,
   "metadata": {},
   "outputs": [],
   "source": [
    "openai_assistant = await client.assistants.create(graph_id=assistant_id)"
   ]
  },
  {
   "cell_type": "code",
   "execution_count": null,
   "metadata": {},
   "outputs": [],
   "source": [
    "openai_assistant"
   ]
  },
  {
   "cell_type": "code",
   "execution_count": null,
   "metadata": {},
   "outputs": [],
   "source": [
    "\n",
    "async for chunk in client.runs.stream(\n",
    "    thread[\"thread_id\"],\n",
    "    assistant_id,\n",
    "    input={\"messages\": [\"HI\"], \"event\": \"user_message\"},\n",
    "    stream_mode=[\"updates\"],\n",
    "    # multitask_strategy=\"interrupt\",\n",
    "):\n",
    "    # tags = chunk.data.get(\"tags\", [])\n",
    "    # if \"chatbot\" not in tags:\n",
    "    #     continue\n",
    "\n",
    "    # event = chunk.data.get(\"event\", None)\n",
    "    # if event != \"on_chat_model_stream\":\n",
    "    #     continue\n",
    "\n",
    "    # content = chunk.data.get(\"data\", {}).get(\"chunk\", {}).get(\"content\", \"\")\n",
    "\n",
    "    print(\"-\" * 100)\n",
    "    print(chunk)\n",
    "    print(\"-\" * 100)"
   ]
  },
  {
   "cell_type": "code",
   "execution_count": 1,
   "metadata": {},
   "outputs": [],
   "source": [
    "from agent_graph.code_mock_staged_v1.graph import create_graph\n",
    "from dotenv import load_dotenv, find_dotenv\n",
    "\n",
    "load_dotenv(find_dotenv())\n",
    "\n",
    "graph = create_graph()\n",
    "config = { \"configurable\": {\"thread_id\": \"1\" } }"
   ]
  },
  {
   "cell_type": "code",
   "execution_count": 3,
   "metadata": {},
   "outputs": [
    {
     "name": "stdout",
     "output_type": "stream",
     "text": [
      "('updates', {'on_trigger': None})\n",
      "('updates', {<StageTypes.INTRO: 'intro'>: {'messages': [HumanMessage(content='Hi, my name is Brian. I am a software engineer working at Meta. My background is in computer science and I have a passion for building scalable and efficient systems. My previous projects are in building scalable and efficient systems, as well as building scalable and efficient systems. My goal is to build scalable and efficient systems.', id='3fbe0d63-6c96-4881-ab76-9cf48d27409a'), HumanMessage(content='(User just joined the call, please welcome and introduce yourself:)', id='bad6431f-9fcc-4de9-8f7f-0ac9d111dfb1'), HumanMessage(content='Hi, my name is Brian. I am a software engineer working at Meta. My background is in computer science and I have a passion for building scalable and efficient systems. My previous projects are in building scalable and efficient systems, as well as building scalable and efficient systems. My goal is to build scalable and efficient systems.', id='039631b5-2f50-43a9-baf1-bf66bd8c18d0'), AIMessage(content=\"Hey there, Brian! It’s great to meet you. I'm also Brian, and I've been working at Roblox for about five years, mainly focusing on generative AI and machine learning. We’re here to chat about your background and experience. \\n\\nSo, can you tell me a bit more about your journey in software engineering? What got you into the field?\", additional_kwargs={'refusal': None}, response_metadata={'token_usage': {'completion_tokens': 72, 'prompt_tokens': 1480, 'total_tokens': 1552, 'completion_tokens_details': {'audio_tokens': None, 'reasoning_tokens': 0}, 'prompt_tokens_details': {'audio_tokens': None, 'cached_tokens': 1280}}, 'model_name': 'gpt-4o-mini-2024-07-18', 'system_fingerprint': 'fp_0ba0d124f1', 'finish_reason': 'stop', 'logprobs': None}, id='run-0ee132c7-875c-46fa-8f09-5386cd1c967a-0', usage_metadata={'input_tokens': 1480, 'output_tokens': 72, 'total_tokens': 1552})], 'steps': {<StageTypes.INTRO: 'intro'>: [Step(name='introduce_self', description='Concisely introduce yourself, brief talk about your background (feel free to make things up about your background, just be consistent throughout the interview).', done_definition='Interviewer has finished introducing themselves.', required=True), Step(name='ask_background', description='Ask the candidate about their background and experience.', done_definition=\"Interviewer has finished asking about the candidate's background and experience.\", required=True), Step(name='ask_goals', description='Ask the candidate about their career goals.', done_definition=\"Interviewer has finished asking about the candidate's career goals.\", required=True), Step(name='discuss_projects', description=\"Discuss the candidate's past projects and their role in them. Remember to praise interviewee on their achievement.\", done_definition=\"Interviewer has finished discussing the candidate's past projects and their role in them.\", required=True)], <StageTypes.CODING: 'coding'>: [Step(name='describe_problem', description='Describe the problem to the candidate.', done_definition='Interviewer has finished describing the problem.', required=True), Step(name='prompt_coding', description='Let the candidate start writing the code to solve the problem.', done_definition='Interviewer has finished prompting the candidate to start writing the code, or the candidate has started writing the code without prompting.', required=True), Step(name='monitor_coding', description=\"Monitor the candidate's coding progress, respond accordingly if they need help, clarification, or if they are stuck and need hints.\", done_definition=\"Monitoring step isn't done until candidate has finished writing the complete code solution (not necessarily passed all test cases).\", required=True), Step(name='prompt_explain_code', description='Let the candidate explain their code and the approach they took to solve the problem.', done_definition='Interviewer has finished prompting the candidate to explain their code, or the candidate has finished explaining their code without prompting.', required=True), Step(name='prompt_test_case', description='Let the candidate write the test cases for their code.', done_definition='Interviewer has finished prompting the candidate to write the test cases, or the candidate has finished writing the test cases without prompting.', required=True), Step(name='prompt_optimization', description=\"If candidate's code can be optimized, ask them if they can think of a better solution\", done_definition='Interviewer has finished prompting the candidate to optimize their code.', required=False)], <StageTypes.EVAL: 'eval'>: [Step(name='tell_overall_perf', description='Tell candidate how they did in the interview.', done_definition='Interviewer has finished telling candidate how they did in the interview.', required=True), Step(name='tell_strength', description='Tell candidate what they did well and what they could improve on.', done_definition='Interviewer has finished telling candidate what they did well and what they could improve on.', required=True), Step(name='suggest_improve', description='Give candidate suggestions on how to improve their coding skills.', done_definition='Interviewer has finished giving candidate suggestions on how to improve their coding skills.', required=True), Step(name='ask_question_back', description='Ask candidate if they have any questions for you.', done_definition='Interviewer has finished asking candidate if they have any questions for you.', required=True), Step(name='answer_user_question', description='Answer related questions user might have', done_definition='Interviewer has finished answering related questions user might have', required=False)]}, 'signals': {<StageTypes.INTRO: 'intro'>: [Signal(name='candidate_intro_done', description='The candidate has introduced themselves about their background.'), Signal(name='candidate_goals_done', description='The candidate has finished talking about their career goals.'), Signal(name='candidate_projects_done', description='The candidate has finished talking about their past projects and their role in them.')], <StageTypes.CODING: 'coding'>: [Signal(name='clarifying_questions', description='The candidate asks clarifying questions about the problem.'), Signal(name='thought_process', description='The candidate explains their high-level thought process for solving the problem.'), Signal(name='code_finished', description='The candidate has finished writing the code.'), Signal(name='passed_all_tests', description='The candidate has passed all test cases.')], <StageTypes.EVAL: 'eval'>: [Signal(name='user_questions', description='User has asked questions about the interview process or the candidate.')]}}})\n",
      "('updates', {'stage_tracker': {'messages': [HumanMessage(content='Hi, my name is Brian. I am a software engineer working at Meta. My background is in computer science and I have a passion for building scalable and efficient systems. My previous projects are in building scalable and efficient systems, as well as building scalable and efficient systems. My goal is to build scalable and efficient systems.', id='3fbe0d63-6c96-4881-ab76-9cf48d27409a'), HumanMessage(content='(User just joined the call, please welcome and introduce yourself:)', id='bad6431f-9fcc-4de9-8f7f-0ac9d111dfb1'), HumanMessage(content='Hi, my name is Brian. I am a software engineer working at Meta. My background is in computer science and I have a passion for building scalable and efficient systems. My previous projects are in building scalable and efficient systems, as well as building scalable and efficient systems. My goal is to build scalable and efficient systems.', id='039631b5-2f50-43a9-baf1-bf66bd8c18d0'), AIMessage(content=\"Hey there, Brian! It’s great to meet you. I'm also Brian, and I've been working at Roblox for about five years, mainly focusing on generative AI and machine learning. We’re here to chat about your background and experience. \\n\\nSo, can you tell me a bit more about your journey in software engineering? What got you into the field?\", additional_kwargs={'refusal': None}, response_metadata={'token_usage': {'completion_tokens': 72, 'prompt_tokens': 1480, 'total_tokens': 1552, 'completion_tokens_details': {'audio_tokens': None, 'reasoning_tokens': 0}, 'prompt_tokens_details': {'audio_tokens': None, 'cached_tokens': 1280}}, 'model_name': 'gpt-4o-mini-2024-07-18', 'system_fingerprint': 'fp_0ba0d124f1', 'finish_reason': 'stop', 'logprobs': None}, id='run-0ee132c7-875c-46fa-8f09-5386cd1c967a-0', usage_metadata={'input_tokens': 1480, 'output_tokens': 72, 'total_tokens': 1552}), AIMessage(content='<thinking>\\nI have finished the step(s): introduce_self, ask_background. Now I will move on to the next step: ask_goals.\\n</thinking>', id='66809de9-c5b5-405d-9346-a1c01970686a'), AIMessage(content='<thinking>\\nAll candidate signals have been caught.\\n</thinking>', id='66615465-ba58-4487-ae52-157d5a501656')], 'current_stage': <StageTypes.INTRO: 'intro'>, 'steps': {<StageTypes.INTRO: 'intro'>: [Step(name='introduce_self', description='Concisely introduce yourself, brief talk about your background (feel free to make things up about your background, just be consistent throughout the interview).', done_definition='Interviewer has finished introducing themselves.', required=True), Step(name='ask_background', description='Ask the candidate about their background and experience.', done_definition=\"Interviewer has finished asking about the candidate's background and experience.\", required=True), Step(name='ask_goals', description='Ask the candidate about their career goals.', done_definition=\"Interviewer has finished asking about the candidate's career goals.\", required=True), Step(name='discuss_projects', description=\"Discuss the candidate's past projects and their role in them. Remember to praise interviewee on their achievement.\", done_definition=\"Interviewer has finished discussing the candidate's past projects and their role in them.\", required=True)], <StageTypes.CODING: 'coding'>: [Step(name='describe_problem', description='Describe the problem to the candidate.', done_definition='Interviewer has finished describing the problem.', required=True), Step(name='prompt_coding', description='Let the candidate start writing the code to solve the problem.', done_definition='Interviewer has finished prompting the candidate to start writing the code, or the candidate has started writing the code without prompting.', required=True), Step(name='monitor_coding', description=\"Monitor the candidate's coding progress, respond accordingly if they need help, clarification, or if they are stuck and need hints.\", done_definition=\"Monitoring step isn't done until candidate has finished writing the complete code solution (not necessarily passed all test cases).\", required=True), Step(name='prompt_explain_code', description='Let the candidate explain their code and the approach they took to solve the problem.', done_definition='Interviewer has finished prompting the candidate to explain their code, or the candidate has finished explaining their code without prompting.', required=True), Step(name='prompt_test_case', description='Let the candidate write the test cases for their code.', done_definition='Interviewer has finished prompting the candidate to write the test cases, or the candidate has finished writing the test cases without prompting.', required=True), Step(name='prompt_optimization', description=\"If candidate's code can be optimized, ask them if they can think of a better solution\", done_definition='Interviewer has finished prompting the candidate to optimize their code.', required=False)], <StageTypes.EVAL: 'eval'>: [Step(name='tell_overall_perf', description='Tell candidate how they did in the interview.', done_definition='Interviewer has finished telling candidate how they did in the interview.', required=True), Step(name='tell_strength', description='Tell candidate what they did well and what they could improve on.', done_definition='Interviewer has finished telling candidate what they did well and what they could improve on.', required=True), Step(name='suggest_improve', description='Give candidate suggestions on how to improve their coding skills.', done_definition='Interviewer has finished giving candidate suggestions on how to improve their coding skills.', required=True), Step(name='ask_question_back', description='Ask candidate if they have any questions for you.', done_definition='Interviewer has finished asking candidate if they have any questions for you.', required=True), Step(name='answer_user_question', description='Answer related questions user might have', done_definition='Interviewer has finished answering related questions user might have', required=False)]}, 'signals': {<StageTypes.INTRO: 'intro'>: [Signal(name='candidate_intro_done', description='The candidate has introduced themselves about their background.'), Signal(name='candidate_goals_done', description='The candidate has finished talking about their career goals.'), Signal(name='candidate_projects_done', description='The candidate has finished talking about their past projects and their role in them.')], <StageTypes.CODING: 'coding'>: [Signal(name='clarifying_questions', description='The candidate asks clarifying questions about the problem.'), Signal(name='thought_process', description='The candidate explains their high-level thought process for solving the problem.'), Signal(name='code_finished', description='The candidate has finished writing the code.'), Signal(name='passed_all_tests', description='The candidate has passed all test cases.')], <StageTypes.EVAL: 'eval'>: [Signal(name='user_questions', description='User has asked questions about the interview process or the candidate.')]}, 'completed_steps': {<StageTypes.INTRO: 'intro'>: ['introduce_self', 'ask_background'], <StageTypes.CODING: 'coding'>: [], <StageTypes.EVAL: 'eval'>: []}, 'caught_signals': {<StageTypes.INTRO: 'intro'>: ['candidate_intro_done', 'candidate_goals_done', 'candidate_projects_done'], <StageTypes.CODING: 'coding'>: [], <StageTypes.EVAL: 'eval'>: []}}})\n",
      "('updates', {'select_stage': {'trigger': False, 'current_stage': <StageTypes.INTRO: 'intro'>}})\n"
     ]
    }
   ],
   "source": [
    "# async for chunk in graph.astream_events(\n",
    "#     input={\n",
    "#         \"messages\": [\"HI\"],\n",
    "#         # \"event\": \"user_message\"\n",
    "#     },\n",
    "#     config=config,\n",
    "#     version=\"v2\"\n",
    "# ):\n",
    "#     print(chunk)\n",
    "\n",
    "async for chunk in graph.astream(\n",
    "    input={\n",
    "        \"messages\": [\"Hi, my name is Brian. I am a software engineer working at Meta. My background is in computer science and I have a passion for building scalable and efficient systems. My previous projects are in building scalable and efficient systems, as well as building scalable and efficient systems. My goal is to build scalable and efficient systems.\"],\n",
    "        # \"event\": \"user_message\"\n",
    "        \"trigger\": True\n",
    "    },\n",
    "    config=config,\n",
    "    stream_mode=[\"updates\"],\n",
    "):\n",
    "    print(chunk)"
   ]
  },
  {
   "cell_type": "code",
   "execution_count": null,
   "metadata": {},
   "outputs": [],
   "source": [
    "from langchain_core.load.dump import dumpd\n",
    "\n",
    "dumpd(graph.get_state(config=config))\n"
   ]
  },
  {
   "cell_type": "code",
   "execution_count": 10,
   "metadata": {},
   "outputs": [],
   "source": [
    "ss = []\n",
    "for state in graph.get_state_history(config=config):\n",
    "    ss.append(state)"
   ]
  },
  {
   "cell_type": "code",
   "execution_count": 4,
   "metadata": {},
   "outputs": [
    {
     "data": {
      "text/plain": [
       "{'messages': [HumanMessage(content='Hi, my name is Brian. I am a software engineer working at Meta. My background is in computer science and I have a passion for building scalable and efficient systems. My previous projects are in building scalable and efficient systems, as well as building scalable and efficient systems. My goal is to build scalable and efficient systems.', id='3fbe0d63-6c96-4881-ab76-9cf48d27409a'),\n",
       "  HumanMessage(content='(User just joined the call, please welcome and introduce yourself:)', id='bad6431f-9fcc-4de9-8f7f-0ac9d111dfb1'),\n",
       "  HumanMessage(content='Hi, my name is Brian. I am a software engineer working at Meta. My background is in computer science and I have a passion for building scalable and efficient systems. My previous projects are in building scalable and efficient systems, as well as building scalable and efficient systems. My goal is to build scalable and efficient systems.', id='039631b5-2f50-43a9-baf1-bf66bd8c18d0'),\n",
       "  AIMessage(content=\"Hey there, Brian! It’s great to meet you. I'm also Brian, and I've been working at Roblox for about five years, mainly focusing on generative AI and machine learning. We’re here to chat about your background and experience. \\n\\nSo, can you tell me a bit more about your journey in software engineering? What got you into the field?\", additional_kwargs={'refusal': None}, response_metadata={'token_usage': {'completion_tokens': 72, 'prompt_tokens': 1480, 'total_tokens': 1552, 'completion_tokens_details': {'audio_tokens': None, 'reasoning_tokens': 0}, 'prompt_tokens_details': {'audio_tokens': None, 'cached_tokens': 1280}}, 'model_name': 'gpt-4o-mini-2024-07-18', 'system_fingerprint': 'fp_0ba0d124f1', 'finish_reason': 'stop', 'logprobs': None}, id='run-0ee132c7-875c-46fa-8f09-5386cd1c967a-0', usage_metadata={'input_tokens': 1480, 'output_tokens': 72, 'total_tokens': 1552}),\n",
       "  AIMessage(content='<thinking>\\nI have finished the step(s): introduce_self, ask_background. Now I will move on to the next step: ask_goals.\\n</thinking>', id='66809de9-c5b5-405d-9346-a1c01970686a'),\n",
       "  AIMessage(content='<thinking>\\nAll candidate signals have been caught.\\n</thinking>', id='66615465-ba58-4487-ae52-157d5a501656')],\n",
       " 'initialized': True,\n",
       " 'trigger': False,\n",
       " 'current_stage': 'intro',\n",
       " 'steps': {'intro': [Step(name='introduce_self', description='Concisely introduce yourself, brief talk about your background (feel free to make things up about your background, just be consistent throughout the interview).', done_definition='Interviewer has finished introducing themselves.', required=True),\n",
       "   Step(name='ask_background', description='Ask the candidate about their background and experience.', done_definition=\"Interviewer has finished asking about the candidate's background and experience.\", required=True),\n",
       "   Step(name='ask_goals', description='Ask the candidate about their career goals.', done_definition=\"Interviewer has finished asking about the candidate's career goals.\", required=True),\n",
       "   Step(name='discuss_projects', description=\"Discuss the candidate's past projects and their role in them. Remember to praise interviewee on their achievement.\", done_definition=\"Interviewer has finished discussing the candidate's past projects and their role in them.\", required=True)],\n",
       "  'coding': [Step(name='describe_problem', description='Describe the problem to the candidate.', done_definition='Interviewer has finished describing the problem.', required=True),\n",
       "   Step(name='prompt_coding', description='Let the candidate start writing the code to solve the problem.', done_definition='Interviewer has finished prompting the candidate to start writing the code, or the candidate has started writing the code without prompting.', required=True),\n",
       "   Step(name='monitor_coding', description=\"Monitor the candidate's coding progress, respond accordingly if they need help, clarification, or if they are stuck and need hints.\", done_definition=\"Monitoring step isn't done until candidate has finished writing the complete code solution (not necessarily passed all test cases).\", required=True),\n",
       "   Step(name='prompt_explain_code', description='Let the candidate explain their code and the approach they took to solve the problem.', done_definition='Interviewer has finished prompting the candidate to explain their code, or the candidate has finished explaining their code without prompting.', required=True),\n",
       "   Step(name='prompt_test_case', description='Let the candidate write the test cases for their code.', done_definition='Interviewer has finished prompting the candidate to write the test cases, or the candidate has finished writing the test cases without prompting.', required=True),\n",
       "   Step(name='prompt_optimization', description=\"If candidate's code can be optimized, ask them if they can think of a better solution\", done_definition='Interviewer has finished prompting the candidate to optimize their code.', required=False)],\n",
       "  'eval': [Step(name='tell_overall_perf', description='Tell candidate how they did in the interview.', done_definition='Interviewer has finished telling candidate how they did in the interview.', required=True),\n",
       "   Step(name='tell_strength', description='Tell candidate what they did well and what they could improve on.', done_definition='Interviewer has finished telling candidate what they did well and what they could improve on.', required=True),\n",
       "   Step(name='suggest_improve', description='Give candidate suggestions on how to improve their coding skills.', done_definition='Interviewer has finished giving candidate suggestions on how to improve their coding skills.', required=True),\n",
       "   Step(name='ask_question_back', description='Ask candidate if they have any questions for you.', done_definition='Interviewer has finished asking candidate if they have any questions for you.', required=True),\n",
       "   Step(name='answer_user_question', description='Answer related questions user might have', done_definition='Interviewer has finished answering related questions user might have', required=False)]},\n",
       " 'signals': {'intro': [Signal(name='candidate_intro_done', description='The candidate has introduced themselves about their background.'),\n",
       "   Signal(name='candidate_goals_done', description='The candidate has finished talking about their career goals.'),\n",
       "   Signal(name='candidate_projects_done', description='The candidate has finished talking about their past projects and their role in them.')],\n",
       "  'coding': [Signal(name='clarifying_questions', description='The candidate asks clarifying questions about the problem.'),\n",
       "   Signal(name='thought_process', description='The candidate explains their high-level thought process for solving the problem.'),\n",
       "   Signal(name='code_finished', description='The candidate has finished writing the code.'),\n",
       "   Signal(name='passed_all_tests', description='The candidate has passed all test cases.')],\n",
       "  'eval': [Signal(name='user_questions', description='User has asked questions about the interview process or the candidate.')]},\n",
       " 'completed_steps': {'intro': ['introduce_self', 'ask_background'],\n",
       "  'coding': [],\n",
       "  'eval': []},\n",
       " 'caught_signals': {'intro': ['candidate_intro_done',\n",
       "   'candidate_goals_done',\n",
       "   'candidate_projects_done'],\n",
       "  'coding': [],\n",
       "  'eval': []}}"
      ]
     },
     "execution_count": 4,
     "metadata": {},
     "output_type": "execute_result"
    }
   ],
   "source": [
    "graph.get_state(config=config).values"
   ]
  },
  {
   "cell_type": "code",
   "execution_count": null,
   "metadata": {},
   "outputs": [],
   "source": []
  }
 ],
 "metadata": {
  "kernelspec": {
   "display_name": ".venv",
   "language": "python",
   "name": "python3"
  },
  "language_info": {
   "codemirror_mode": {
    "name": "ipython",
    "version": 3
   },
   "file_extension": ".py",
   "mimetype": "text/x-python",
   "name": "python",
   "nbconvert_exporter": "python",
   "pygments_lexer": "ipython3",
   "version": "3.12.6"
  }
 },
 "nbformat": 4,
 "nbformat_minor": 2
}
