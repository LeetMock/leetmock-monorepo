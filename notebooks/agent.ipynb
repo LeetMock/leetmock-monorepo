{
 "cells": [
  {
   "cell_type": "code",
   "execution_count": null,
   "metadata": {},
   "outputs": [],
   "source": [
    "from dotenv import load_dotenv, find_dotenv\n",
    "\n",
    "load_dotenv(find_dotenv())"
   ]
  },
  {
   "cell_type": "markdown",
   "metadata": {},
   "source": [
    "### Test Local LangGraph Agent"
   ]
  },
  {
   "cell_type": "code",
   "execution_count": null,
   "metadata": {},
   "outputs": [],
   "source": [
    "from langgraph_sdk import get_client\n",
    "\n",
    "url = \"https://leetmock001-76a7d6889223553c93a96358909dd6e3.default.us.langgraph.app\"\n",
    "client = get_client(url=url)\n",
    "\n",
    "# Using the graph deployed with the name \"agent\"\n",
    "assistant_id = \"template\"\n",
    "\n",
    "# create thread\n",
    "thread = await client.threads.create()\n",
    "\n",
    "print(thread)"
   ]
  },
  {
   "cell_type": "code",
   "execution_count": 4,
   "metadata": {},
   "outputs": [],
   "source": [
    "openai_assistant = await client.assistants.create(graph_id=assistant_id)"
   ]
  },
  {
   "cell_type": "code",
   "execution_count": null,
   "metadata": {},
   "outputs": [],
   "source": [
    "openai_assistant"
   ]
  },
  {
   "cell_type": "code",
   "execution_count": null,
   "metadata": {},
   "outputs": [],
   "source": [
    "\n",
    "async for chunk in client.runs.stream(\n",
    "    thread[\"thread_id\"],\n",
    "    assistant_id,\n",
    "    input={\"messages\": [\"HI\"], \"event\": \"user_message\"},\n",
    "    stream_mode=[\"updates\"],\n",
    "    # multitask_strategy=\"interrupt\",\n",
    "):\n",
    "    # tags = chunk.data.get(\"tags\", [])\n",
    "    # if \"chatbot\" not in tags:\n",
    "    #     continue\n",
    "\n",
    "    # event = chunk.data.get(\"event\", None)\n",
    "    # if event != \"on_chat_model_stream\":\n",
    "    #     continue\n",
    "\n",
    "    # content = chunk.data.get(\"data\", {}).get(\"chunk\", {}).get(\"content\", \"\")\n",
    "\n",
    "    print(\"-\" * 100)\n",
    "    print(chunk)\n",
    "    print(\"-\" * 100)"
   ]
  },
  {
   "cell_type": "code",
   "execution_count": 1,
   "metadata": {},
   "outputs": [],
   "source": [
    "from agent_graph.template.graph import create_graph\n",
    "\n",
    "graph = create_graph()"
   ]
  },
  {
   "cell_type": "code",
   "execution_count": null,
   "metadata": {},
   "outputs": [],
   "source": [
    "async for chunk in graph.astream(\n",
    "    input={\n",
    "        \"messages\": [\"HI\"],\n",
    "        \"event\": \"user_message\"\n",
    "    },\n",
    "    stream_mode=[\"updates\"],\n",
    "    config={ \"configurable\": {\"thread_id\": \"1\" } },\n",
    "    subgraphs=True,\n",
    "):\n",
    "    print(chunk)"
   ]
  },
  {
   "cell_type": "code",
   "execution_count": null,
   "metadata": {},
   "outputs": [],
   "source": [
    "from langchain_core.load.dump import dumps\n",
    "\n",
    "state = graph.get_state(config={\"configurable\": {\"thread_id\": \"1\"}}, subgraphs=True)\n",
    "\n",
    "print(dumps(state, pretty=True))"
   ]
  },
  {
   "cell_type": "code",
   "execution_count": null,
   "metadata": {},
   "outputs": [],
   "source": [
    "from pydantic.v1 import BaseModel\n",
    "\n",
    "class Test(BaseModel):\n",
    "    a: int\n",
    "    b: str\n",
    "\n",
    "from langchain_core.prompts import PromptTemplate\n",
    "\n",
    "PROMPT = \"\"\"\n",
    "{% for test in tests %}\n",
    "{{ test.a }} {{ test.b }}\n",
    "{% endfor %}\n",
    "\"\"\"\n",
    "\n",
    "prompt = PromptTemplate.from_template(PROMPT, template_format=\"jinja2\")\n",
    "\n",
    "print(\n",
    "    prompt.invoke(\n",
    "        {\"tests\": set([Test(a=1, b=\"2\"), Test(a=3, b=\"4\"), Test(a=5, b=\"6\")])}\n",
    "    ).to_string()\n",
    ")"
   ]
  },
  {
   "cell_type": "code",
   "execution_count": 5,
   "metadata": {},
   "outputs": [
    {
     "name": "stdout",
     "output_type": "stream",
     "text": [
      "sleep 1\n",
      "sleep 2\n",
      "sleep 3\n"
     ]
    },
    {
     "name": "stdout",
     "output_type": "stream",
     "text": [
      "called\n"
     ]
    }
   ],
   "source": [
    "import asyncio\n",
    "from debouncer import debounce\n",
    "\n",
    "@debounce(wait=1.1)\n",
    "def demo_function() -> None:\n",
    "    print(\"called\")\n",
    "\n",
    "asyncio.create_task(demo_function())\n",
    "await asyncio.sleep(1)\n",
    "print(\"sleep 1\")\n",
    "asyncio.create_task(demo_function())\n",
    "await asyncio.sleep(1)\n",
    "print(\"sleep 2\")\n",
    "asyncio.create_task(demo_function())\n",
    "await asyncio.sleep(1)\n",
    "print(\"sleep 3\")"
   ]
  },
  {
   "cell_type": "code",
   "execution_count": null,
   "metadata": {},
   "outputs": [],
   "source": []
  }
 ],
 "metadata": {
  "kernelspec": {
   "display_name": ".venv",
   "language": "python",
   "name": "python3"
  },
  "language_info": {
   "codemirror_mode": {
    "name": "ipython",
    "version": 3
   },
   "file_extension": ".py",
   "mimetype": "text/x-python",
   "name": "python",
   "nbconvert_exporter": "python",
   "pygments_lexer": "ipython3",
   "version": "3.12.6"
  }
 },
 "nbformat": 4,
 "nbformat_minor": 2
}
