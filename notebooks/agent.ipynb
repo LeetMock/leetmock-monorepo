{
 "cells": [
  {
   "cell_type": "markdown",
   "metadata": {},
   "source": [
    "### Test Local LangGraph Agent"
   ]
  },
  {
   "cell_type": "code",
   "execution_count": null,
   "metadata": {},
   "outputs": [],
   "source": [
    "from langgraph_sdk import get_client\n",
    "\n",
    "client = get_client(url=\"http://localhost:8123\")\n",
    "\n",
    "# Using the graph deployed with the name \"agent\"\n",
    "assistant_id = \"code-mock-v1\"\n",
    "\n",
    "# create thread\n",
    "thread = await client.threads.create()\n",
    "\n",
    "print(thread)"
   ]
  },
  {
   "cell_type": "code",
   "execution_count": null,
   "metadata": {},
   "outputs": [],
   "source": [
    "input = {\"messages\": []}\n",
    "\n",
    "async for chunk in client.runs.stream(\n",
    "    thread[\"thread_id\"],\n",
    "    assistant_id,\n",
    "    input=input,\n",
    "    stream_mode=\"events\",\n",
    "    multitask_strategy=\"interrupt\",\n",
    "):\n",
    "    tags = chunk.data.get(\"tags\", [])\n",
    "    if \"chatbot\" not in tags:\n",
    "        continue\n",
    "\n",
    "    event = chunk.data.get(\"event\", None)\n",
    "    if event != \"on_chat_model_stream\":\n",
    "        continue\n",
    "\n",
    "    content = chunk.data.get(\"data\", {}).get(\"chunk\", {}).get(\"content\", \"\")\n",
    "\n",
    "    print(\"-\" * 100)\n",
    "    print(f\"`{content}`\")\n",
    "    print(\"-\" * 100)"
   ]
  },
  {
   "cell_type": "code",
   "execution_count": null,
   "metadata": {},
   "outputs": [],
   "source": []
  }
 ],
 "metadata": {
  "kernelspec": {
   "display_name": ".venv",
   "language": "python",
   "name": "python3"
  },
  "language_info": {
   "codemirror_mode": {
    "name": "ipython",
    "version": 3
   },
   "file_extension": ".py",
   "mimetype": "text/x-python",
   "name": "python",
   "nbconvert_exporter": "python",
   "pygments_lexer": "ipython3",
   "version": "3.12.1"
  }
 },
 "nbformat": 4,
 "nbformat_minor": 2
}
