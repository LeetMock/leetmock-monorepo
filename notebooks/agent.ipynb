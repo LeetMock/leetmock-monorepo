{
 "cells": [
  {
   "cell_type": "code",
   "execution_count": null,
   "metadata": {},
   "outputs": [],
   "source": [
    "from dotenv import load_dotenv, find_dotenv\n",
    "\n",
    "load_dotenv(find_dotenv())"
   ]
  },
  {
   "cell_type": "markdown",
   "metadata": {},
   "source": [
    "### Test Local LangGraph Agent"
   ]
  },
  {
   "cell_type": "code",
   "execution_count": null,
   "metadata": {},
   "outputs": [],
   "source": [
    "from langgraph_sdk import get_client\n",
    "\n",
    "url = \"https://leetmock001-76a7d6889223553c93a96358909dd6e3.default.us.langgraph.app\"\n",
    "client = get_client(url=url)\n",
    "\n",
    "# Using the graph deployed with the name \"agent\"\n",
    "assistant_id = \"template\"\n",
    "\n",
    "# create thread\n",
    "thread = await client.threads.create()\n",
    "\n",
    "print(thread)\n"
   ]
  },
  {
   "cell_type": "code",
   "execution_count": 3,
   "metadata": {},
   "outputs": [],
   "source": [
    "openai_assistant = await client.assistants.create(graph_id=assistant_id)"
   ]
  },
  {
   "cell_type": "code",
   "execution_count": null,
   "metadata": {},
   "outputs": [],
   "source": [
    "openai_assistant"
   ]
  },
  {
   "cell_type": "code",
   "execution_count": 34,
   "metadata": {},
   "outputs": [],
   "source": [
    "import time\n",
    "from agent_graph.template.graph import create_graph\n",
    "\n",
    "\n",
    "graph = create_graph()\n",
    "async def print_time():\n",
    "    start_t = time.time()\n",
    "    async for chunk in client.runs.stream(\n",
    "        thread[\"thread_id\"],\n",
    "        assistant_id,\n",
    "        input={\"messages\": [\"HI\"], \"event\": \"user_message\"},\n",
    "        stream_mode=[\"updates\"],\n",
    "        multitask_strategy=\"interrupt\",\n",
    "    ):\n",
    "        # tags = chunk.data.get(\"tags\", [])\n",
    "        # if \"chatbot\" not in tags:\n",
    "        #     continue\n",
    "\n",
    "        # event = chunk.data.get(\"event\", None)\n",
    "        # if event != \"on_chat_model_stream\":\n",
    "        #     continue\n",
    "\n",
    "        # content = chunk.data.get(\"data\", {}).get(\"chunk\", {}).get(\"content\", \"\")\n",
    "        return time.time() - start_t\n",
    "        print(\"-\" * 100)\n",
    "        print(chunk)\n",
    "        print(\"-\" * 100)\n",
    "\n",
    "async def print_time_local():\n",
    "    start_t = time.time()\n",
    "    async for chunk in graph.astream_events(\n",
    "        input={\"messages\": [\"HI\"], \"trigger\": True},\n",
    "        version=\"v2\",\n",
    "    ):\n",
    "        return time.time() - start_t"
   ]
  },
  {
   "cell_type": "code",
   "execution_count": null,
   "metadata": {},
   "outputs": [],
   "source": [
    "import matplotlib.pyplot as plt\n",
    "import numpy as np\n",
    "\n",
    "times = []\n",
    "for _ in range(200):\n",
    "    t = await print_time_local()\n",
    "    times.append(t)\n",
    "    print(t)"
   ]
  },
  {
   "cell_type": "code",
   "execution_count": null,
   "metadata": {},
   "outputs": [],
   "source": [
    "# make interval to be 0.01\n",
    "import numpy as np\n",
    "\n",
    "# Determine the range of the data\n",
    "min_time = min(times)\n",
    "max_time = max(times)\n",
    "\n",
    "# Create bin edges with 0.01 intervals\n",
    "# plt.xticks(np.arange(min_time, max_time + 0.2, 0.2))\n",
    "\n",
    "plt.hist(times)\n",
    "plt.xlabel(\"Time taken (s)\")\n",
    "plt.ylabel(\"Frequency\")\n",
    "plt.title(\"Distribution of time taken to respond\")\n",
    "plt.show()"
   ]
  },
  {
   "cell_type": "code",
   "execution_count": null,
   "metadata": {},
   "outputs": [],
   "source": [
    "sum(times) / len(times)"
   ]
  },
  {
   "cell_type": "code",
   "execution_count": 1,
   "metadata": {},
   "outputs": [],
   "source": [
    "from agent_graph.code_mock_staged_v1.graph import create_compiled_graph, create_graph\n",
    "from dotenv import load_dotenv, find_dotenv\n",
    "\n",
    "load_dotenv(find_dotenv())\n",
    "\n",
    "# graph = create_graph().compile()\n",
    "graph = create_compiled_graph()\n",
    "config = { \"configurable\": {\"thread_id\": \"1\" } }"
   ]
  },
  {
   "cell_type": "code",
   "execution_count": 3,
   "metadata": {},
   "outputs": [],
   "source": [
    "import asyncio\n",
    "\n",
    "a = graph.ainvoke({\"messages\": [\"No!\"]}, config=config)\n",
    "b = graph.ainvoke({\"messages\": [\"Hi\"]}, config=config)"
   ]
  },
  {
   "cell_type": "code",
   "execution_count": 4,
   "metadata": {},
   "outputs": [
    {
     "data": {
      "text/plain": [
       "{}"
      ]
     },
     "execution_count": 4,
     "metadata": {},
     "output_type": "execute_result"
    }
   ],
   "source": [
    "graph.get_state(config=config).values"
   ]
  },
  {
   "cell_type": "code",
   "execution_count": 3,
   "metadata": {},
   "outputs": [
    {
     "name": "stdout",
     "output_type": "stream",
     "text": [
      "('debug', {'type': 'checkpoint', 'timestamp': '2024-11-04T09:04:02.982465+00:00', 'step': 3, 'payload': {'config': {'tags': [], 'metadata': ChainMap({'thread_id': '1'}), 'callbacks': None, 'recursion_limit': 25, 'configurable': {'checkpoint_ns': '', 'thread_id': '1', '__pregel_stream_writer': <function Pregel.astream.<locals>.<lambda> at 0x12cab5bc0>, 'checkpoint_id': '1ef9a8bb-cc35-66f8-8003-a00a9a320b16'}}, 'parent_config': {'tags': [], 'metadata': ChainMap({'thread_id': '1'}), 'callbacks': None, 'recursion_limit': 25, 'configurable': {'checkpoint_ns': '', 'thread_id': '1', '__pregel_stream_writer': <function Pregel.astream.<locals>.<lambda> at 0x12cab5bc0>, 'checkpoint_id': '1ef9a8bb-4d81-6ae6-8002-26289858362d'}}, 'values': {'messages': [HumanMessage(content='(User just joined the call, please welcome and introduce yourself:)', id='8c16bddc-09d3-4eaa-86e5-0b7774f89189')], 'initialized': True, 'trigger': True, 'steps': {'intro': [Step(name='introduce_self', description='Concisely introduce yourself, brief talk about your background (feel free to make things up about your background, just be consistent throughout the interview).', done_definition='Interviewer has finished introducing themselves.', required=True), Step(name='ask_background', description='Ask the candidate about their background and experience.', done_definition=\"Interviewer has finished asking about the candidate's background and experience.\", required=True), Step(name='ask_goals', description='Ask the candidate about their career goals.', done_definition=\"Interviewer has finished asking about the candidate's career goals.\", required=True), Step(name='discuss_projects', description=\"Discuss the candidate's past projects and their role in them. Remember to praise interviewee on their achievement.\", done_definition=\"Interviewer has finished discussing the candidate's past projects and their role in them.\", required=True)], 'coding': [Step(name='describe_problem', description='Describe the problem to the candidate.', done_definition='Interviewer has finished describing the problem.', required=True), Step(name='prompt_coding', description='Let the candidate start writing the code to solve the problem.', done_definition='Interviewer has finished prompting the candidate to start writing the code, or the candidate has started writing the code without prompting.', required=True), Step(name='monitor_coding', description=\"Monitor the candidate's coding progress, respond accordingly if they need help, clarification, or if they are stuck and need hints.\", done_definition=\"Monitoring step isn't done until candidate has finished writing the complete code solution (not necessarily passed all test cases).\", required=True), Step(name='prompt_explain_code', description='Let the candidate explain their code and the approach they took to solve the problem.', done_definition='Interviewer has finished prompting the candidate to explain their code, or the candidate has finished explaining their code without prompting.', required=True), Step(name='prompt_test_case', description='Let the candidate write the test cases for their code.', done_definition='Interviewer has finished prompting the candidate to write the test cases, or the candidate has finished writing the test cases without prompting.', required=True), Step(name='prompt_optimization', description=\"If candidate's code can be optimized, ask them if they can think of a better solution\", done_definition='Interviewer has finished prompting the candidate to optimize their code.')], 'eval': [Step(name='tell_overall_perf', description='Tell candidate how they did in the interview.', done_definition='Interviewer has finished telling candidate how they did in the interview.', required=True), Step(name='tell_strength', description='Tell candidate what they did well and what they could improve on.', done_definition='Interviewer has finished telling candidate what they did well and what they could improve on.', required=True), Step(name='suggest_improve', description='Give candidate suggestions on how to improve their coding skills.', done_definition='Interviewer has finished giving candidate suggestions on how to improve their coding skills.', required=True), Step(name='ask_question_back', description='Ask candidate if they have any questions for you.', done_definition='Interviewer has finished asking candidate if they have any questions for you.', required=True), Step(name='answer_user_question', description='Answer related questions user might have', done_definition='Interviewer has finished answering related questions user might have')]}, 'signals': {'intro': [Signal(name='candidate_intro_done', description='The candidate has introduced themselves about their background.'), Signal(name='candidate_goals_done', description='The candidate has finished talking about their career goals.'), Signal(name='candidate_projects_done', description='The candidate has finished talking about their past projects and their role in them.')], 'coding': [Signal(name='clarifying_questions', description='The candidate asks clarifying questions about the problem.'), Signal(name='thought_process', description='The candidate explains their high-level thought process for solving the problem.'), Signal(name='code_finished', description='The candidate has finished writing the code.'), Signal(name='passed_all_tests', description='The candidate has passed all test cases.')], 'eval': [Signal(name='user_questions', description='User has asked questions about the interview process or the candidate.')]}, 'completed_steps': {'intro': [], 'coding': [], 'eval': []}, 'caught_signals': {'intro': [], 'coding': [], 'eval': []}}, 'metadata': {'source': 'input', 'writes': {'__start__': {'messages': [], 'event': 'user_message'}}, 'step': 3, 'parents': {}}, 'next': ['__start__'], 'tasks': [{'id': 'f2087baf-fa47-0a85-d23d-df65fc3d95de', 'name': '__start__', 'interrupts': (), 'state': None}]}})\n",
      "('debug', {'type': 'checkpoint', 'timestamp': '2024-11-04T09:04:02.985772+00:00', 'step': 4, 'payload': {'config': {'tags': [], 'metadata': ChainMap({'thread_id': '1'}), 'callbacks': None, 'recursion_limit': 25, 'configurable': {'checkpoint_ns': '', 'thread_id': '1', '__pregel_stream_writer': <function Pregel.astream.<locals>.<lambda> at 0x12cab5bc0>, 'checkpoint_id': '1ef9a8bb-cc3d-68a8-8004-4c9567902944'}}, 'parent_config': {'tags': [], 'metadata': ChainMap({'thread_id': '1'}), 'callbacks': None, 'recursion_limit': 25, 'configurable': {'checkpoint_ns': '', 'thread_id': '1', '__pregel_stream_writer': <function Pregel.astream.<locals>.<lambda> at 0x12cab5bc0>, 'checkpoint_id': '1ef9a8bb-cc35-66f8-8003-a00a9a320b16'}}, 'values': {'messages': [HumanMessage(content='(User just joined the call, please welcome and introduce yourself:)', id='8c16bddc-09d3-4eaa-86e5-0b7774f89189')], 'initialized': True, 'event': 'user_message', 'trigger': True, 'steps': {'intro': [Step(name='introduce_self', description='Concisely introduce yourself, brief talk about your background (feel free to make things up about your background, just be consistent throughout the interview).', done_definition='Interviewer has finished introducing themselves.', required=True), Step(name='ask_background', description='Ask the candidate about their background and experience.', done_definition=\"Interviewer has finished asking about the candidate's background and experience.\", required=True), Step(name='ask_goals', description='Ask the candidate about their career goals.', done_definition=\"Interviewer has finished asking about the candidate's career goals.\", required=True), Step(name='discuss_projects', description=\"Discuss the candidate's past projects and their role in them. Remember to praise interviewee on their achievement.\", done_definition=\"Interviewer has finished discussing the candidate's past projects and their role in them.\", required=True)], 'coding': [Step(name='describe_problem', description='Describe the problem to the candidate.', done_definition='Interviewer has finished describing the problem.', required=True), Step(name='prompt_coding', description='Let the candidate start writing the code to solve the problem.', done_definition='Interviewer has finished prompting the candidate to start writing the code, or the candidate has started writing the code without prompting.', required=True), Step(name='monitor_coding', description=\"Monitor the candidate's coding progress, respond accordingly if they need help, clarification, or if they are stuck and need hints.\", done_definition=\"Monitoring step isn't done until candidate has finished writing the complete code solution (not necessarily passed all test cases).\", required=True), Step(name='prompt_explain_code', description='Let the candidate explain their code and the approach they took to solve the problem.', done_definition='Interviewer has finished prompting the candidate to explain their code, or the candidate has finished explaining their code without prompting.', required=True), Step(name='prompt_test_case', description='Let the candidate write the test cases for their code.', done_definition='Interviewer has finished prompting the candidate to write the test cases, or the candidate has finished writing the test cases without prompting.', required=True), Step(name='prompt_optimization', description=\"If candidate's code can be optimized, ask them if they can think of a better solution\", done_definition='Interviewer has finished prompting the candidate to optimize their code.')], 'eval': [Step(name='tell_overall_perf', description='Tell candidate how they did in the interview.', done_definition='Interviewer has finished telling candidate how they did in the interview.', required=True), Step(name='tell_strength', description='Tell candidate what they did well and what they could improve on.', done_definition='Interviewer has finished telling candidate what they did well and what they could improve on.', required=True), Step(name='suggest_improve', description='Give candidate suggestions on how to improve their coding skills.', done_definition='Interviewer has finished giving candidate suggestions on how to improve their coding skills.', required=True), Step(name='ask_question_back', description='Ask candidate if they have any questions for you.', done_definition='Interviewer has finished asking candidate if they have any questions for you.', required=True), Step(name='answer_user_question', description='Answer related questions user might have', done_definition='Interviewer has finished answering related questions user might have')]}, 'signals': {'intro': [Signal(name='candidate_intro_done', description='The candidate has introduced themselves about their background.'), Signal(name='candidate_goals_done', description='The candidate has finished talking about their career goals.'), Signal(name='candidate_projects_done', description='The candidate has finished talking about their past projects and their role in them.')], 'coding': [Signal(name='clarifying_questions', description='The candidate asks clarifying questions about the problem.'), Signal(name='thought_process', description='The candidate explains their high-level thought process for solving the problem.'), Signal(name='code_finished', description='The candidate has finished writing the code.'), Signal(name='passed_all_tests', description='The candidate has passed all test cases.')], 'eval': [Signal(name='user_questions', description='User has asked questions about the interview process or the candidate.')]}, 'completed_steps': {'intro': [], 'coding': [], 'eval': []}, 'caught_signals': {'intro': [], 'coding': [], 'eval': []}}, 'metadata': {'source': 'loop', 'writes': None, 'step': 4, 'parents': {}}, 'next': ['on_event'], 'tasks': [{'id': '9d5360f9-b364-fe21-9c63-c60acd7b2a32', 'name': 'on_event', 'interrupts': (), 'state': None}]}})\n",
      "('debug', {'type': 'task', 'timestamp': '2024-11-04T09:04:02.986572+00:00', 'step': 5, 'payload': {'id': '9d5360f9-b364-fe21-9c63-c60acd7b2a32', 'name': 'on_event', 'input': AgentState(messages=[HumanMessage(content='(User just joined the call, please welcome and introduce yourself:)', id='8c16bddc-09d3-4eaa-86e5-0b7774f89189')], initialized=True, event='user_message', trigger=True, current_stage=<StageTypes.INTRO: 'intro'>, steps={<StageTypes.INTRO: 'intro'>: [Step(name='introduce_self', description='Concisely introduce yourself, brief talk about your background (feel free to make things up about your background, just be consistent throughout the interview).', done_definition='Interviewer has finished introducing themselves.', required=True), Step(name='ask_background', description='Ask the candidate about their background and experience.', done_definition=\"Interviewer has finished asking about the candidate's background and experience.\", required=True), Step(name='ask_goals', description='Ask the candidate about their career goals.', done_definition=\"Interviewer has finished asking about the candidate's career goals.\", required=True), Step(name='discuss_projects', description=\"Discuss the candidate's past projects and their role in them. Remember to praise interviewee on their achievement.\", done_definition=\"Interviewer has finished discussing the candidate's past projects and their role in them.\", required=True)], <StageTypes.CODING: 'coding'>: [Step(name='describe_problem', description='Describe the problem to the candidate.', done_definition='Interviewer has finished describing the problem.', required=True), Step(name='prompt_coding', description='Let the candidate start writing the code to solve the problem.', done_definition='Interviewer has finished prompting the candidate to start writing the code, or the candidate has started writing the code without prompting.', required=True), Step(name='monitor_coding', description=\"Monitor the candidate's coding progress, respond accordingly if they need help, clarification, or if they are stuck and need hints.\", done_definition=\"Monitoring step isn't done until candidate has finished writing the complete code solution (not necessarily passed all test cases).\", required=True), Step(name='prompt_explain_code', description='Let the candidate explain their code and the approach they took to solve the problem.', done_definition='Interviewer has finished prompting the candidate to explain their code, or the candidate has finished explaining their code without prompting.', required=True), Step(name='prompt_test_case', description='Let the candidate write the test cases for their code.', done_definition='Interviewer has finished prompting the candidate to write the test cases, or the candidate has finished writing the test cases without prompting.', required=True), Step(name='prompt_optimization', description=\"If candidate's code can be optimized, ask them if they can think of a better solution\", done_definition='Interviewer has finished prompting the candidate to optimize their code.')], <StageTypes.EVAL: 'eval'>: [Step(name='tell_overall_perf', description='Tell candidate how they did in the interview.', done_definition='Interviewer has finished telling candidate how they did in the interview.', required=True), Step(name='tell_strength', description='Tell candidate what they did well and what they could improve on.', done_definition='Interviewer has finished telling candidate what they did well and what they could improve on.', required=True), Step(name='suggest_improve', description='Give candidate suggestions on how to improve their coding skills.', done_definition='Interviewer has finished giving candidate suggestions on how to improve their coding skills.', required=True), Step(name='ask_question_back', description='Ask candidate if they have any questions for you.', done_definition='Interviewer has finished asking candidate if they have any questions for you.', required=True), Step(name='answer_user_question', description='Answer related questions user might have', done_definition='Interviewer has finished answering related questions user might have')]}, signals={<StageTypes.INTRO: 'intro'>: [Signal(name='candidate_intro_done', description='The candidate has introduced themselves about their background.'), Signal(name='candidate_goals_done', description='The candidate has finished talking about their career goals.'), Signal(name='candidate_projects_done', description='The candidate has finished talking about their past projects and their role in them.')], <StageTypes.CODING: 'coding'>: [Signal(name='clarifying_questions', description='The candidate asks clarifying questions about the problem.'), Signal(name='thought_process', description='The candidate explains their high-level thought process for solving the problem.'), Signal(name='code_finished', description='The candidate has finished writing the code.'), Signal(name='passed_all_tests', description='The candidate has passed all test cases.')], <StageTypes.EVAL: 'eval'>: [Signal(name='user_questions', description='User has asked questions about the interview process or the candidate.')]}, completed_steps={<StageTypes.INTRO: 'intro'>: [], <StageTypes.CODING: 'coding'>: [], <StageTypes.EVAL: 'eval'>: []}, caught_signals={<StageTypes.INTRO: 'intro'>: [], <StageTypes.CODING: 'coding'>: [], <StageTypes.EVAL: 'eval'>: []}), 'triggers': ['branch:__start__:decide_entry_point:on_event']}})\n",
      "('custom', {'messages': [1]})\n",
      "('custom', {'messages': [2]})\n",
      "('custom', {'messages': [3]})\n",
      "('updates', {'on_event': {'event': None, 'trigger': True}})\n",
      "('debug', {'type': 'task_result', 'timestamp': '2024-11-04T09:04:02.987822+00:00', 'step': 5, 'payload': {'id': '9d5360f9-b364-fe21-9c63-c60acd7b2a32', 'name': 'on_event', 'error': None, 'result': [('event', None), ('trigger', True)], 'interrupts': []}})\n",
      "('debug', {'type': 'checkpoint', 'timestamp': '2024-11-04T09:04:02.987889+00:00', 'step': 5, 'payload': {'config': {'tags': [], 'metadata': ChainMap({'thread_id': '1'}), 'callbacks': None, 'recursion_limit': 25, 'configurable': {'checkpoint_ns': '', 'thread_id': '1', '__pregel_stream_writer': <function Pregel.astream.<locals>.<lambda> at 0x12cab5bc0>, 'checkpoint_id': '1ef9a8bb-cc42-6ad8-8005-f25a7dbd5163'}}, 'parent_config': {'tags': [], 'metadata': ChainMap({'thread_id': '1'}), 'callbacks': None, 'recursion_limit': 25, 'configurable': {'checkpoint_ns': '', 'thread_id': '1', '__pregel_stream_writer': <function Pregel.astream.<locals>.<lambda> at 0x12cab5bc0>, 'checkpoint_id': '1ef9a8bb-cc3d-68a8-8004-4c9567902944'}}, 'values': {'messages': [HumanMessage(content='(User just joined the call, please welcome and introduce yourself:)', id='8c16bddc-09d3-4eaa-86e5-0b7774f89189')], 'initialized': True, 'event': None, 'trigger': True, 'steps': {'intro': [Step(name='introduce_self', description='Concisely introduce yourself, brief talk about your background (feel free to make things up about your background, just be consistent throughout the interview).', done_definition='Interviewer has finished introducing themselves.', required=True), Step(name='ask_background', description='Ask the candidate about their background and experience.', done_definition=\"Interviewer has finished asking about the candidate's background and experience.\", required=True), Step(name='ask_goals', description='Ask the candidate about their career goals.', done_definition=\"Interviewer has finished asking about the candidate's career goals.\", required=True), Step(name='discuss_projects', description=\"Discuss the candidate's past projects and their role in them. Remember to praise interviewee on their achievement.\", done_definition=\"Interviewer has finished discussing the candidate's past projects and their role in them.\", required=True)], 'coding': [Step(name='describe_problem', description='Describe the problem to the candidate.', done_definition='Interviewer has finished describing the problem.', required=True), Step(name='prompt_coding', description='Let the candidate start writing the code to solve the problem.', done_definition='Interviewer has finished prompting the candidate to start writing the code, or the candidate has started writing the code without prompting.', required=True), Step(name='monitor_coding', description=\"Monitor the candidate's coding progress, respond accordingly if they need help, clarification, or if they are stuck and need hints.\", done_definition=\"Monitoring step isn't done until candidate has finished writing the complete code solution (not necessarily passed all test cases).\", required=True), Step(name='prompt_explain_code', description='Let the candidate explain their code and the approach they took to solve the problem.', done_definition='Interviewer has finished prompting the candidate to explain their code, or the candidate has finished explaining their code without prompting.', required=True), Step(name='prompt_test_case', description='Let the candidate write the test cases for their code.', done_definition='Interviewer has finished prompting the candidate to write the test cases, or the candidate has finished writing the test cases without prompting.', required=True), Step(name='prompt_optimization', description=\"If candidate's code can be optimized, ask them if they can think of a better solution\", done_definition='Interviewer has finished prompting the candidate to optimize their code.')], 'eval': [Step(name='tell_overall_perf', description='Tell candidate how they did in the interview.', done_definition='Interviewer has finished telling candidate how they did in the interview.', required=True), Step(name='tell_strength', description='Tell candidate what they did well and what they could improve on.', done_definition='Interviewer has finished telling candidate what they did well and what they could improve on.', required=True), Step(name='suggest_improve', description='Give candidate suggestions on how to improve their coding skills.', done_definition='Interviewer has finished giving candidate suggestions on how to improve their coding skills.', required=True), Step(name='ask_question_back', description='Ask candidate if they have any questions for you.', done_definition='Interviewer has finished asking candidate if they have any questions for you.', required=True), Step(name='answer_user_question', description='Answer related questions user might have', done_definition='Interviewer has finished answering related questions user might have')]}, 'signals': {'intro': [Signal(name='candidate_intro_done', description='The candidate has introduced themselves about their background.'), Signal(name='candidate_goals_done', description='The candidate has finished talking about their career goals.'), Signal(name='candidate_projects_done', description='The candidate has finished talking about their past projects and their role in them.')], 'coding': [Signal(name='clarifying_questions', description='The candidate asks clarifying questions about the problem.'), Signal(name='thought_process', description='The candidate explains their high-level thought process for solving the problem.'), Signal(name='code_finished', description='The candidate has finished writing the code.'), Signal(name='passed_all_tests', description='The candidate has passed all test cases.')], 'eval': [Signal(name='user_questions', description='User has asked questions about the interview process or the candidate.')]}, 'completed_steps': {'intro': [], 'coding': [], 'eval': []}, 'caught_signals': {'intro': [], 'coding': [], 'eval': []}}, 'metadata': {'source': 'loop', 'writes': {'on_event': {'event': None, 'trigger': True}}, 'step': 5, 'parents': {}}, 'next': [], 'tasks': []}})\n"
     ]
    }
   ],
   "source": [
    "async for chunk in graph.astream(\n",
    "    input={\n",
    "        \"messages\": [],\n",
    "        \"event\": \"user_message\"\n",
    "        # \"trigger\": True,\n",
    "    },\n",
    "    config=config,\n",
    "    stream_mode=[\"updates\", \"debug\", \"custom\"],\n",
    "):\n",
    "    # await graph.aupdate_state(config=config, values={ \"messages\": [\"hi\"]}, as_node=\"init_state\")\n",
    "    # state = await graph.aget_state(config=config)\n",
    "    # print(state)\n",
    "    print(chunk)\n",
    "\n",
    "# async for chunk in graph.astream(\n",
    "#     input={\n",
    "#         \"messages\": [\"Hi, my name is Brian. I am a software engineer working at Meta. My background is in computer science and I have a passion for building scalable and efficient systems. My previous projects are in building scalable and efficient systems, as well as building scalable and efficient systems. My goal is to build scalable and efficient systems.\"],\n",
    "#         # \"event\": \"user_message\"\n",
    "#         \"trigger\": True\n",
    "#     },\n",
    "#     config=config,\n",
    "#     stream_mode=[\"updates\"],\n",
    "# ):\n",
    "#     print(chunk)\n",
    "# list(graph.get_state_history(config=config))"
   ]
  },
  {
   "cell_type": "code",
   "execution_count": null,
   "metadata": {},
   "outputs": [],
   "source": [
    "r = await graph.ainvoke({ \"messages\": [\"Hi, my name is Brian. I am a software engineer working at Meta. My background is in computer science and I have a passion for building scalable and efficient systems. My previous projects are in building scalable and efficient systems, as well as building scalable and efficient systems. My goal is to build scalable and efficient systems.\"], \"trigger\": True }, config=config)\n",
    "r"
   ]
  },
  {
   "cell_type": "code",
   "execution_count": null,
   "metadata": {},
   "outputs": [],
   "source": [
    "from langchain_core.load.load import load, loads\n",
    "from langchain_core.load.dump import dumpd, dumps\n",
    "from langgraph.types import StateSnapshot\n",
    "\n",
    "state = graph.get_state(config=config)\n",
    "state"
   ]
  },
  {
   "cell_type": "code",
   "execution_count": null,
   "metadata": {},
   "outputs": [],
   "source": [
    "dumped_state = dumps(state)\n",
    "dumped_state"
   ]
  },
  {
   "cell_type": "code",
   "execution_count": null,
   "metadata": {},
   "outputs": [],
   "source": [
    "loaded_state = loads(dumped_state, valid_namespaces=[\"agent_graph\"])\n",
    "loaded_state_snapshot = StateSnapshot(*loaded_state)\n",
    "loaded_state_snapshot"
   ]
  },
  {
   "cell_type": "code",
   "execution_count": null,
   "metadata": {},
   "outputs": [],
   "source": [
    "loaded_state_snapshot == state, dumpd(loaded_state_snapshot) == dumpd(state)"
   ]
  },
  {
   "cell_type": "code",
   "execution_count": null,
   "metadata": {},
   "outputs": [],
   "source": [
    "loaded_state_snapshot.values == state.values"
   ]
  },
  {
   "cell_type": "code",
   "execution_count": 60,
   "metadata": {},
   "outputs": [],
   "source": [
    "history = list(graph.get_state_history(config=config))"
   ]
  },
  {
   "cell_type": "code",
   "execution_count": null,
   "metadata": {},
   "outputs": [],
   "source": [
    "dumped_history = dumps(history)\n",
    "dumped_history"
   ]
  },
  {
   "cell_type": "code",
   "execution_count": null,
   "metadata": {},
   "outputs": [],
   "source": [
    "loaded_history = loads(dumped_history, valid_namespaces=[\"agent_graph\"])\n",
    "loaded_history_snapshot = [StateSnapshot(*h) for h in loaded_history]\n",
    "loaded_history_snapshot"
   ]
  },
  {
   "cell_type": "code",
   "execution_count": null,
   "metadata": {},
   "outputs": [],
   "source": [
    "loaded_history_snapshot == history, dumpd(loaded_history_snapshot) == dumpd(history)"
   ]
  },
  {
   "cell_type": "code",
   "execution_count": null,
   "metadata": {},
   "outputs": [],
   "source": [
    "dumped_state_byte = dumped_state.encode()\n",
    "dumped_history_byte = dumped_history.encode()\n",
    "print(f\"State: {len(dumped_state_byte) / 1024:.2f} KB\")\n",
    "print(f\"State History: {len(dumped_history_byte) / 1024:.2f} KB\")"
   ]
  },
  {
   "cell_type": "code",
   "execution_count": null,
   "metadata": {},
   "outputs": [],
   "source": [
    "from langgraph.version import __version__\n",
    "\n",
    "__version__\n"
   ]
  },
  {
   "cell_type": "code",
   "execution_count": 10,
   "metadata": {},
   "outputs": [],
   "source": [
    "from typing import Annotated\n",
    "from langgraph.graph.state import StateGraph, CompiledStateGraph\n",
    "from langgraph.graph import add_messages\n",
    "from pydantic.v1 import BaseModel, Field\n",
    "from langgraph.checkpoint.memory import MemorySaver\n",
    "\n",
    "class State(BaseModel):\n",
    "    messages: Annotated[list[str], add_messages] = Field(default_factory=list)\n",
    "\n",
    "\n",
    "g = StateGraph(State)\n",
    "gg = g.compile(checkpointer=MemorySaver())"
   ]
  },
  {
   "cell_type": "code",
   "execution_count": 16,
   "metadata": {},
   "outputs": [
    {
     "data": {
      "text/plain": [
       "{'messages': [HumanMessage(content='hi 123', id='1f557f49-2fd7-4144-b9a8-219f9a88decd'),\n",
       "  HumanMessage(content='hi 123', id='b65fca32-b725-432e-a278-df00016b4cab'),\n",
       "  HumanMessage(content='hi 123', id='dec091ee-349d-45ce-82ba-6b5972f6ddcc'),\n",
       "  HumanMessage(content='hi 123', id='76112518-f75b-4a56-a6be-c337ef7d16e0')]}"
      ]
     },
     "execution_count": 16,
     "metadata": {},
     "output_type": "execute_result"
    }
   ],
   "source": [
    "gg.invoke({\"messages\": [\"hi 123\"]}, config={ \"configurable\": { \"thread_id\": \"1\" } })"
   ]
  },
  {
   "cell_type": "code",
   "execution_count": 17,
   "metadata": {},
   "outputs": [
    {
     "data": {
      "text/plain": [
       "{'messages': [HumanMessage(content='hi 123', id='1f557f49-2fd7-4144-b9a8-219f9a88decd'),\n",
       "  HumanMessage(content='hi 123', id='b65fca32-b725-432e-a278-df00016b4cab'),\n",
       "  HumanMessage(content='hi 123', id='dec091ee-349d-45ce-82ba-6b5972f6ddcc'),\n",
       "  HumanMessage(content='hi 123', id='76112518-f75b-4a56-a6be-c337ef7d16e0')]}"
      ]
     },
     "execution_count": 17,
     "metadata": {},
     "output_type": "execute_result"
    }
   ],
   "source": [
    "gg.get_state(config={ \"configurable\": { \"thread_id\": \"1\" } }).values\n"
   ]
  },
  {
   "cell_type": "code",
   "execution_count": 18,
   "metadata": {},
   "outputs": [
    {
     "data": {
      "text/plain": [
       "{'messages': [HumanMessage(content='hi 123', id='1f557f49-2fd7-4144-b9a8-219f9a88decd'),\n",
       "  HumanMessage(content='hi 123', id='b65fca32-b725-432e-a278-df00016b4cab'),\n",
       "  HumanMessage(content='hi 123', id='dec091ee-349d-45ce-82ba-6b5972f6ddcc'),\n",
       "  HumanMessage(content='hi 123', id='76112518-f75b-4a56-a6be-c337ef7d16e0'),\n",
       "  HumanMessage(content='hi 123 456', id='7618114f-fe78-4fa8-bf45-6dbe34df7d71')]}"
      ]
     },
     "execution_count": 18,
     "metadata": {},
     "output_type": "execute_result"
    }
   ],
   "source": [
    "gg.invoke(State(messages=[\"hi 123 456\"]), config={\"configurable\": {\"thread_id\": \"1\"}})\n"
   ]
  },
  {
   "cell_type": "code",
   "execution_count": null,
   "metadata": {},
   "outputs": [],
   "source": []
  }
 ],
 "metadata": {
  "kernelspec": {
   "display_name": ".venv",
   "language": "python",
   "name": "python3"
  },
  "language_info": {
   "codemirror_mode": {
    "name": "ipython",
    "version": 3
   },
   "file_extension": ".py",
   "mimetype": "text/x-python",
   "name": "python",
   "nbconvert_exporter": "python",
   "pygments_lexer": "ipython3",
   "version": "3.12.6"
  }
 },
 "nbformat": 4,
 "nbformat_minor": 2
}
