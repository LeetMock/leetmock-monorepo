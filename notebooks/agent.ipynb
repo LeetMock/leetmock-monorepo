{
 "cells": [
  {
   "cell_type": "code",
   "execution_count": null,
   "metadata": {},
   "outputs": [],
   "source": [
    "from dotenv import load_dotenv, find_dotenv\n",
    "\n",
    "load_dotenv(find_dotenv())"
   ]
  },
  {
   "cell_type": "markdown",
   "metadata": {},
   "source": [
    "### Test Local LangGraph Agent"
   ]
  },
  {
   "cell_type": "code",
   "execution_count": null,
   "metadata": {},
   "outputs": [],
   "source": [
    "from langgraph_sdk import get_client\n",
    "\n",
    "url = \"https://leetmock-ts-fa225f46565756e7b0567441810f232f.default.us.langgraph.app\"\n",
    "client = get_client(url=url)\n",
    "\n",
    "# Using the graph deployed with the name \"agent\"\n",
    "assistant_id = \"code-mock-staged-v1\"\n",
    "\n",
    "# create thread\n",
    "thread = await client.threads.create()\n",
    "\n",
    "print(thread)"
   ]
  },
  {
   "cell_type": "code",
   "execution_count": 2,
   "metadata": {},
   "outputs": [],
   "source": [
    "openai_assistant = await client.assistants.create(graph_id=assistant_id)"
   ]
  },
  {
   "cell_type": "code",
   "execution_count": null,
   "metadata": {},
   "outputs": [],
   "source": [
    "openai_assistant"
   ]
  },
  {
   "cell_type": "code",
   "execution_count": 3,
   "metadata": {},
   "outputs": [],
   "source": [
    "from agent_graph.code_mock_staged_v1.graph import create_compiled_graph\n",
    "from dotenv import load_dotenv, find_dotenv\n",
    "\n",
    "load_dotenv(find_dotenv())\n",
    "\n",
    "# graph = create_graph().compile()\n",
    "graph = create_compiled_graph()\n",
    "config = { \"configurable\": {\"thread_id\": \"1\", \"session_id1\": \"abc\"} }"
   ]
  },
  {
   "cell_type": "code",
   "execution_count": 4,
   "metadata": {},
   "outputs": [
    {
     "name": "stdout",
     "output_type": "stream",
     "text": [
      "('values', {'messages': [HumanMessage(content='Hi', id='779f72a9-8bb3-440f-bfea-6a061eb25637')], 'event': 'reminder'})\n",
      "session_id='' llm_name='gpt-4o' temperature=0.9\n",
      "('values', {'messages': [HumanMessage(content='Hi', id='779f72a9-8bb3-440f-bfea-6a061eb25637'), HumanMessage(content='(User just joined the call, please welcome and introduce yourself:)', id='931e5319-179b-4152-9513-c75d95a267c1')], 'event': 'reminder', 'initialized': True, 'steps': {<StageTypes.INTRO: 'intro'>: [Step(name='introduce_self', description='Concisely introduce yourself, brief talk about your background (feel free to make things up about your background, just be consistent throughout the interview).', done_definition='Interviewer has finished introducing themselves.', required=True), Step(name='ask_background', description='Ask the candidate about their background and experience.', done_definition=\"Interviewer has finished asking about the candidate's background and experience.\", required=True), Step(name='ask_goals', description='Ask the candidate about their career goals.', done_definition=\"Interviewer has finished asking about the candidate's career goals.\", required=True), Step(name='discuss_projects', description=\"Discuss the candidate's past projects and their role in them. Remember to praise interviewee on their achievement.\", done_definition=\"Interviewer has finished discussing the candidate's past projects and their role in them.\", required=True)], <StageTypes.CODING: 'coding'>: [Step(name='describe_problem', description='Describe the problem to the candidate.', done_definition='Interviewer has finished describing the problem.', required=True), Step(name='prompt_coding', description='Let the candidate start writing the code to solve the problem.', done_definition='Interviewer has finished prompting the candidate to start writing the code, or the candidate has started writing the code without prompting.', required=True), Step(name='monitor_coding', description=\"Monitor the candidate's coding progress, respond accordingly if they need help, clarification, or if they are stuck and need hints.\", done_definition=\"Monitoring step isn't done until candidate has finished writing the complete code solution (not necessarily passed all test cases).\", required=True), Step(name='prompt_explain_code', description='Let the candidate explain their code and the approach they took to solve the problem.', done_definition='Interviewer has finished prompting the candidate to explain their code, or the candidate has finished explaining their code without prompting.', required=True), Step(name='prompt_test_case', description='Let the candidate write the test cases for their code.', done_definition='Interviewer has finished prompting the candidate to write the test cases, or the candidate has finished writing the test cases without prompting.', required=True), Step(name='prompt_optimization', description=\"If candidate's code can be optimized, ask them if they can think of a better solution\", done_definition='Interviewer has finished prompting the candidate to optimize their code.')], <StageTypes.EVAL: 'eval'>: [Step(name='tell_overall_perf', description='Tell candidate how they did in the interview.', done_definition='Interviewer has finished telling candidate how they did in the interview.', required=True), Step(name='tell_strength', description='Tell candidate what they did well and what they could improve on.', done_definition='Interviewer has finished telling candidate what they did well and what they could improve on.', required=True), Step(name='suggest_improve', description='Give candidate suggestions on how to improve their coding skills.', done_definition='Interviewer has finished giving candidate suggestions on how to improve their coding skills.', required=True), Step(name='ask_question_back', description='Ask candidate if they have any questions for you.', done_definition='Interviewer has finished asking candidate if they have any questions for you.', required=True), Step(name='answer_user_question', description='Answer related questions user might have', done_definition='Interviewer has finished answering related questions user might have')]}, 'signals': {<StageTypes.INTRO: 'intro'>: [Signal(name='candidate_intro_done', description='The candidate has introduced themselves about their background.'), Signal(name='candidate_goals_done', description='The candidate has finished talking about their career goals.'), Signal(name='candidate_projects_done', description='The candidate has finished talking about their past projects and their role in them.')], <StageTypes.CODING: 'coding'>: [Signal(name='clarifying_questions', description='The candidate asks clarifying questions about the problem.'), Signal(name='thought_process', description='The candidate explains their high-level thought process for solving the problem.'), Signal(name='code_finished', description='The candidate has finished writing the code.'), Signal(name='passed_all_tests', description='The candidate has passed all test cases.')], <StageTypes.EVAL: 'eval'>: [Signal(name='user_questions', description='User has asked questions about the interview process or the candidate.')]}, 'completed_steps': {<StageTypes.INTRO: 'intro'>: [], <StageTypes.CODING: 'coding'>: [], <StageTypes.EVAL: 'eval'>: []}, 'caught_signals': {<StageTypes.INTRO: 'intro'>: [], <StageTypes.CODING: 'coding'>: [], <StageTypes.EVAL: 'eval'>: []}})\n",
      "('values', {'messages': [HumanMessage(content='Hi', id='779f72a9-8bb3-440f-bfea-6a061eb25637'), HumanMessage(content='(User just joined the call, please welcome and introduce yourself:)', id='931e5319-179b-4152-9513-c75d95a267c1'), HumanMessage(content='(Now the user has been slient in a while, you would say:)', id='66e0a84f-70f3-4ca6-857f-49f4989757bc')], 'event': None, 'event_data': None, 'trigger': True, 'initialized': True, 'steps': {<StageTypes.INTRO: 'intro'>: [Step(name='introduce_self', description='Concisely introduce yourself, brief talk about your background (feel free to make things up about your background, just be consistent throughout the interview).', done_definition='Interviewer has finished introducing themselves.', required=True), Step(name='ask_background', description='Ask the candidate about their background and experience.', done_definition=\"Interviewer has finished asking about the candidate's background and experience.\", required=True), Step(name='ask_goals', description='Ask the candidate about their career goals.', done_definition=\"Interviewer has finished asking about the candidate's career goals.\", required=True), Step(name='discuss_projects', description=\"Discuss the candidate's past projects and their role in them. Remember to praise interviewee on their achievement.\", done_definition=\"Interviewer has finished discussing the candidate's past projects and their role in them.\", required=True)], <StageTypes.CODING: 'coding'>: [Step(name='describe_problem', description='Describe the problem to the candidate.', done_definition='Interviewer has finished describing the problem.', required=True), Step(name='prompt_coding', description='Let the candidate start writing the code to solve the problem.', done_definition='Interviewer has finished prompting the candidate to start writing the code, or the candidate has started writing the code without prompting.', required=True), Step(name='monitor_coding', description=\"Monitor the candidate's coding progress, respond accordingly if they need help, clarification, or if they are stuck and need hints.\", done_definition=\"Monitoring step isn't done until candidate has finished writing the complete code solution (not necessarily passed all test cases).\", required=True), Step(name='prompt_explain_code', description='Let the candidate explain their code and the approach they took to solve the problem.', done_definition='Interviewer has finished prompting the candidate to explain their code, or the candidate has finished explaining their code without prompting.', required=True), Step(name='prompt_test_case', description='Let the candidate write the test cases for their code.', done_definition='Interviewer has finished prompting the candidate to write the test cases, or the candidate has finished writing the test cases without prompting.', required=True), Step(name='prompt_optimization', description=\"If candidate's code can be optimized, ask them if they can think of a better solution\", done_definition='Interviewer has finished prompting the candidate to optimize their code.')], <StageTypes.EVAL: 'eval'>: [Step(name='tell_overall_perf', description='Tell candidate how they did in the interview.', done_definition='Interviewer has finished telling candidate how they did in the interview.', required=True), Step(name='tell_strength', description='Tell candidate what they did well and what they could improve on.', done_definition='Interviewer has finished telling candidate what they did well and what they could improve on.', required=True), Step(name='suggest_improve', description='Give candidate suggestions on how to improve their coding skills.', done_definition='Interviewer has finished giving candidate suggestions on how to improve their coding skills.', required=True), Step(name='ask_question_back', description='Ask candidate if they have any questions for you.', done_definition='Interviewer has finished asking candidate if they have any questions for you.', required=True), Step(name='answer_user_question', description='Answer related questions user might have', done_definition='Interviewer has finished answering related questions user might have')]}, 'signals': {<StageTypes.INTRO: 'intro'>: [Signal(name='candidate_intro_done', description='The candidate has introduced themselves about their background.'), Signal(name='candidate_goals_done', description='The candidate has finished talking about their career goals.'), Signal(name='candidate_projects_done', description='The candidate has finished talking about their past projects and their role in them.')], <StageTypes.CODING: 'coding'>: [Signal(name='clarifying_questions', description='The candidate asks clarifying questions about the problem.'), Signal(name='thought_process', description='The candidate explains their high-level thought process for solving the problem.'), Signal(name='code_finished', description='The candidate has finished writing the code.'), Signal(name='passed_all_tests', description='The candidate has passed all test cases.')], <StageTypes.EVAL: 'eval'>: [Signal(name='user_questions', description='User has asked questions about the interview process or the candidate.')]}, 'completed_steps': {<StageTypes.INTRO: 'intro'>: [], <StageTypes.CODING: 'coding'>: [], <StageTypes.EVAL: 'eval'>: []}, 'caught_signals': {<StageTypes.INTRO: 'intro'>: [], <StageTypes.CODING: 'coding'>: [], <StageTypes.EVAL: 'eval'>: []}})\n",
      "('values', {'messages': [HumanMessage(content='Hi', id='779f72a9-8bb3-440f-bfea-6a061eb25637'), HumanMessage(content='(User just joined the call, please welcome and introduce yourself:)', id='931e5319-179b-4152-9513-c75d95a267c1'), HumanMessage(content='(Now the user has been slient in a while, you would say:)', id='66e0a84f-70f3-4ca6-857f-49f4989757bc'), HumanMessage(content='Hi', id='2d7823cf-72bf-4130-a111-e0a1bdd2b230')], 'trigger': True, 'initialized': True, 'steps': {'intro': [Step(name='introduce_self', description='Concisely introduce yourself, brief talk about your background (feel free to make things up about your background, just be consistent throughout the interview).', done_definition='Interviewer has finished introducing themselves.', required=True), Step(name='ask_background', description='Ask the candidate about their background and experience.', done_definition=\"Interviewer has finished asking about the candidate's background and experience.\", required=True), Step(name='ask_goals', description='Ask the candidate about their career goals.', done_definition=\"Interviewer has finished asking about the candidate's career goals.\", required=True), Step(name='discuss_projects', description=\"Discuss the candidate's past projects and their role in them. Remember to praise interviewee on their achievement.\", done_definition=\"Interviewer has finished discussing the candidate's past projects and their role in them.\", required=True)], 'coding': [Step(name='describe_problem', description='Describe the problem to the candidate.', done_definition='Interviewer has finished describing the problem.', required=True), Step(name='prompt_coding', description='Let the candidate start writing the code to solve the problem.', done_definition='Interviewer has finished prompting the candidate to start writing the code, or the candidate has started writing the code without prompting.', required=True), Step(name='monitor_coding', description=\"Monitor the candidate's coding progress, respond accordingly if they need help, clarification, or if they are stuck and need hints.\", done_definition=\"Monitoring step isn't done until candidate has finished writing the complete code solution (not necessarily passed all test cases).\", required=True), Step(name='prompt_explain_code', description='Let the candidate explain their code and the approach they took to solve the problem.', done_definition='Interviewer has finished prompting the candidate to explain their code, or the candidate has finished explaining their code without prompting.', required=True), Step(name='prompt_test_case', description='Let the candidate write the test cases for their code.', done_definition='Interviewer has finished prompting the candidate to write the test cases, or the candidate has finished writing the test cases without prompting.', required=True), Step(name='prompt_optimization', description=\"If candidate's code can be optimized, ask them if they can think of a better solution\", done_definition='Interviewer has finished prompting the candidate to optimize their code.')], 'eval': [Step(name='tell_overall_perf', description='Tell candidate how they did in the interview.', done_definition='Interviewer has finished telling candidate how they did in the interview.', required=True), Step(name='tell_strength', description='Tell candidate what they did well and what they could improve on.', done_definition='Interviewer has finished telling candidate what they did well and what they could improve on.', required=True), Step(name='suggest_improve', description='Give candidate suggestions on how to improve their coding skills.', done_definition='Interviewer has finished giving candidate suggestions on how to improve their coding skills.', required=True), Step(name='ask_question_back', description='Ask candidate if they have any questions for you.', done_definition='Interviewer has finished asking candidate if they have any questions for you.', required=True), Step(name='answer_user_question', description='Answer related questions user might have', done_definition='Interviewer has finished answering related questions user might have')]}, 'signals': {'intro': [Signal(name='candidate_intro_done', description='The candidate has introduced themselves about their background.'), Signal(name='candidate_goals_done', description='The candidate has finished talking about their career goals.'), Signal(name='candidate_projects_done', description='The candidate has finished talking about their past projects and their role in them.')], 'coding': [Signal(name='clarifying_questions', description='The candidate asks clarifying questions about the problem.'), Signal(name='thought_process', description='The candidate explains their high-level thought process for solving the problem.'), Signal(name='code_finished', description='The candidate has finished writing the code.'), Signal(name='passed_all_tests', description='The candidate has passed all test cases.')], 'eval': [Signal(name='user_questions', description='User has asked questions about the interview process or the candidate.')]}, 'completed_steps': {'intro': [], 'coding': [], 'eval': []}, 'caught_signals': {'intro': [], 'coding': [], 'eval': []}})\n",
      "('values', {'messages': [HumanMessage(content='Hi', id='779f72a9-8bb3-440f-bfea-6a061eb25637'), HumanMessage(content='(User just joined the call, please welcome and introduce yourself:)', id='931e5319-179b-4152-9513-c75d95a267c1'), HumanMessage(content='(Now the user has been slient in a while, you would say:)', id='66e0a84f-70f3-4ca6-857f-49f4989757bc'), HumanMessage(content='Hi', id='2d7823cf-72bf-4130-a111-e0a1bdd2b230')], 'trigger': False, 'initialized': True, 'steps': {'intro': [Step(name='introduce_self', description='Concisely introduce yourself, brief talk about your background (feel free to make things up about your background, just be consistent throughout the interview).', done_definition='Interviewer has finished introducing themselves.', required=True), Step(name='ask_background', description='Ask the candidate about their background and experience.', done_definition=\"Interviewer has finished asking about the candidate's background and experience.\", required=True), Step(name='ask_goals', description='Ask the candidate about their career goals.', done_definition=\"Interviewer has finished asking about the candidate's career goals.\", required=True), Step(name='discuss_projects', description=\"Discuss the candidate's past projects and their role in them. Remember to praise interviewee on their achievement.\", done_definition=\"Interviewer has finished discussing the candidate's past projects and their role in them.\", required=True)], 'coding': [Step(name='describe_problem', description='Describe the problem to the candidate.', done_definition='Interviewer has finished describing the problem.', required=True), Step(name='prompt_coding', description='Let the candidate start writing the code to solve the problem.', done_definition='Interviewer has finished prompting the candidate to start writing the code, or the candidate has started writing the code without prompting.', required=True), Step(name='monitor_coding', description=\"Monitor the candidate's coding progress, respond accordingly if they need help, clarification, or if they are stuck and need hints.\", done_definition=\"Monitoring step isn't done until candidate has finished writing the complete code solution (not necessarily passed all test cases).\", required=True), Step(name='prompt_explain_code', description='Let the candidate explain their code and the approach they took to solve the problem.', done_definition='Interviewer has finished prompting the candidate to explain their code, or the candidate has finished explaining their code without prompting.', required=True), Step(name='prompt_test_case', description='Let the candidate write the test cases for their code.', done_definition='Interviewer has finished prompting the candidate to write the test cases, or the candidate has finished writing the test cases without prompting.', required=True), Step(name='prompt_optimization', description=\"If candidate's code can be optimized, ask them if they can think of a better solution\", done_definition='Interviewer has finished prompting the candidate to optimize their code.')], 'eval': [Step(name='tell_overall_perf', description='Tell candidate how they did in the interview.', done_definition='Interviewer has finished telling candidate how they did in the interview.', required=True), Step(name='tell_strength', description='Tell candidate what they did well and what they could improve on.', done_definition='Interviewer has finished telling candidate what they did well and what they could improve on.', required=True), Step(name='suggest_improve', description='Give candidate suggestions on how to improve their coding skills.', done_definition='Interviewer has finished giving candidate suggestions on how to improve their coding skills.', required=True), Step(name='ask_question_back', description='Ask candidate if they have any questions for you.', done_definition='Interviewer has finished asking candidate if they have any questions for you.', required=True), Step(name='answer_user_question', description='Answer related questions user might have', done_definition='Interviewer has finished answering related questions user might have')]}, 'signals': {'intro': [Signal(name='candidate_intro_done', description='The candidate has introduced themselves about their background.'), Signal(name='candidate_goals_done', description='The candidate has finished talking about their career goals.'), Signal(name='candidate_projects_done', description='The candidate has finished talking about their past projects and their role in them.')], 'coding': [Signal(name='clarifying_questions', description='The candidate asks clarifying questions about the problem.'), Signal(name='thought_process', description='The candidate explains their high-level thought process for solving the problem.'), Signal(name='code_finished', description='The candidate has finished writing the code.'), Signal(name='passed_all_tests', description='The candidate has passed all test cases.')], 'eval': [Signal(name='user_questions', description='User has asked questions about the interview process or the candidate.')]}, 'completed_steps': {'intro': [], 'coding': [], 'eval': []}, 'caught_signals': {'intro': [], 'coding': [], 'eval': []}})\n",
      "session_id='' llm_name='gpt-4o' temperature=0.9\n",
      "('values', {'messages': [HumanMessage(content='Hi', id='779f72a9-8bb3-440f-bfea-6a061eb25637'), HumanMessage(content='(User just joined the call, please welcome and introduce yourself:)', id='931e5319-179b-4152-9513-c75d95a267c1'), HumanMessage(content='(Now the user has been slient in a while, you would say:)', id='66e0a84f-70f3-4ca6-857f-49f4989757bc'), HumanMessage(content='Hi', id='2d7823cf-72bf-4130-a111-e0a1bdd2b230')], 'trigger': False, 'initialized': True, 'steps': {<StageTypes.INTRO: 'intro'>: [Step(name='introduce_self', description='Concisely introduce yourself, brief talk about your background (feel free to make things up about your background, just be consistent throughout the interview).', done_definition='Interviewer has finished introducing themselves.', required=True), Step(name='ask_background', description='Ask the candidate about their background and experience.', done_definition=\"Interviewer has finished asking about the candidate's background and experience.\", required=True), Step(name='ask_goals', description='Ask the candidate about their career goals.', done_definition=\"Interviewer has finished asking about the candidate's career goals.\", required=True), Step(name='discuss_projects', description=\"Discuss the candidate's past projects and their role in them. Remember to praise interviewee on their achievement.\", done_definition=\"Interviewer has finished discussing the candidate's past projects and their role in them.\", required=True)], <StageTypes.CODING: 'coding'>: [Step(name='describe_problem', description='Describe the problem to the candidate.', done_definition='Interviewer has finished describing the problem.', required=True), Step(name='prompt_coding', description='Let the candidate start writing the code to solve the problem.', done_definition='Interviewer has finished prompting the candidate to start writing the code, or the candidate has started writing the code without prompting.', required=True), Step(name='monitor_coding', description=\"Monitor the candidate's coding progress, respond accordingly if they need help, clarification, or if they are stuck and need hints.\", done_definition=\"Monitoring step isn't done until candidate has finished writing the complete code solution (not necessarily passed all test cases).\", required=True), Step(name='prompt_explain_code', description='Let the candidate explain their code and the approach they took to solve the problem.', done_definition='Interviewer has finished prompting the candidate to explain their code, or the candidate has finished explaining their code without prompting.', required=True), Step(name='prompt_test_case', description='Let the candidate write the test cases for their code.', done_definition='Interviewer has finished prompting the candidate to write the test cases, or the candidate has finished writing the test cases without prompting.', required=True), Step(name='prompt_optimization', description=\"If candidate's code can be optimized, ask them if they can think of a better solution\", done_definition='Interviewer has finished prompting the candidate to optimize their code.')], <StageTypes.EVAL: 'eval'>: [Step(name='tell_overall_perf', description='Tell candidate how they did in the interview.', done_definition='Interviewer has finished telling candidate how they did in the interview.', required=True), Step(name='tell_strength', description='Tell candidate what they did well and what they could improve on.', done_definition='Interviewer has finished telling candidate what they did well and what they could improve on.', required=True), Step(name='suggest_improve', description='Give candidate suggestions on how to improve their coding skills.', done_definition='Interviewer has finished giving candidate suggestions on how to improve their coding skills.', required=True), Step(name='ask_question_back', description='Ask candidate if they have any questions for you.', done_definition='Interviewer has finished asking candidate if they have any questions for you.', required=True), Step(name='answer_user_question', description='Answer related questions user might have', done_definition='Interviewer has finished answering related questions user might have')]}, 'signals': {<StageTypes.INTRO: 'intro'>: [Signal(name='candidate_intro_done', description='The candidate has introduced themselves about their background.'), Signal(name='candidate_goals_done', description='The candidate has finished talking about their career goals.'), Signal(name='candidate_projects_done', description='The candidate has finished talking about their past projects and their role in them.')], <StageTypes.CODING: 'coding'>: [Signal(name='clarifying_questions', description='The candidate asks clarifying questions about the problem.'), Signal(name='thought_process', description='The candidate explains their high-level thought process for solving the problem.'), Signal(name='code_finished', description='The candidate has finished writing the code.'), Signal(name='passed_all_tests', description='The candidate has passed all test cases.')], <StageTypes.EVAL: 'eval'>: [Signal(name='user_questions', description='User has asked questions about the interview process or the candidate.')]}, 'completed_steps': {'intro': [], 'coding': [], 'eval': []}, 'caught_signals': {'intro': [], 'coding': [], 'eval': []}})\n",
      "('values', {'messages': [HumanMessage(content='Hi', id='779f72a9-8bb3-440f-bfea-6a061eb25637'), HumanMessage(content='(User just joined the call, please welcome and introduce yourself:)', id='931e5319-179b-4152-9513-c75d95a267c1'), HumanMessage(content='(Now the user has been slient in a while, you would say:)', id='66e0a84f-70f3-4ca6-857f-49f4989757bc'), HumanMessage(content='Hi', id='2d7823cf-72bf-4130-a111-e0a1bdd2b230')], 'trigger': False, 'initialized': True, 'current_stage': <StageTypes.INTRO: 'intro'>, 'steps': {<StageTypes.INTRO: 'intro'>: [Step(name='introduce_self', description='Concisely introduce yourself, brief talk about your background (feel free to make things up about your background, just be consistent throughout the interview).', done_definition='Interviewer has finished introducing themselves.', required=True), Step(name='ask_background', description='Ask the candidate about their background and experience.', done_definition=\"Interviewer has finished asking about the candidate's background and experience.\", required=True), Step(name='ask_goals', description='Ask the candidate about their career goals.', done_definition=\"Interviewer has finished asking about the candidate's career goals.\", required=True), Step(name='discuss_projects', description=\"Discuss the candidate's past projects and their role in them. Remember to praise interviewee on their achievement.\", done_definition=\"Interviewer has finished discussing the candidate's past projects and their role in them.\", required=True)], <StageTypes.CODING: 'coding'>: [Step(name='describe_problem', description='Describe the problem to the candidate.', done_definition='Interviewer has finished describing the problem.', required=True), Step(name='prompt_coding', description='Let the candidate start writing the code to solve the problem.', done_definition='Interviewer has finished prompting the candidate to start writing the code, or the candidate has started writing the code without prompting.', required=True), Step(name='monitor_coding', description=\"Monitor the candidate's coding progress, respond accordingly if they need help, clarification, or if they are stuck and need hints.\", done_definition=\"Monitoring step isn't done until candidate has finished writing the complete code solution (not necessarily passed all test cases).\", required=True), Step(name='prompt_explain_code', description='Let the candidate explain their code and the approach they took to solve the problem.', done_definition='Interviewer has finished prompting the candidate to explain their code, or the candidate has finished explaining their code without prompting.', required=True), Step(name='prompt_test_case', description='Let the candidate write the test cases for their code.', done_definition='Interviewer has finished prompting the candidate to write the test cases, or the candidate has finished writing the test cases without prompting.', required=True), Step(name='prompt_optimization', description=\"If candidate's code can be optimized, ask them if they can think of a better solution\", done_definition='Interviewer has finished prompting the candidate to optimize their code.')], <StageTypes.EVAL: 'eval'>: [Step(name='tell_overall_perf', description='Tell candidate how they did in the interview.', done_definition='Interviewer has finished telling candidate how they did in the interview.', required=True), Step(name='tell_strength', description='Tell candidate what they did well and what they could improve on.', done_definition='Interviewer has finished telling candidate what they did well and what they could improve on.', required=True), Step(name='suggest_improve', description='Give candidate suggestions on how to improve their coding skills.', done_definition='Interviewer has finished giving candidate suggestions on how to improve their coding skills.', required=True), Step(name='ask_question_back', description='Ask candidate if they have any questions for you.', done_definition='Interviewer has finished asking candidate if they have any questions for you.', required=True), Step(name='answer_user_question', description='Answer related questions user might have', done_definition='Interviewer has finished answering related questions user might have')]}, 'signals': {<StageTypes.INTRO: 'intro'>: [Signal(name='candidate_intro_done', description='The candidate has introduced themselves about their background.'), Signal(name='candidate_goals_done', description='The candidate has finished talking about their career goals.'), Signal(name='candidate_projects_done', description='The candidate has finished talking about their past projects and their role in them.')], <StageTypes.CODING: 'coding'>: [Signal(name='clarifying_questions', description='The candidate asks clarifying questions about the problem.'), Signal(name='thought_process', description='The candidate explains their high-level thought process for solving the problem.'), Signal(name='code_finished', description='The candidate has finished writing the code.'), Signal(name='passed_all_tests', description='The candidate has passed all test cases.')], <StageTypes.EVAL: 'eval'>: [Signal(name='user_questions', description='User has asked questions about the interview process or the candidate.')]}, 'completed_steps': {<StageTypes.INTRO: 'intro'>: [], <StageTypes.CODING: 'coding'>: [], <StageTypes.EVAL: 'eval'>: []}, 'caught_signals': {<StageTypes.INTRO: 'intro'>: [], <StageTypes.CODING: 'coding'>: [], <StageTypes.EVAL: 'eval'>: []}})\n",
      "('values', {'messages': [HumanMessage(content='Hi', id='779f72a9-8bb3-440f-bfea-6a061eb25637'), HumanMessage(content='(User just joined the call, please welcome and introduce yourself:)', id='931e5319-179b-4152-9513-c75d95a267c1'), HumanMessage(content='(Now the user has been slient in a while, you would say:)', id='66e0a84f-70f3-4ca6-857f-49f4989757bc'), HumanMessage(content='Hi', id='2d7823cf-72bf-4130-a111-e0a1bdd2b230')], 'trigger': False, 'initialized': True, 'current_stage': <StageTypes.INTRO: 'intro'>, 'steps': {<StageTypes.INTRO: 'intro'>: [Step(name='introduce_self', description='Concisely introduce yourself, brief talk about your background (feel free to make things up about your background, just be consistent throughout the interview).', done_definition='Interviewer has finished introducing themselves.', required=True), Step(name='ask_background', description='Ask the candidate about their background and experience.', done_definition=\"Interviewer has finished asking about the candidate's background and experience.\", required=True), Step(name='ask_goals', description='Ask the candidate about their career goals.', done_definition=\"Interviewer has finished asking about the candidate's career goals.\", required=True), Step(name='discuss_projects', description=\"Discuss the candidate's past projects and their role in them. Remember to praise interviewee on their achievement.\", done_definition=\"Interviewer has finished discussing the candidate's past projects and their role in them.\", required=True)], <StageTypes.CODING: 'coding'>: [Step(name='describe_problem', description='Describe the problem to the candidate.', done_definition='Interviewer has finished describing the problem.', required=True), Step(name='prompt_coding', description='Let the candidate start writing the code to solve the problem.', done_definition='Interviewer has finished prompting the candidate to start writing the code, or the candidate has started writing the code without prompting.', required=True), Step(name='monitor_coding', description=\"Monitor the candidate's coding progress, respond accordingly if they need help, clarification, or if they are stuck and need hints.\", done_definition=\"Monitoring step isn't done until candidate has finished writing the complete code solution (not necessarily passed all test cases).\", required=True), Step(name='prompt_explain_code', description='Let the candidate explain their code and the approach they took to solve the problem.', done_definition='Interviewer has finished prompting the candidate to explain their code, or the candidate has finished explaining their code without prompting.', required=True), Step(name='prompt_test_case', description='Let the candidate write the test cases for their code.', done_definition='Interviewer has finished prompting the candidate to write the test cases, or the candidate has finished writing the test cases without prompting.', required=True), Step(name='prompt_optimization', description=\"If candidate's code can be optimized, ask them if they can think of a better solution\", done_definition='Interviewer has finished prompting the candidate to optimize their code.')], <StageTypes.EVAL: 'eval'>: [Step(name='tell_overall_perf', description='Tell candidate how they did in the interview.', done_definition='Interviewer has finished telling candidate how they did in the interview.', required=True), Step(name='tell_strength', description='Tell candidate what they did well and what they could improve on.', done_definition='Interviewer has finished telling candidate what they did well and what they could improve on.', required=True), Step(name='suggest_improve', description='Give candidate suggestions on how to improve their coding skills.', done_definition='Interviewer has finished giving candidate suggestions on how to improve their coding skills.', required=True), Step(name='ask_question_back', description='Ask candidate if they have any questions for you.', done_definition='Interviewer has finished asking candidate if they have any questions for you.', required=True), Step(name='answer_user_question', description='Answer related questions user might have', done_definition='Interviewer has finished answering related questions user might have')]}, 'signals': {<StageTypes.INTRO: 'intro'>: [Signal(name='candidate_intro_done', description='The candidate has introduced themselves about their background.'), Signal(name='candidate_goals_done', description='The candidate has finished talking about their career goals.'), Signal(name='candidate_projects_done', description='The candidate has finished talking about their past projects and their role in them.')], <StageTypes.CODING: 'coding'>: [Signal(name='clarifying_questions', description='The candidate asks clarifying questions about the problem.'), Signal(name='thought_process', description='The candidate explains their high-level thought process for solving the problem.'), Signal(name='code_finished', description='The candidate has finished writing the code.'), Signal(name='passed_all_tests', description='The candidate has passed all test cases.')], <StageTypes.EVAL: 'eval'>: [Signal(name='user_questions', description='User has asked questions about the interview process or the candidate.')]}, 'completed_steps': {<StageTypes.INTRO: 'intro'>: [], <StageTypes.CODING: 'coding'>: [], <StageTypes.EVAL: 'eval'>: []}, 'caught_signals': {<StageTypes.INTRO: 'intro'>: [], <StageTypes.CODING: 'coding'>: [], <StageTypes.EVAL: 'eval'>: []}})\n"
     ]
    }
   ],
   "source": [
    "async for chunk in graph.astream(\n",
    "    input={\n",
    "        \"messages\": [\"Hi\"],\n",
    "        \"event\": \"reminder\",\n",
    "        # \"trigger\": True,\n",
    "    },\n",
    "    config=config,\n",
    "    stream_mode=[\"values\"],\n",
    "):\n",
    "    print(chunk)\n",
    "\n",
    "async for chunk in graph.astream(\n",
    "    input={\n",
    "        \"messages\": [\"Hi\"],\n",
    "        # \"event\": \"user_message\"\n",
    "    },\n",
    "    config=config,\n",
    "    stream_mode=[\"values\"],\n",
    "):\n",
    "    print(chunk)"
   ]
  },
  {
   "cell_type": "code",
   "execution_count": null,
   "metadata": {},
   "outputs": [],
   "source": [
    "from langchain_core.load.load import load, loads\n",
    "from langchain_core.load.dump import dumpd, dumps\n",
    "from langgraph.types import StateSnapshot\n",
    "\n",
    "state = graph.get_state(config=config)\n",
    "state"
   ]
  },
  {
   "cell_type": "code",
   "execution_count": null,
   "metadata": {},
   "outputs": [],
   "source": [
    "dumped_state = dumps(state)\n",
    "dumped_state"
   ]
  },
  {
   "cell_type": "code",
   "execution_count": null,
   "metadata": {},
   "outputs": [],
   "source": [
    "loaded_state = loads(dumped_state, valid_namespaces=[\"agent_graph\"])\n",
    "loaded_state_snapshot = StateSnapshot(*loaded_state)\n",
    "loaded_state_snapshot"
   ]
  },
  {
   "cell_type": "code",
   "execution_count": null,
   "metadata": {},
   "outputs": [],
   "source": [
    "loaded_state_snapshot == state, dumpd(loaded_state_snapshot) == dumpd(state)"
   ]
  },
  {
   "cell_type": "code",
   "execution_count": null,
   "metadata": {},
   "outputs": [],
   "source": [
    "loaded_state_snapshot.values == state.values"
   ]
  },
  {
   "cell_type": "code",
   "execution_count": 14,
   "metadata": {},
   "outputs": [],
   "source": [
    "history = list(graph.get_state_history(config=config))"
   ]
  },
  {
   "cell_type": "code",
   "execution_count": null,
   "metadata": {},
   "outputs": [],
   "source": [
    "dumped_history = dumps(history)\n",
    "dumped_history"
   ]
  },
  {
   "cell_type": "code",
   "execution_count": null,
   "metadata": {},
   "outputs": [],
   "source": [
    "loaded_history = loads(dumped_history, valid_namespaces=[\"agent_graph\"])\n",
    "loaded_history_snapshot = [StateSnapshot(*h) for h in loaded_history]\n",
    "loaded_history_snapshot"
   ]
  },
  {
   "cell_type": "code",
   "execution_count": null,
   "metadata": {},
   "outputs": [],
   "source": [
    "loaded_history_snapshot == history, dumpd(loaded_history_snapshot) == dumpd(history)"
   ]
  },
  {
   "cell_type": "code",
   "execution_count": null,
   "metadata": {},
   "outputs": [],
   "source": [
    "dumped_state_byte = dumped_state.encode()\n",
    "dumped_history_byte = dumped_history.encode()\n",
    "print(f\"State: {len(dumped_state_byte) / 1024:.2f} KB\")\n",
    "print(f\"State History: {len(dumped_history_byte) / 1024:.2f} KB\")"
   ]
  },
  {
   "cell_type": "code",
   "execution_count": null,
   "metadata": {},
   "outputs": [],
   "source": []
  }
 ],
 "metadata": {
  "kernelspec": {
   "display_name": ".venv",
   "language": "python",
   "name": "python3"
  },
  "language_info": {
   "codemirror_mode": {
    "name": "ipython",
    "version": 3
   },
   "file_extension": ".py",
   "mimetype": "text/x-python",
   "name": "python",
   "nbconvert_exporter": "python",
   "pygments_lexer": "ipython3",
   "version": "3.12.6"
  }
 },
 "nbformat": 4,
 "nbformat_minor": 2
}
