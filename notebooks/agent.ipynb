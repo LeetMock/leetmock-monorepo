{
 "cells": [
  {
   "cell_type": "code",
   "execution_count": 1,
   "metadata": {},
   "outputs": [
    {
     "data": {
      "text/plain": [
       "True"
      ]
     },
     "execution_count": 1,
     "metadata": {},
     "output_type": "execute_result"
    }
   ],
   "source": [
    "from dotenv import load_dotenv, find_dotenv\n",
    "\n",
    "load_dotenv(find_dotenv())"
   ]
  },
  {
   "cell_type": "markdown",
   "metadata": {},
   "source": [
    "### Test Local LangGraph Agent"
   ]
  },
  {
   "cell_type": "code",
   "execution_count": null,
   "metadata": {},
   "outputs": [],
   "source": [
    "from langgraph_sdk import get_client\n",
    "\n",
    "url = \"https://leetmock-ts-fa225f46565756e7b0567441810f232f.default.us.langgraph.app\"\n",
    "client = get_client(url=url)\n",
    "\n",
    "# Using the graph deployed with the name \"agent\"\n",
    "assistant_id = \"code-mock-staged-v1\"\n",
    "\n",
    "# create thread\n",
    "thread = await client.threads.create()\n",
    "\n",
    "print(thread)"
   ]
  },
  {
   "cell_type": "code",
   "execution_count": 2,
   "metadata": {},
   "outputs": [],
   "source": [
    "openai_assistant = await client.assistants.create(graph_id=assistant_id)"
   ]
  },
  {
   "cell_type": "code",
   "execution_count": null,
   "metadata": {},
   "outputs": [],
   "source": [
    "openai_assistant"
   ]
  },
  {
   "cell_type": "code",
   "execution_count": 3,
   "metadata": {},
   "outputs": [],
   "source": [
    "from agent_graph.code_mock_staged_v1.graph import create_compiled_graph\n",
    "from dotenv import load_dotenv, find_dotenv\n",
    "\n",
    "load_dotenv(find_dotenv())\n",
    "\n",
    "# graph = create_graph().compile()\n",
    "graph = create_compiled_graph()\n",
    "config = { \"configurable\": {\"thread_id\": \"1\", \"session_id1\": \"abc\"} }"
   ]
  },
  {
   "cell_type": "code",
   "execution_count": 4,
   "metadata": {},
   "outputs": [
    {
     "name": "stdout",
     "output_type": "stream",
     "text": [
      "('values', {'messages': [HumanMessage(content='Hi', id='2ca845d0-2987-4ccb-b977-1b85c5d27a33')], 'event': 'reminder', 'completed_steps': []})\n",
      "('values', {'messages': [HumanMessage(content='Hi', id='2ca845d0-2987-4ccb-b977-1b85c5d27a33'), HumanMessage(content='(User just joined the call, please welcome and introduce yourself:)', id='1f2f3caa-381d-4bd1-9348-04e6c6efc792')], 'event': 'reminder', 'initialized': True, 'current_stage_idx': 0, 'events': [EventDescriptor(name=<CodingEventType.CODE_EDITOR_CONTENT_CHANGED: 'code_editor_content_changed'>, description='The candidate has changed the code in the editor (shown in diff format).'), EventDescriptor(name=<CodingEventType.USER_DEFINED_TEST_CASE_SET_UPDATED: 'user_defined_test_cases_changed'>, description='The candidate has updated the user-defined test cases set.'), EventDescriptor(name=<CodingEventType.USER_DEFINED_TEST_CASE_EXECUTED: 'user_defined_test_case_executed'>, description='The candidate has executed the user-defined test cases. Results will be shown in the console.')], 'steps': OrderedDict(), 'completed_steps': []})\n",
      "('values', {'messages': [HumanMessage(content='Hi', id='2ca845d0-2987-4ccb-b977-1b85c5d27a33'), HumanMessage(content='(User just joined the call, please welcome and introduce yourself:)', id='1f2f3caa-381d-4bd1-9348-04e6c6efc792'), HumanMessage(content='(Now the user has been silent in a while, ask them if they are doing well.)', id='b0659798-e6bb-45ce-9994-a6693d3cf6c7')], 'event': None, 'event_data': None, 'trigger': True, 'initialized': True, 'current_stage_idx': 0, 'events': [EventDescriptor(name=<CodingEventType.CODE_EDITOR_CONTENT_CHANGED: 'code_editor_content_changed'>, description='The candidate has changed the code in the editor (shown in diff format).'), EventDescriptor(name=<CodingEventType.USER_DEFINED_TEST_CASE_SET_UPDATED: 'user_defined_test_cases_changed'>, description='The candidate has updated the user-defined test cases set.'), EventDescriptor(name=<CodingEventType.USER_DEFINED_TEST_CASE_EXECUTED: 'user_defined_test_case_executed'>, description='The candidate has executed the user-defined test cases. Results will be shown in the console.')], 'steps': OrderedDict(), 'completed_steps': []})\n",
      "('values', {'messages': [HumanMessage(content='Hi', id='2ca845d0-2987-4ccb-b977-1b85c5d27a33'), HumanMessage(content='(User just joined the call, please welcome and introduce yourself:)', id='1f2f3caa-381d-4bd1-9348-04e6c6efc792'), HumanMessage(content='(Now the user has been silent in a while, ask them if they are doing well.)', id='b0659798-e6bb-45ce-9994-a6693d3cf6c7'), HumanMessage(content='Hi', id='493f810b-1e05-4b3f-a026-f07670482c4e')], 'trigger': True, 'initialized': True, 'current_stage_idx': 0, 'events': [EventDescriptor(name=<CodingEventType.CODE_EDITOR_CONTENT_CHANGED: 'code_editor_content_changed'>, description='The candidate has changed the code in the editor (shown in diff format).'), EventDescriptor(name=<CodingEventType.USER_DEFINED_TEST_CASE_SET_UPDATED: 'user_defined_test_cases_changed'>, description='The candidate has updated the user-defined test cases set.'), EventDescriptor(name=<CodingEventType.USER_DEFINED_TEST_CASE_EXECUTED: 'user_defined_test_case_executed'>, description='The candidate has executed the user-defined test cases. Results will be shown in the console.')], 'steps': {}, 'completed_steps': []})\n",
      "('values', {'messages': [HumanMessage(content='Hi', id='2ca845d0-2987-4ccb-b977-1b85c5d27a33'), HumanMessage(content='(User just joined the call, please welcome and introduce yourself:)', id='1f2f3caa-381d-4bd1-9348-04e6c6efc792'), HumanMessage(content='(Now the user has been silent in a while, ask them if they are doing well.)', id='b0659798-e6bb-45ce-9994-a6693d3cf6c7'), HumanMessage(content='Hi', id='493f810b-1e05-4b3f-a026-f07670482c4e')], 'event': None, 'event_data': None, 'trigger': False, 'initialized': True, 'current_stage_idx': 0, 'events': [EventDescriptor(name=<CodingEventType.CODE_EDITOR_CONTENT_CHANGED: 'code_editor_content_changed'>, description='The candidate has changed the code in the editor (shown in diff format).'), EventDescriptor(name=<CodingEventType.USER_DEFINED_TEST_CASE_SET_UPDATED: 'user_defined_test_cases_changed'>, description='The candidate has updated the user-defined test cases set.'), EventDescriptor(name=<CodingEventType.USER_DEFINED_TEST_CASE_EXECUTED: 'user_defined_test_case_executed'>, description='The candidate has executed the user-defined test cases. Results will be shown in the console.')], 'steps': {}, 'completed_steps': [], 'tool_call_detected': False, 'round_until_next_confirmation': 0})\n"
     ]
    }
   ],
   "source": [
    "async for chunk in graph.astream(\n",
    "    input={\n",
    "        \"messages\": [\"Hi\"],\n",
    "        \"event\": \"reminder\",\n",
    "        # \"trigger\": True,\n",
    "    },\n",
    "    config=config,\n",
    "    stream_mode=[\"values\"],\n",
    "):\n",
    "    print(chunk)\n",
    "\n",
    "async for chunk in graph.astream(\n",
    "    input={\n",
    "        \"messages\": [\"Hi\"],\n",
    "        # \"event\": \"user_message\"\n",
    "    },\n",
    "    config=config,\n",
    "    stream_mode=[\"values\"],\n",
    "):\n",
    "    print(chunk)"
   ]
  },
  {
   "cell_type": "code",
   "execution_count": 5,
   "metadata": {},
   "outputs": [
    {
     "data": {
      "text/plain": [
       "StateSnapshot(values={'messages': [HumanMessage(content='Hi', id='2ca845d0-2987-4ccb-b977-1b85c5d27a33'), HumanMessage(content='(User just joined the call, please welcome and introduce yourself:)', id='1f2f3caa-381d-4bd1-9348-04e6c6efc792'), HumanMessage(content='(Now the user has been silent in a while, ask them if they are doing well.)', id='b0659798-e6bb-45ce-9994-a6693d3cf6c7'), HumanMessage(content='Hi', id='493f810b-1e05-4b3f-a026-f07670482c4e')], 'trigger': False, 'initialized': True, 'current_stage_idx': 0, 'events': [EventDescriptor(name=<CodingEventType.CODE_EDITOR_CONTENT_CHANGED: 'code_editor_content_changed'>, description='The candidate has changed the code in the editor (shown in diff format).'), EventDescriptor(name=<CodingEventType.USER_DEFINED_TEST_CASE_SET_UPDATED: 'user_defined_test_cases_changed'>, description='The candidate has updated the user-defined test cases set.'), EventDescriptor(name=<CodingEventType.USER_DEFINED_TEST_CASE_EXECUTED: 'user_defined_test_case_executed'>, description='The candidate has executed the user-defined test cases. Results will be shown in the console.')], 'steps': {}, 'completed_steps': [], 'tool_call_detected': False, 'round_until_next_confirmation': 0}, next=(), config={'configurable': {'thread_id': '1', 'checkpoint_ns': '', 'checkpoint_id': '1efc52ef-0967-6d84-8005-0310f3f9ecc7'}}, metadata={'source': 'loop', 'writes': {'on_trigger': {'tool_call_detected': False, 'round_until_next_confirmation': 0, 'trigger': False, 'event': None, 'event_data': None}}, 'thread_id': '1', 'session_id1': 'abc', 'step': 5, 'parents': {}}, created_at='2024-12-28T15:18:06.733622+00:00', parent_config={'configurable': {'thread_id': '1', 'checkpoint_ns': '', 'checkpoint_id': '1efc52ef-0952-6b5a-8004-8e55377b2e6c'}}, tasks=())"
      ]
     },
     "execution_count": 5,
     "metadata": {},
     "output_type": "execute_result"
    }
   ],
   "source": [
    "from langchain_core.load.load import load, loads\n",
    "from langchain_core.load.dump import dumpd, dumps\n",
    "from langgraph.types import StateSnapshot\n",
    "\n",
    "state = graph.get_state(config=config)\n",
    "state"
   ]
  },
  {
   "cell_type": "code",
   "execution_count": 15,
   "metadata": {},
   "outputs": [
    {
     "data": {
      "text/plain": [
       "[{'messages': [{'lc': 1,\n",
       "    'type': 'constructor',\n",
       "    'id': ['langchain', 'schema', 'messages', 'HumanMessage'],\n",
       "    'kwargs': {'content': 'Hi',\n",
       "     'type': 'human',\n",
       "     'id': '2ca845d0-2987-4ccb-b977-1b85c5d27a33'}},\n",
       "   {'lc': 1,\n",
       "    'type': 'constructor',\n",
       "    'id': ['langchain', 'schema', 'messages', 'HumanMessage'],\n",
       "    'kwargs': {'content': '(User just joined the call, please welcome and introduce yourself:)',\n",
       "     'type': 'human',\n",
       "     'id': '1f2f3caa-381d-4bd1-9348-04e6c6efc792'}},\n",
       "   {'lc': 1,\n",
       "    'type': 'constructor',\n",
       "    'id': ['langchain', 'schema', 'messages', 'HumanMessage'],\n",
       "    'kwargs': {'content': '(Now the user has been silent in a while, ask them if they are doing well.)',\n",
       "     'type': 'human',\n",
       "     'id': 'b0659798-e6bb-45ce-9994-a6693d3cf6c7'}},\n",
       "   {'lc': 1,\n",
       "    'type': 'constructor',\n",
       "    'id': ['langchain', 'schema', 'messages', 'HumanMessage'],\n",
       "    'kwargs': {'content': 'Hi',\n",
       "     'type': 'human',\n",
       "     'id': '493f810b-1e05-4b3f-a026-f07670482c4e'}}],\n",
       "  'trigger': False,\n",
       "  'initialized': True,\n",
       "  'current_stage_idx': 0,\n",
       "  'events': [{'lc': 1,\n",
       "    'type': 'constructor',\n",
       "    'id': ['agent_graph', 'event_descriptors', 'EventDescriptor'],\n",
       "    'kwargs': {'name': 'code_editor_content_changed',\n",
       "     'description': 'The candidate has changed the code in the editor (shown in diff format).'}},\n",
       "   {'lc': 1,\n",
       "    'type': 'constructor',\n",
       "    'id': ['agent_graph', 'event_descriptors', 'EventDescriptor'],\n",
       "    'kwargs': {'name': 'user_defined_test_cases_changed',\n",
       "     'description': 'The candidate has updated the user-defined test cases set.'}},\n",
       "   {'lc': 1,\n",
       "    'type': 'constructor',\n",
       "    'id': ['agent_graph', 'event_descriptors', 'EventDescriptor'],\n",
       "    'kwargs': {'name': 'user_defined_test_case_executed',\n",
       "     'description': 'The candidate has executed the user-defined test cases. Results will be shown in the console.'}}],\n",
       "  'steps': {},\n",
       "  'completed_steps': [],\n",
       "  'tool_call_detected': False,\n",
       "  'round_until_next_confirmation': 0},\n",
       " [],\n",
       " {'configurable': {'thread_id': '1',\n",
       "   'checkpoint_ns': '',\n",
       "   'checkpoint_id': '1efc52ef-0967-6d84-8005-0310f3f9ecc7'}},\n",
       " {'source': 'loop',\n",
       "  'writes': {'on_trigger': {'tool_call_detected': False,\n",
       "    'round_until_next_confirmation': 0,\n",
       "    'trigger': False,\n",
       "    'event': None,\n",
       "    'event_data': None}},\n",
       "  'thread_id': '1',\n",
       "  'session_id1': 'abc',\n",
       "  'step': 5,\n",
       "  'parents': {}},\n",
       " '2024-12-28T15:18:06.733622+00:00',\n",
       " {'configurable': {'thread_id': '1',\n",
       "   'checkpoint_ns': '',\n",
       "   'checkpoint_id': '1efc52ef-0952-6b5a-8004-8e55377b2e6c'}},\n",
       " []]"
      ]
     },
     "execution_count": 15,
     "metadata": {},
     "output_type": "execute_result"
    }
   ],
   "source": [
    "dumped_state = dumpd(state)\n",
    "dumped_state"
   ]
  },
  {
   "cell_type": "code",
   "execution_count": 18,
   "metadata": {},
   "outputs": [
    {
     "data": {
      "text/plain": [
       "StateSnapshot(values={'messages': [HumanMessage(content='Hi', id='2ca845d0-2987-4ccb-b977-1b85c5d27a33'), HumanMessage(content='(User just joined the call, please welcome and introduce yourself:)', id='1f2f3caa-381d-4bd1-9348-04e6c6efc792'), HumanMessage(content='(Now the user has been silent in a while, ask them if they are doing well.)', id='b0659798-e6bb-45ce-9994-a6693d3cf6c7'), HumanMessage(content='Hi', id='493f810b-1e05-4b3f-a026-f07670482c4e')], 'trigger': False, 'initialized': True, 'current_stage_idx': 0, 'events': [EventDescriptor(name=<CodingEventType.CODE_EDITOR_CONTENT_CHANGED: 'code_editor_content_changed'>, description='The candidate has changed the code in the editor (shown in diff format).'), EventDescriptor(name=<CodingEventType.USER_DEFINED_TEST_CASE_SET_UPDATED: 'user_defined_test_cases_changed'>, description='The candidate has updated the user-defined test cases set.'), EventDescriptor(name=<CodingEventType.USER_DEFINED_TEST_CASE_EXECUTED: 'user_defined_test_case_executed'>, description='The candidate has executed the user-defined test cases. Results will be shown in the console.')], 'steps': {}, 'completed_steps': [], 'tool_call_detected': False, 'round_until_next_confirmation': 0}, next=[], config={'configurable': {'thread_id': '1', 'checkpoint_ns': '', 'checkpoint_id': '1efc52ef-0967-6d84-8005-0310f3f9ecc7'}}, metadata={'source': 'loop', 'writes': {'on_trigger': {'tool_call_detected': False, 'round_until_next_confirmation': 0, 'trigger': False, 'event': None, 'event_data': None}}, 'thread_id': '1', 'session_id1': 'abc', 'step': 5, 'parents': {}}, created_at='2024-12-28T15:18:06.733622+00:00', parent_config={'configurable': {'thread_id': '1', 'checkpoint_ns': '', 'checkpoint_id': '1efc52ef-0952-6b5a-8004-8e55377b2e6c'}}, tasks=[])"
      ]
     },
     "execution_count": 18,
     "metadata": {},
     "output_type": "execute_result"
    }
   ],
   "source": [
    "loaded_state = load(dumped_state, valid_namespaces=[\"agent_graph\"])\n",
    "loaded_state_snapshot = StateSnapshot(*loaded_state)\n",
    "loaded_state_snapshot"
   ]
  },
  {
   "cell_type": "code",
   "execution_count": 19,
   "metadata": {},
   "outputs": [
    {
     "data": {
      "text/plain": [
       "(False, True)"
      ]
     },
     "execution_count": 19,
     "metadata": {},
     "output_type": "execute_result"
    }
   ],
   "source": [
    "loaded_state_snapshot == state, dumpd(loaded_state_snapshot) == dumpd(state)"
   ]
  },
  {
   "cell_type": "code",
   "execution_count": 20,
   "metadata": {},
   "outputs": [
    {
     "data": {
      "text/plain": [
       "True"
      ]
     },
     "execution_count": 20,
     "metadata": {},
     "output_type": "execute_result"
    }
   ],
   "source": [
    "loaded_state_snapshot.values == state.values"
   ]
  },
  {
   "cell_type": "code",
   "execution_count": 10,
   "metadata": {},
   "outputs": [],
   "source": [
    "history = list(graph.get_state_history(config=config))"
   ]
  },
  {
   "cell_type": "code",
   "execution_count": 11,
   "metadata": {},
   "outputs": [
    {
     "data": {
      "text/plain": [
       "'[[{\"messages\": [{\"lc\": 1, \"type\": \"constructor\", \"id\": [\"langchain\", \"schema\", \"messages\", \"HumanMessage\"], \"kwargs\": {\"content\": \"Hi\", \"type\": \"human\", \"id\": \"2ca845d0-2987-4ccb-b977-1b85c5d27a33\"}}, {\"lc\": 1, \"type\": \"constructor\", \"id\": [\"langchain\", \"schema\", \"messages\", \"HumanMessage\"], \"kwargs\": {\"content\": \"(User just joined the call, please welcome and introduce yourself:)\", \"type\": \"human\", \"id\": \"1f2f3caa-381d-4bd1-9348-04e6c6efc792\"}}, {\"lc\": 1, \"type\": \"constructor\", \"id\": [\"langchain\", \"schema\", \"messages\", \"HumanMessage\"], \"kwargs\": {\"content\": \"(Now the user has been silent in a while, ask them if they are doing well.)\", \"type\": \"human\", \"id\": \"b0659798-e6bb-45ce-9994-a6693d3cf6c7\"}}, {\"lc\": 1, \"type\": \"constructor\", \"id\": [\"langchain\", \"schema\", \"messages\", \"HumanMessage\"], \"kwargs\": {\"content\": \"Hi\", \"type\": \"human\", \"id\": \"493f810b-1e05-4b3f-a026-f07670482c4e\"}}], \"trigger\": false, \"initialized\": true, \"current_stage_idx\": 0, \"events\": [{\"lc\": 1, \"type\": \"constructor\", \"id\": [\"agent_graph\", \"event_descriptors\", \"EventDescriptor\"], \"kwargs\": {\"name\": \"code_editor_content_changed\", \"description\": \"The candidate has changed the code in the editor (shown in diff format).\"}}, {\"lc\": 1, \"type\": \"constructor\", \"id\": [\"agent_graph\", \"event_descriptors\", \"EventDescriptor\"], \"kwargs\": {\"name\": \"user_defined_test_cases_changed\", \"description\": \"The candidate has updated the user-defined test cases set.\"}}, {\"lc\": 1, \"type\": \"constructor\", \"id\": [\"agent_graph\", \"event_descriptors\", \"EventDescriptor\"], \"kwargs\": {\"name\": \"user_defined_test_case_executed\", \"description\": \"The candidate has executed the user-defined test cases. Results will be shown in the console.\"}}], \"steps\": {}, \"completed_steps\": [], \"tool_call_detected\": false, \"round_until_next_confirmation\": 0}, [], {\"configurable\": {\"thread_id\": \"1\", \"checkpoint_ns\": \"\", \"checkpoint_id\": \"1efc52ef-0967-6d84-8005-0310f3f9ecc7\"}}, {\"source\": \"loop\", \"writes\": {\"on_trigger\": {\"tool_call_detected\": false, \"round_until_next_confirmation\": 0, \"trigger\": false, \"event\": null, \"event_data\": null}}, \"thread_id\": \"1\", \"session_id1\": \"abc\", \"step\": 5, \"parents\": {}}, \"2024-12-28T15:18:06.733622+00:00\", {\"configurable\": {\"thread_id\": \"1\", \"checkpoint_ns\": \"\", \"checkpoint_id\": \"1efc52ef-0952-6b5a-8004-8e55377b2e6c\"}}, []], [{\"messages\": [{\"lc\": 1, \"type\": \"constructor\", \"id\": [\"langchain\", \"schema\", \"messages\", \"HumanMessage\"], \"kwargs\": {\"content\": \"Hi\", \"type\": \"human\", \"id\": \"2ca845d0-2987-4ccb-b977-1b85c5d27a33\"}}, {\"lc\": 1, \"type\": \"constructor\", \"id\": [\"langchain\", \"schema\", \"messages\", \"HumanMessage\"], \"kwargs\": {\"content\": \"(User just joined the call, please welcome and introduce yourself:)\", \"type\": \"human\", \"id\": \"1f2f3caa-381d-4bd1-9348-04e6c6efc792\"}}, {\"lc\": 1, \"type\": \"constructor\", \"id\": [\"langchain\", \"schema\", \"messages\", \"HumanMessage\"], \"kwargs\": {\"content\": \"(Now the user has been silent in a while, ask them if they are doing well.)\", \"type\": \"human\", \"id\": \"b0659798-e6bb-45ce-9994-a6693d3cf6c7\"}}, {\"lc\": 1, \"type\": \"constructor\", \"id\": [\"langchain\", \"schema\", \"messages\", \"HumanMessage\"], \"kwargs\": {\"content\": \"Hi\", \"type\": \"human\", \"id\": \"493f810b-1e05-4b3f-a026-f07670482c4e\"}}], \"trigger\": true, \"initialized\": true, \"current_stage_idx\": 0, \"events\": [{\"lc\": 1, \"type\": \"constructor\", \"id\": [\"agent_graph\", \"event_descriptors\", \"EventDescriptor\"], \"kwargs\": {\"name\": \"code_editor_content_changed\", \"description\": \"The candidate has changed the code in the editor (shown in diff format).\"}}, {\"lc\": 1, \"type\": \"constructor\", \"id\": [\"agent_graph\", \"event_descriptors\", \"EventDescriptor\"], \"kwargs\": {\"name\": \"user_defined_test_cases_changed\", \"description\": \"The candidate has updated the user-defined test cases set.\"}}, {\"lc\": 1, \"type\": \"constructor\", \"id\": [\"agent_graph\", \"event_descriptors\", \"EventDescriptor\"], \"kwargs\": {\"name\": \"user_defined_test_case_executed\", \"description\": \"The candidate has executed the user-defined test cases. Results will be shown in the console.\"}}], \"steps\": {}, \"completed_steps\": []}, [\"on_trigger\"], {\"configurable\": {\"thread_id\": \"1\", \"checkpoint_ns\": \"\", \"checkpoint_id\": \"1efc52ef-0952-6b5a-8004-8e55377b2e6c\"}}, {\"source\": \"loop\", \"writes\": null, \"thread_id\": \"1\", \"session_id1\": \"abc\", \"step\": 4, \"parents\": {}}, \"2024-12-28T15:18:06.724964+00:00\", {\"configurable\": {\"thread_id\": \"1\", \"checkpoint_ns\": \"\", \"checkpoint_id\": \"1efc52ef-093e-6ca4-8003-4d8d92af0cbc\"}}, [[\"69686bc6-7662-9694-9562-b368bf18c0af\", \"on_trigger\", [\"__pregel_pull\", \"on_trigger\"], null, [], null, {\"tool_call_detected\": false, \"round_until_next_confirmation\": 0, \"trigger\": false, \"event\": null, \"event_data\": null}]]], [{\"messages\": [{\"lc\": 1, \"type\": \"constructor\", \"id\": [\"langchain\", \"schema\", \"messages\", \"HumanMessage\"], \"kwargs\": {\"content\": \"Hi\", \"type\": \"human\", \"id\": \"2ca845d0-2987-4ccb-b977-1b85c5d27a33\"}}, {\"lc\": 1, \"type\": \"constructor\", \"id\": [\"langchain\", \"schema\", \"messages\", \"HumanMessage\"], \"kwargs\": {\"content\": \"(User just joined the call, please welcome and introduce yourself:)\", \"type\": \"human\", \"id\": \"1f2f3caa-381d-4bd1-9348-04e6c6efc792\"}}, {\"lc\": 1, \"type\": \"constructor\", \"id\": [\"langchain\", \"schema\", \"messages\", \"HumanMessage\"], \"kwargs\": {\"content\": \"(Now the user has been silent in a while, ask them if they are doing well.)\", \"type\": \"human\", \"id\": \"b0659798-e6bb-45ce-9994-a6693d3cf6c7\"}}], \"trigger\": true, \"initialized\": true, \"current_stage_idx\": 0, \"events\": [{\"lc\": 1, \"type\": \"constructor\", \"id\": [\"agent_graph\", \"event_descriptors\", \"EventDescriptor\"], \"kwargs\": {\"name\": \"code_editor_content_changed\", \"description\": \"The candidate has changed the code in the editor (shown in diff format).\"}}, {\"lc\": 1, \"type\": \"constructor\", \"id\": [\"agent_graph\", \"event_descriptors\", \"EventDescriptor\"], \"kwargs\": {\"name\": \"user_defined_test_cases_changed\", \"description\": \"The candidate has updated the user-defined test cases set.\"}}, {\"lc\": 1, \"type\": \"constructor\", \"id\": [\"agent_graph\", \"event_descriptors\", \"EventDescriptor\"], \"kwargs\": {\"name\": \"user_defined_test_case_executed\", \"description\": \"The candidate has executed the user-defined test cases. Results will be shown in the console.\"}}], \"steps\": {}, \"completed_steps\": []}, [\"__start__\"], {\"configurable\": {\"thread_id\": \"1\", \"checkpoint_ns\": \"\", \"checkpoint_id\": \"1efc52ef-093e-6ca4-8003-4d8d92af0cbc\"}}, {\"source\": \"input\", \"writes\": {\"__start__\": {\"messages\": [\"Hi\"]}}, \"thread_id\": \"1\", \"session_id1\": \"abc\", \"step\": 3, \"parents\": {}}, \"2024-12-28T15:18:06.716807+00:00\", {\"configurable\": {\"thread_id\": \"1\", \"checkpoint_ns\": \"\", \"checkpoint_id\": \"1efc52ef-0935-63ac-8002-9a548a650013\"}}, [[\"9622afc5-0542-a924-3f6e-d8c9b6987bdd\", \"__start__\", [\"__pregel_pull\", \"__start__\"], null, [], null, {\"messages\": [\"Hi\"]}]]], [{\"messages\": [{\"lc\": 1, \"type\": \"constructor\", \"id\": [\"langchain\", \"schema\", \"messages\", \"HumanMessage\"], \"kwargs\": {\"content\": \"Hi\", \"type\": \"human\", \"id\": \"2ca845d0-2987-4ccb-b977-1b85c5d27a33\"}}, {\"lc\": 1, \"type\": \"constructor\", \"id\": [\"langchain\", \"schema\", \"messages\", \"HumanMessage\"], \"kwargs\": {\"content\": \"(User just joined the call, please welcome and introduce yourself:)\", \"type\": \"human\", \"id\": \"1f2f3caa-381d-4bd1-9348-04e6c6efc792\"}}, {\"lc\": 1, \"type\": \"constructor\", \"id\": [\"langchain\", \"schema\", \"messages\", \"HumanMessage\"], \"kwargs\": {\"content\": \"(Now the user has been silent in a while, ask them if they are doing well.)\", \"type\": \"human\", \"id\": \"b0659798-e6bb-45ce-9994-a6693d3cf6c7\"}}], \"trigger\": true, \"initialized\": true, \"current_stage_idx\": 0, \"events\": [{\"lc\": 1, \"type\": \"constructor\", \"id\": [\"agent_graph\", \"event_descriptors\", \"EventDescriptor\"], \"kwargs\": {\"name\": \"code_editor_content_changed\", \"description\": \"The candidate has changed the code in the editor (shown in diff format).\"}}, {\"lc\": 1, \"type\": \"constructor\", \"id\": [\"agent_graph\", \"event_descriptors\", \"EventDescriptor\"], \"kwargs\": {\"name\": \"user_defined_test_cases_changed\", \"description\": \"The candidate has updated the user-defined test cases set.\"}}, {\"lc\": 1, \"type\": \"constructor\", \"id\": [\"agent_graph\", \"event_descriptors\", \"EventDescriptor\"], \"kwargs\": {\"name\": \"user_defined_test_case_executed\", \"description\": \"The candidate has executed the user-defined test cases. Results will be shown in the console.\"}}], \"steps\": {}, \"completed_steps\": []}, [], {\"configurable\": {\"thread_id\": \"1\", \"checkpoint_ns\": \"\", \"checkpoint_id\": \"1efc52ef-0935-63ac-8002-9a548a650013\"}}, {\"source\": \"loop\", \"writes\": {\"on_event\": {\"trigger\": true, \"messages\": {\"lc\": 1, \"type\": \"constructor\", \"id\": [\"langchain\", \"schema\", \"messages\", \"HumanMessage\"], \"kwargs\": {\"content\": \"(Now the user has been silent in a while, ask them if they are doing well.)\", \"type\": \"human\", \"id\": \"b0659798-e6bb-45ce-9994-a6693d3cf6c7\"}}, \"event\": null, \"event_data\": null}}, \"thread_id\": \"1\", \"session_id1\": \"abc\", \"step\": 2, \"parents\": {}}, \"2024-12-28T15:18:06.712894+00:00\", {\"configurable\": {\"thread_id\": \"1\", \"checkpoint_ns\": \"\", \"checkpoint_id\": \"1efc52ef-0928-66e8-8001-e75d41bdae8f\"}}, []], [{\"messages\": [{\"lc\": 1, \"type\": \"constructor\", \"id\": [\"langchain\", \"schema\", \"messages\", \"HumanMessage\"], \"kwargs\": {\"content\": \"Hi\", \"type\": \"human\", \"id\": \"2ca845d0-2987-4ccb-b977-1b85c5d27a33\"}}, {\"lc\": 1, \"type\": \"constructor\", \"id\": [\"langchain\", \"schema\", \"messages\", \"HumanMessage\"], \"kwargs\": {\"content\": \"(User just joined the call, please welcome and introduce yourself:)\", \"type\": \"human\", \"id\": \"1f2f3caa-381d-4bd1-9348-04e6c6efc792\"}}], \"event\": \"reminder\", \"initialized\": true, \"current_stage_idx\": 0, \"events\": [{\"lc\": 1, \"type\": \"constructor\", \"id\": [\"agent_graph\", \"event_descriptors\", \"EventDescriptor\"], \"kwargs\": {\"name\": \"code_editor_content_changed\", \"description\": \"The candidate has changed the code in the editor (shown in diff format).\"}}, {\"lc\": 1, \"type\": \"constructor\", \"id\": [\"agent_graph\", \"event_descriptors\", \"EventDescriptor\"], \"kwargs\": {\"name\": \"user_defined_test_cases_changed\", \"description\": \"The candidate has updated the user-defined test cases set.\"}}, {\"lc\": 1, \"type\": \"constructor\", \"id\": [\"agent_graph\", \"event_descriptors\", \"EventDescriptor\"], \"kwargs\": {\"name\": \"user_defined_test_case_executed\", \"description\": \"The candidate has executed the user-defined test cases. Results will be shown in the console.\"}}], \"steps\": {}, \"completed_steps\": []}, [\"on_event\"], {\"configurable\": {\"thread_id\": \"1\", \"checkpoint_ns\": \"\", \"checkpoint_id\": \"1efc52ef-0928-66e8-8001-e75d41bdae8f\"}}, {\"source\": \"loop\", \"writes\": {\"init_state\": {\"initialized\": true, \"current_stage_idx\": 0, \"messages\": [{\"lc\": 1, \"type\": \"constructor\", \"id\": [\"langchain\", \"schema\", \"messages\", \"HumanMessage\"], \"kwargs\": {\"content\": \"(User just joined the call, please welcome and introduce yourself:)\", \"type\": \"human\", \"id\": \"1f2f3caa-381d-4bd1-9348-04e6c6efc792\"}}], \"events\": [{\"lc\": 1, \"type\": \"constructor\", \"id\": [\"agent_graph\", \"event_descriptors\", \"EventDescriptor\"], \"kwargs\": {\"name\": \"code_editor_content_changed\", \"description\": \"The candidate has changed the code in the editor (shown in diff format).\"}}, {\"lc\": 1, \"type\": \"constructor\", \"id\": [\"agent_graph\", \"event_descriptors\", \"EventDescriptor\"], \"kwargs\": {\"name\": \"user_defined_test_cases_changed\", \"description\": \"The candidate has updated the user-defined test cases set.\"}}, {\"lc\": 1, \"type\": \"constructor\", \"id\": [\"agent_graph\", \"event_descriptors\", \"EventDescriptor\"], \"kwargs\": {\"name\": \"user_defined_test_case_executed\", \"description\": \"The candidate has executed the user-defined test cases. Results will be shown in the console.\"}}], \"steps\": {}, \"completed_steps\": []}}, \"thread_id\": \"1\", \"session_id1\": \"abc\", \"step\": 1, \"parents\": {}}, \"2024-12-28T15:18:06.707655+00:00\", {\"configurable\": {\"thread_id\": \"1\", \"checkpoint_ns\": \"\", \"checkpoint_id\": \"1efc52ef-090d-65c8-8000-231cc5a18381\"}}, [[\"b539fda8-dfd3-07ee-a293-e227728bc01b\", \"on_event\", [\"__pregel_pull\", \"on_event\"], null, [], null, {\"trigger\": true, \"messages\": {\"lc\": 1, \"type\": \"constructor\", \"id\": [\"langchain\", \"schema\", \"messages\", \"HumanMessage\"], \"kwargs\": {\"content\": \"(Now the user has been silent in a while, ask them if they are doing well.)\", \"type\": \"human\", \"id\": \"b0659798-e6bb-45ce-9994-a6693d3cf6c7\"}}, \"event\": null, \"event_data\": null}]]], [{\"messages\": [{\"lc\": 1, \"type\": \"constructor\", \"id\": [\"langchain\", \"schema\", \"messages\", \"HumanMessage\"], \"kwargs\": {\"content\": \"Hi\", \"type\": \"human\", \"id\": \"2ca845d0-2987-4ccb-b977-1b85c5d27a33\"}}], \"event\": \"reminder\", \"completed_steps\": []}, [\"init_state\"], {\"configurable\": {\"thread_id\": \"1\", \"checkpoint_ns\": \"\", \"checkpoint_id\": \"1efc52ef-090d-65c8-8000-231cc5a18381\"}}, {\"source\": \"loop\", \"writes\": null, \"thread_id\": \"1\", \"session_id1\": \"abc\", \"step\": 0, \"parents\": {}}, \"2024-12-28T15:18:06.696569+00:00\", {\"configurable\": {\"thread_id\": \"1\", \"checkpoint_ns\": \"\", \"checkpoint_id\": \"1efc52ef-0834-602a-bfff-59f54f4100c7\"}}, [[\"c8586206-5458-a554-07d8-138844aea5ea\", \"init_state\", [\"__pregel_pull\", \"init_state\"], null, [], null, {\"initialized\": true, \"current_stage_idx\": 0, \"messages\": [{\"lc\": 1, \"type\": \"constructor\", \"id\": [\"langchain\", \"schema\", \"messages\", \"HumanMessage\"], \"kwargs\": {\"content\": \"(User just joined the call, please welcome and introduce yourself:)\", \"type\": \"human\", \"id\": \"1f2f3caa-381d-4bd1-9348-04e6c6efc792\"}}], \"events\": [{\"lc\": 1, \"type\": \"constructor\", \"id\": [\"agent_graph\", \"event_descriptors\", \"EventDescriptor\"], \"kwargs\": {\"name\": \"code_editor_content_changed\", \"description\": \"The candidate has changed the code in the editor (shown in diff format).\"}}, {\"lc\": 1, \"type\": \"constructor\", \"id\": [\"agent_graph\", \"event_descriptors\", \"EventDescriptor\"], \"kwargs\": {\"name\": \"user_defined_test_cases_changed\", \"description\": \"The candidate has updated the user-defined test cases set.\"}}, {\"lc\": 1, \"type\": \"constructor\", \"id\": [\"agent_graph\", \"event_descriptors\", \"EventDescriptor\"], \"kwargs\": {\"name\": \"user_defined_test_case_executed\", \"description\": \"The candidate has executed the user-defined test cases. Results will be shown in the console.\"}}], \"steps\": {}, \"completed_steps\": []}]]], [{\"messages\": [], \"completed_steps\": []}, [\"__start__\"], {\"configurable\": {\"thread_id\": \"1\", \"checkpoint_ns\": \"\", \"checkpoint_id\": \"1efc52ef-0834-602a-bfff-59f54f4100c7\"}}, {\"source\": \"input\", \"writes\": {\"__start__\": {\"messages\": [\"Hi\"], \"event\": \"reminder\"}}, \"thread_id\": \"1\", \"session_id1\": \"abc\", \"step\": -1, \"parents\": {}}, \"2024-12-28T15:18:06.607560+00:00\", null, [[\"fd563472-08e5-d1c4-39fa-c61ce179473f\", \"__start__\", [\"__pregel_pull\", \"__start__\"], null, [], null, {\"messages\": [\"Hi\"], \"event\": \"reminder\"}]]]]'"
      ]
     },
     "execution_count": 11,
     "metadata": {},
     "output_type": "execute_result"
    }
   ],
   "source": [
    "dumped_history = dumps(history)\n",
    "dumped_history"
   ]
  },
  {
   "cell_type": "code",
   "execution_count": 12,
   "metadata": {},
   "outputs": [
    {
     "data": {
      "text/plain": [
       "[StateSnapshot(values={'messages': [HumanMessage(content='Hi', id='2ca845d0-2987-4ccb-b977-1b85c5d27a33'), HumanMessage(content='(User just joined the call, please welcome and introduce yourself:)', id='1f2f3caa-381d-4bd1-9348-04e6c6efc792'), HumanMessage(content='(Now the user has been silent in a while, ask them if they are doing well.)', id='b0659798-e6bb-45ce-9994-a6693d3cf6c7'), HumanMessage(content='Hi', id='493f810b-1e05-4b3f-a026-f07670482c4e')], 'trigger': False, 'initialized': True, 'current_stage_idx': 0, 'events': [EventDescriptor(name=<CodingEventType.CODE_EDITOR_CONTENT_CHANGED: 'code_editor_content_changed'>, description='The candidate has changed the code in the editor (shown in diff format).'), EventDescriptor(name=<CodingEventType.USER_DEFINED_TEST_CASE_SET_UPDATED: 'user_defined_test_cases_changed'>, description='The candidate has updated the user-defined test cases set.'), EventDescriptor(name=<CodingEventType.USER_DEFINED_TEST_CASE_EXECUTED: 'user_defined_test_case_executed'>, description='The candidate has executed the user-defined test cases. Results will be shown in the console.')], 'steps': {}, 'completed_steps': [], 'tool_call_detected': False, 'round_until_next_confirmation': 0}, next=[], config={'configurable': {'thread_id': '1', 'checkpoint_ns': '', 'checkpoint_id': '1efc52ef-0967-6d84-8005-0310f3f9ecc7'}}, metadata={'source': 'loop', 'writes': {'on_trigger': {'tool_call_detected': False, 'round_until_next_confirmation': 0, 'trigger': False, 'event': None, 'event_data': None}}, 'thread_id': '1', 'session_id1': 'abc', 'step': 5, 'parents': {}}, created_at='2024-12-28T15:18:06.733622+00:00', parent_config={'configurable': {'thread_id': '1', 'checkpoint_ns': '', 'checkpoint_id': '1efc52ef-0952-6b5a-8004-8e55377b2e6c'}}, tasks=[]),\n",
       " StateSnapshot(values={'messages': [HumanMessage(content='Hi', id='2ca845d0-2987-4ccb-b977-1b85c5d27a33'), HumanMessage(content='(User just joined the call, please welcome and introduce yourself:)', id='1f2f3caa-381d-4bd1-9348-04e6c6efc792'), HumanMessage(content='(Now the user has been silent in a while, ask them if they are doing well.)', id='b0659798-e6bb-45ce-9994-a6693d3cf6c7'), HumanMessage(content='Hi', id='493f810b-1e05-4b3f-a026-f07670482c4e')], 'trigger': True, 'initialized': True, 'current_stage_idx': 0, 'events': [EventDescriptor(name=<CodingEventType.CODE_EDITOR_CONTENT_CHANGED: 'code_editor_content_changed'>, description='The candidate has changed the code in the editor (shown in diff format).'), EventDescriptor(name=<CodingEventType.USER_DEFINED_TEST_CASE_SET_UPDATED: 'user_defined_test_cases_changed'>, description='The candidate has updated the user-defined test cases set.'), EventDescriptor(name=<CodingEventType.USER_DEFINED_TEST_CASE_EXECUTED: 'user_defined_test_case_executed'>, description='The candidate has executed the user-defined test cases. Results will be shown in the console.')], 'steps': {}, 'completed_steps': []}, next=['on_trigger'], config={'configurable': {'thread_id': '1', 'checkpoint_ns': '', 'checkpoint_id': '1efc52ef-0952-6b5a-8004-8e55377b2e6c'}}, metadata={'source': 'loop', 'writes': None, 'thread_id': '1', 'session_id1': 'abc', 'step': 4, 'parents': {}}, created_at='2024-12-28T15:18:06.724964+00:00', parent_config={'configurable': {'thread_id': '1', 'checkpoint_ns': '', 'checkpoint_id': '1efc52ef-093e-6ca4-8003-4d8d92af0cbc'}}, tasks=[['69686bc6-7662-9694-9562-b368bf18c0af', 'on_trigger', ['__pregel_pull', 'on_trigger'], None, [], None, {'tool_call_detected': False, 'round_until_next_confirmation': 0, 'trigger': False, 'event': None, 'event_data': None}]]),\n",
       " StateSnapshot(values={'messages': [HumanMessage(content='Hi', id='2ca845d0-2987-4ccb-b977-1b85c5d27a33'), HumanMessage(content='(User just joined the call, please welcome and introduce yourself:)', id='1f2f3caa-381d-4bd1-9348-04e6c6efc792'), HumanMessage(content='(Now the user has been silent in a while, ask them if they are doing well.)', id='b0659798-e6bb-45ce-9994-a6693d3cf6c7')], 'trigger': True, 'initialized': True, 'current_stage_idx': 0, 'events': [EventDescriptor(name=<CodingEventType.CODE_EDITOR_CONTENT_CHANGED: 'code_editor_content_changed'>, description='The candidate has changed the code in the editor (shown in diff format).'), EventDescriptor(name=<CodingEventType.USER_DEFINED_TEST_CASE_SET_UPDATED: 'user_defined_test_cases_changed'>, description='The candidate has updated the user-defined test cases set.'), EventDescriptor(name=<CodingEventType.USER_DEFINED_TEST_CASE_EXECUTED: 'user_defined_test_case_executed'>, description='The candidate has executed the user-defined test cases. Results will be shown in the console.')], 'steps': {}, 'completed_steps': []}, next=['__start__'], config={'configurable': {'thread_id': '1', 'checkpoint_ns': '', 'checkpoint_id': '1efc52ef-093e-6ca4-8003-4d8d92af0cbc'}}, metadata={'source': 'input', 'writes': {'__start__': {'messages': ['Hi']}}, 'thread_id': '1', 'session_id1': 'abc', 'step': 3, 'parents': {}}, created_at='2024-12-28T15:18:06.716807+00:00', parent_config={'configurable': {'thread_id': '1', 'checkpoint_ns': '', 'checkpoint_id': '1efc52ef-0935-63ac-8002-9a548a650013'}}, tasks=[['9622afc5-0542-a924-3f6e-d8c9b6987bdd', '__start__', ['__pregel_pull', '__start__'], None, [], None, {'messages': ['Hi']}]]),\n",
       " StateSnapshot(values={'messages': [HumanMessage(content='Hi', id='2ca845d0-2987-4ccb-b977-1b85c5d27a33'), HumanMessage(content='(User just joined the call, please welcome and introduce yourself:)', id='1f2f3caa-381d-4bd1-9348-04e6c6efc792'), HumanMessage(content='(Now the user has been silent in a while, ask them if they are doing well.)', id='b0659798-e6bb-45ce-9994-a6693d3cf6c7')], 'trigger': True, 'initialized': True, 'current_stage_idx': 0, 'events': [EventDescriptor(name=<CodingEventType.CODE_EDITOR_CONTENT_CHANGED: 'code_editor_content_changed'>, description='The candidate has changed the code in the editor (shown in diff format).'), EventDescriptor(name=<CodingEventType.USER_DEFINED_TEST_CASE_SET_UPDATED: 'user_defined_test_cases_changed'>, description='The candidate has updated the user-defined test cases set.'), EventDescriptor(name=<CodingEventType.USER_DEFINED_TEST_CASE_EXECUTED: 'user_defined_test_case_executed'>, description='The candidate has executed the user-defined test cases. Results will be shown in the console.')], 'steps': {}, 'completed_steps': []}, next=[], config={'configurable': {'thread_id': '1', 'checkpoint_ns': '', 'checkpoint_id': '1efc52ef-0935-63ac-8002-9a548a650013'}}, metadata={'source': 'loop', 'writes': {'on_event': {'trigger': True, 'messages': HumanMessage(content='(Now the user has been silent in a while, ask them if they are doing well.)', id='b0659798-e6bb-45ce-9994-a6693d3cf6c7'), 'event': None, 'event_data': None}}, 'thread_id': '1', 'session_id1': 'abc', 'step': 2, 'parents': {}}, created_at='2024-12-28T15:18:06.712894+00:00', parent_config={'configurable': {'thread_id': '1', 'checkpoint_ns': '', 'checkpoint_id': '1efc52ef-0928-66e8-8001-e75d41bdae8f'}}, tasks=[]),\n",
       " StateSnapshot(values={'messages': [HumanMessage(content='Hi', id='2ca845d0-2987-4ccb-b977-1b85c5d27a33'), HumanMessage(content='(User just joined the call, please welcome and introduce yourself:)', id='1f2f3caa-381d-4bd1-9348-04e6c6efc792')], 'event': 'reminder', 'initialized': True, 'current_stage_idx': 0, 'events': [EventDescriptor(name=<CodingEventType.CODE_EDITOR_CONTENT_CHANGED: 'code_editor_content_changed'>, description='The candidate has changed the code in the editor (shown in diff format).'), EventDescriptor(name=<CodingEventType.USER_DEFINED_TEST_CASE_SET_UPDATED: 'user_defined_test_cases_changed'>, description='The candidate has updated the user-defined test cases set.'), EventDescriptor(name=<CodingEventType.USER_DEFINED_TEST_CASE_EXECUTED: 'user_defined_test_case_executed'>, description='The candidate has executed the user-defined test cases. Results will be shown in the console.')], 'steps': {}, 'completed_steps': []}, next=['on_event'], config={'configurable': {'thread_id': '1', 'checkpoint_ns': '', 'checkpoint_id': '1efc52ef-0928-66e8-8001-e75d41bdae8f'}}, metadata={'source': 'loop', 'writes': {'init_state': {'initialized': True, 'current_stage_idx': 0, 'messages': [HumanMessage(content='(User just joined the call, please welcome and introduce yourself:)', id='1f2f3caa-381d-4bd1-9348-04e6c6efc792')], 'events': [EventDescriptor(name=<CodingEventType.CODE_EDITOR_CONTENT_CHANGED: 'code_editor_content_changed'>, description='The candidate has changed the code in the editor (shown in diff format).'), EventDescriptor(name=<CodingEventType.USER_DEFINED_TEST_CASE_SET_UPDATED: 'user_defined_test_cases_changed'>, description='The candidate has updated the user-defined test cases set.'), EventDescriptor(name=<CodingEventType.USER_DEFINED_TEST_CASE_EXECUTED: 'user_defined_test_case_executed'>, description='The candidate has executed the user-defined test cases. Results will be shown in the console.')], 'steps': {}, 'completed_steps': []}}, 'thread_id': '1', 'session_id1': 'abc', 'step': 1, 'parents': {}}, created_at='2024-12-28T15:18:06.707655+00:00', parent_config={'configurable': {'thread_id': '1', 'checkpoint_ns': '', 'checkpoint_id': '1efc52ef-090d-65c8-8000-231cc5a18381'}}, tasks=[['b539fda8-dfd3-07ee-a293-e227728bc01b', 'on_event', ['__pregel_pull', 'on_event'], None, [], None, {'trigger': True, 'messages': HumanMessage(content='(Now the user has been silent in a while, ask them if they are doing well.)', id='b0659798-e6bb-45ce-9994-a6693d3cf6c7'), 'event': None, 'event_data': None}]]),\n",
       " StateSnapshot(values={'messages': [HumanMessage(content='Hi', id='2ca845d0-2987-4ccb-b977-1b85c5d27a33')], 'event': 'reminder', 'completed_steps': []}, next=['init_state'], config={'configurable': {'thread_id': '1', 'checkpoint_ns': '', 'checkpoint_id': '1efc52ef-090d-65c8-8000-231cc5a18381'}}, metadata={'source': 'loop', 'writes': None, 'thread_id': '1', 'session_id1': 'abc', 'step': 0, 'parents': {}}, created_at='2024-12-28T15:18:06.696569+00:00', parent_config={'configurable': {'thread_id': '1', 'checkpoint_ns': '', 'checkpoint_id': '1efc52ef-0834-602a-bfff-59f54f4100c7'}}, tasks=[['c8586206-5458-a554-07d8-138844aea5ea', 'init_state', ['__pregel_pull', 'init_state'], None, [], None, {'initialized': True, 'current_stage_idx': 0, 'messages': [HumanMessage(content='(User just joined the call, please welcome and introduce yourself:)', id='1f2f3caa-381d-4bd1-9348-04e6c6efc792')], 'events': [EventDescriptor(name=<CodingEventType.CODE_EDITOR_CONTENT_CHANGED: 'code_editor_content_changed'>, description='The candidate has changed the code in the editor (shown in diff format).'), EventDescriptor(name=<CodingEventType.USER_DEFINED_TEST_CASE_SET_UPDATED: 'user_defined_test_cases_changed'>, description='The candidate has updated the user-defined test cases set.'), EventDescriptor(name=<CodingEventType.USER_DEFINED_TEST_CASE_EXECUTED: 'user_defined_test_case_executed'>, description='The candidate has executed the user-defined test cases. Results will be shown in the console.')], 'steps': {}, 'completed_steps': []}]]),\n",
       " StateSnapshot(values={'messages': [], 'completed_steps': []}, next=['__start__'], config={'configurable': {'thread_id': '1', 'checkpoint_ns': '', 'checkpoint_id': '1efc52ef-0834-602a-bfff-59f54f4100c7'}}, metadata={'source': 'input', 'writes': {'__start__': {'messages': ['Hi'], 'event': 'reminder'}}, 'thread_id': '1', 'session_id1': 'abc', 'step': -1, 'parents': {}}, created_at='2024-12-28T15:18:06.607560+00:00', parent_config=None, tasks=[['fd563472-08e5-d1c4-39fa-c61ce179473f', '__start__', ['__pregel_pull', '__start__'], None, [], None, {'messages': ['Hi'], 'event': 'reminder'}]])]"
      ]
     },
     "execution_count": 12,
     "metadata": {},
     "output_type": "execute_result"
    }
   ],
   "source": [
    "loaded_history = loads(dumped_history, valid_namespaces=[\"agent_graph\"])\n",
    "loaded_history_snapshot = [StateSnapshot(*h) for h in loaded_history]\n",
    "loaded_history_snapshot"
   ]
  },
  {
   "cell_type": "code",
   "execution_count": 13,
   "metadata": {},
   "outputs": [
    {
     "data": {
      "text/plain": [
       "(False, True)"
      ]
     },
     "execution_count": 13,
     "metadata": {},
     "output_type": "execute_result"
    }
   ],
   "source": [
    "loaded_history_snapshot == history, dumpd(loaded_history_snapshot) == dumpd(history)"
   ]
  },
  {
   "cell_type": "code",
   "execution_count": 14,
   "metadata": {},
   "outputs": [
    {
     "name": "stdout",
     "output_type": "stream",
     "text": [
      "State: 2.26 KB\n",
      "State History: 14.24 KB\n"
     ]
    }
   ],
   "source": [
    "dumped_state_byte = dumped_state.encode()\n",
    "dumped_history_byte = dumped_history.encode()\n",
    "print(f\"State: {len(dumped_state_byte) / 1024:.2f} KB\")\n",
    "print(f\"State History: {len(dumped_history_byte) / 1024:.2f} KB\")"
   ]
  },
  {
   "cell_type": "code",
   "execution_count": null,
   "metadata": {},
   "outputs": [],
   "source": [
    "!pip install graphviz"
   ]
  },
  {
   "cell_type": "code",
   "execution_count": null,
   "metadata": {},
   "outputs": [],
   "source": [
    "a = graph.get_graph().draw_mermaid()"
   ]
  },
  {
   "cell_type": "code",
   "execution_count": 7,
   "metadata": {},
   "outputs": [],
   "source": [
    "with open(\"graph.md\", \"w\") as f:\n",
    "    f.write(a)"
   ]
  },
  {
   "cell_type": "code",
   "execution_count": null,
   "metadata": {},
   "outputs": [],
   "source": [
    "from pydantic.v1 import BaseModel, Field, PrivateAttr\n",
    "\n",
    "\n",
    "class User(BaseModel):\n",
    "    name: str\n",
    "    age: int\n",
    "    _a: str = PrivateAttr(...)\n",
    "\n",
    "    def __init__(self, **kwargs):\n",
    "        super().__init__(**kwargs)\n",
    "        print(\"base class init\")\n",
    "        self._a = \"a\"\n",
    "\n",
    "\n",
    "class User2(User):\n",
    "\n",
    "    c: str = Field(...)\n",
    "\n",
    "\n",
    "user = User2(name=\"Charlie\", age=20, c=\"c\")\n",
    "print(user)  # Output: 50"
   ]
  },
  {
   "cell_type": "code",
   "execution_count": null,
   "metadata": {},
   "outputs": [],
   "source": [
    "from langchain_anthropic import ChatAnthropic\n",
    "from langchain_core.prompts import ChatPromptTemplate, SystemMessagePromptTemplate, HumanMessagePromptTemplate\n",
    "from langchain_core.messages import HumanMessage, SystemMessage\n",
    "from langchain_openai import ChatOpenAI\n",
    "from dotenv import load_dotenv, find_dotenv\n",
    "\n",
    "load_dotenv(find_dotenv())\n",
    "\n",
    "CACHE_CONFIG = {\"cache_control\": {\"type\": \"ephemeral\"}}\n",
    "\n",
    "prompt = ChatPromptTemplate.from_messages(\n",
    "    [\n",
    "        SystemMessagePromptTemplate.from_template(\n",
    "            template=\"You are a {role} assistant.\" * 1000,\n",
    "            additional_kwargs=CACHE_CONFIG,\n",
    "        ),\n",
    "        HumanMessagePromptTemplate.from_template(\n",
    "            template=\"{input}\",\n",
    "            additional_kwargs=CACHE_CONFIG,\n",
    "        ),\n",
    "    ]\n",
    ")\n",
    "\n",
    "chat = ChatAnthropic(\n",
    "    model_name=\"claude-3-5-haiku-20241022\",\n",
    "    extra_headers={\"anthropic-beta\": \"prompt-caching-2024-07-31\"},  # type: ignore\n",
    ")\n",
    "\n",
    "openai = ChatOpenAI(name=\"gpt-4o-mini\")\n",
    "\n",
    "chain = prompt | chat\n",
    "# chain.invoke(\n",
    "#     {\n",
    "#         \"role\": \"helpful\",\n",
    "#         \"input\": \"What is second page of the shakespeare?\",\n",
    "#     }\n",
    "# ).dict()\n"
   ]
  },
  {
   "cell_type": "code",
   "execution_count": null,
   "metadata": {},
   "outputs": [],
   "source": [
    "openai.invoke(\n",
    "    [\n",
    "        SystemMessage(\n",
    "            content=[\n",
    "                {\n",
    "                    \"text\": \"You are a helpful assistant.\" * 1000,\n",
    "                    \"type\": \"text\",\n",
    "                    **CACHE_CONFIG,\n",
    "                }\n",
    "            ],\n",
    "        ),\n",
    "        HumanMessage(\n",
    "            content=[\n",
    "                {\n",
    "                    \"text\": \"What is second page of the shakespeare?\",\n",
    "                    \"type\": \"text\",\n",
    "                    **CACHE_CONFIG,\n",
    "                }\n",
    "            ],\n",
    "        ),\n",
    "        HumanMessage(\n",
    "            content=[\n",
    "                {\n",
    "                    \"text\": \"What is first page of the shakespeare?\",\n",
    "                    \"type\": \"text\",\n",
    "                    **CACHE_CONFIG,\n",
    "                }\n",
    "            ],\n",
    "        ),\n",
    "    ]\n",
    ").dict()"
   ]
  },
  {
   "cell_type": "code",
   "execution_count": null,
   "metadata": {},
   "outputs": [],
   "source": [
    "import json\n",
    "import time\n",
    "\n",
    "\n",
    "json.dumps(\n",
    "    {\n",
    "        \"context\": \"test\",\n",
    "        \"name\": \"test\",\n",
    "        \"time\": time.time(),\n",
    "    }\n",
    ")\n"
   ]
  }
 ],
 "metadata": {
  "kernelspec": {
   "display_name": ".venv",
   "language": "python",
   "name": "python3"
  },
  "language_info": {
   "codemirror_mode": {
    "name": "ipython",
    "version": 3
   },
   "file_extension": ".py",
   "mimetype": "text/x-python",
   "name": "python",
   "nbconvert_exporter": "python",
   "pygments_lexer": "ipython3",
   "version": "3.12.1"
  }
 },
 "nbformat": 4,
 "nbformat_minor": 2
}
